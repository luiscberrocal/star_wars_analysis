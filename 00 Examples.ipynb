{
 "cells": [
  {
   "cell_type": "markdown",
   "id": "3c9840aa",
   "metadata": {},
   "source": [
    "# Pandas Examples"
   ]
  },
  {
   "cell_type": "code",
   "execution_count": 20,
   "id": "bc90cba4",
   "metadata": {},
   "outputs": [],
   "source": [
    "import pandas as pd\n",
    "import matplotlib.pyplot as plt\n",
    "import seaborn as sns\n",
    "import re\n",
    "import json\n",
    "from utils import parsing\n",
    "import nltk\n"
   ]
  },
  {
   "cell_type": "markdown",
   "id": "5ac6385f",
   "metadata": {},
   "source": [
    "## Configuration"
   ]
  },
  {
   "cell_type": "markdown",
   "id": "6bd2bc3b",
   "metadata": {},
   "source": [
    "### Variables"
   ]
  },
  {
   "cell_type": "code",
   "execution_count": 21,
   "id": "b05389cd",
   "metadata": {},
   "outputs": [],
   "source": [
    "save_files = True"
   ]
  },
  {
   "cell_type": "markdown",
   "id": "164479e8",
   "metadata": {},
   "source": [
    "### Loading data"
   ]
  },
  {
   "cell_type": "code",
   "execution_count": 22,
   "id": "51a75f09",
   "metadata": {},
   "outputs": [
    {
     "name": "stdout",
     "output_type": "stream",
     "text": [
      "Shape: (4986, 3)\n"
     ]
    },
    {
     "data": {
      "text/html": [
       "<div>\n",
       "<style scoped>\n",
       "    .dataframe tbody tr th:only-of-type {\n",
       "        vertical-align: middle;\n",
       "    }\n",
       "\n",
       "    .dataframe tbody tr th {\n",
       "        vertical-align: top;\n",
       "    }\n",
       "\n",
       "    .dataframe thead th {\n",
       "        text-align: right;\n",
       "    }\n",
       "</style>\n",
       "<table border=\"1\" class=\"dataframe\">\n",
       "  <thead>\n",
       "    <tr style=\"text-align: right;\">\n",
       "      <th></th>\n",
       "      <th>character</th>\n",
       "      <th>dialogue</th>\n",
       "      <th>episode</th>\n",
       "    </tr>\n",
       "  </thead>\n",
       "  <tbody>\n",
       "    <tr>\n",
       "      <th>1</th>\n",
       "      <td>THREEPIO</td>\n",
       "      <td>Did you hear that?  They've shut down the main...</td>\n",
       "      <td>A New Hope</td>\n",
       "    </tr>\n",
       "    <tr>\n",
       "      <th>2</th>\n",
       "      <td>THREEPIO</td>\n",
       "      <td>We're doomed!</td>\n",
       "      <td>A New Hope</td>\n",
       "    </tr>\n",
       "    <tr>\n",
       "      <th>3</th>\n",
       "      <td>THREEPIO</td>\n",
       "      <td>There'll be no escape for the Princess this time.</td>\n",
       "      <td>A New Hope</td>\n",
       "    </tr>\n",
       "    <tr>\n",
       "      <th>4</th>\n",
       "      <td>THREEPIO</td>\n",
       "      <td>What's that?</td>\n",
       "      <td>A New Hope</td>\n",
       "    </tr>\n",
       "    <tr>\n",
       "      <th>5</th>\n",
       "      <td>THREEPIO</td>\n",
       "      <td>I should have known better than to trust the l...</td>\n",
       "      <td>A New Hope</td>\n",
       "    </tr>\n",
       "  </tbody>\n",
       "</table>\n",
       "</div>"
      ],
      "text/plain": [
       "  character                                           dialogue     episode\n",
       "1  THREEPIO  Did you hear that?  They've shut down the main...  A New Hope\n",
       "2  THREEPIO                                      We're doomed!  A New Hope\n",
       "3  THREEPIO  There'll be no escape for the Princess this time.  A New Hope\n",
       "4  THREEPIO                                       What's that?  A New Hope\n",
       "5  THREEPIO  I should have known better than to trust the l...  A New Hope"
      ]
     },
     "execution_count": 22,
     "metadata": {},
     "output_type": "execute_result"
    }
   ],
   "source": [
    "filename = './data/star_wars_dialogue.pkl'\n",
    "df = pd.read_pickle(filename)\n",
    "\n",
    "print(f'Shape: {df.shape}')\n",
    "\n",
    "df.head()"
   ]
  },
  {
   "cell_type": "markdown",
   "id": "1e9940be",
   "metadata": {},
   "source": [
    "## Matplotlib and Seaborn"
   ]
  },
  {
   "cell_type": "markdown",
   "id": "9d660cda",
   "metadata": {},
   "source": [
    "### Horizontal Barplot top 20"
   ]
  },
  {
   "cell_type": "code",
   "execution_count": 23,
   "id": "6d585614",
   "metadata": {},
   "outputs": [
    {
     "data": {
      "image/png": "[encoded data removed]",
      "text/plain": [
       "<Figure size 288x288 with 1 Axes>"
      ]
     },
     "metadata": {
      "needs_background": "light"
     },
     "output_type": "display_data"
    }
   ],
   "source": [
    "character_series = df['character'].value_counts()[:20,]\n",
    "plt.figure(figsize=(4, 4))\n",
    "ax = sns.barplot(x=character_series.values, y=character_series.index, color='blue', alpha=0.5)\n",
    "\n",
    "ax.set_title(f'Line count per Episode')\n",
    "plt.show()"
   ]
  },
  {
   "cell_type": "markdown",
   "id": "7c12466c",
   "metadata": {},
   "source": [
    "### Horizontal Barplots with values"
   ]
  },
  {
   "cell_type": "code",
   "execution_count": 24,
   "id": "2abd8119",
   "metadata": {
    "scrolled": true
   },
   "outputs": [
    {
     "data": {
      "image/png": "[encoded data removed]",
      "text/plain": [
       "<Figure size 288x288 with 1 Axes>"
      ]
     },
     "metadata": {
      "needs_background": "light"
     },
     "output_type": "display_data"
    }
   ],
   "source": [
    "character_series = df['episode'].value_counts()\n",
    "plt.figure(figsize=(4, 4))\n",
    "ax = sns.barplot(x=character_series.values, y=character_series.index, color='green',\n",
    "                 alpha=0.6)\n",
    "for p in ax.patches:\n",
    "    annotation_value =format(p.get_width(), '.0f')\n",
    "    x_pos = (p.get_x() + p.get_width())/2.\n",
    "    y_pos =  p.get_y() + p.get_height()/2.\n",
    "    ax.annotate(annotation_value, \n",
    "                (x_pos, y_pos), ha = 'center', va = 'center', \n",
    "                xytext = (0, 0), \n",
    "                textcoords = 'offset points')\n",
    "ax.set_title(f'Line count per Episode')\n",
    "plt.show()"
   ]
  },
  {
   "cell_type": "markdown",
   "id": "32e94c5b",
   "metadata": {},
   "source": [
    "### Save figure to file"
   ]
  },
  {
   "cell_type": "code",
   "execution_count": 25,
   "id": "8de1e315",
   "metadata": {},
   "outputs": [
    {
     "name": "stdout",
     "output_type": "stream",
     "text": [
      "./output/bar_plot_episdoes.png\n"
     ]
    }
   ],
   "source": [
    "if save_files:\n",
    "    fig = ax.get_figure()\n",
    "    png_filename = './output/bar_plot_episdoes.png'\n",
    "    fig.savefig(png_filename)\n",
    "    print(f'{png_filename}')"
   ]
  },
  {
   "cell_type": "markdown",
   "id": "3804b547",
   "metadata": {},
   "source": [
    "### Histograms"
   ]
  },
  {
   "cell_type": "code",
   "execution_count": 26,
   "id": "98dca0c8",
   "metadata": {},
   "outputs": [
    {
     "data": {
      "image/png": "[encoded data removed]",
      "text/plain": [
       "<Figure size 432x288 with 1 Axes>"
      ]
     },
     "metadata": {
      "needs_background": "light"
     },
     "output_type": "display_data"
    }
   ],
   "source": [
    "ax = sns.histplot( x=character_series.index)\n",
    "plt.show()"
   ]
  },
  {
   "cell_type": "markdown",
   "id": "026b96d5",
   "metadata": {},
   "source": [
    "## Dataframe"
   ]
  },
  {
   "cell_type": "markdown",
   "id": "e2547d39",
   "metadata": {},
   "source": [
    "### List columns"
   ]
  },
  {
   "cell_type": "code",
   "execution_count": 27,
   "id": "f8c3bdb9",
   "metadata": {},
   "outputs": [
    {
     "name": "stdout",
     "output_type": "stream",
     "text": [
      "['character', 'dialogue', 'episode']\n"
     ]
    }
   ],
   "source": [
    "columns = list(df.columns)\n",
    "print(columns)"
   ]
  },
  {
   "cell_type": "markdown",
   "id": "78f5e069",
   "metadata": {},
   "source": [
    "### Change Column Order"
   ]
  },
  {
   "cell_type": "code",
   "execution_count": 28,
   "id": "552af85f",
   "metadata": {},
   "outputs": [
    {
     "data": {
      "text/html": [
       "<div>\n",
       "<style scoped>\n",
       "    .dataframe tbody tr th:only-of-type {\n",
       "        vertical-align: middle;\n",
       "    }\n",
       "\n",
       "    .dataframe tbody tr th {\n",
       "        vertical-align: top;\n",
       "    }\n",
       "\n",
       "    .dataframe thead th {\n",
       "        text-align: right;\n",
       "    }\n",
       "</style>\n",
       "<table border=\"1\" class=\"dataframe\">\n",
       "  <thead>\n",
       "    <tr style=\"text-align: right;\">\n",
       "      <th></th>\n",
       "      <th>episode</th>\n",
       "      <th>character</th>\n",
       "      <th>dialogue</th>\n",
       "    </tr>\n",
       "  </thead>\n",
       "  <tbody>\n",
       "    <tr>\n",
       "      <th>1</th>\n",
       "      <td>A New Hope</td>\n",
       "      <td>THREEPIO</td>\n",
       "      <td>Did you hear that?  They've shut down the main...</td>\n",
       "    </tr>\n",
       "    <tr>\n",
       "      <th>2</th>\n",
       "      <td>A New Hope</td>\n",
       "      <td>THREEPIO</td>\n",
       "      <td>We're doomed!</td>\n",
       "    </tr>\n",
       "    <tr>\n",
       "      <th>3</th>\n",
       "      <td>A New Hope</td>\n",
       "      <td>THREEPIO</td>\n",
       "      <td>There'll be no escape for the Princess this time.</td>\n",
       "    </tr>\n",
       "    <tr>\n",
       "      <th>4</th>\n",
       "      <td>A New Hope</td>\n",
       "      <td>THREEPIO</td>\n",
       "      <td>What's that?</td>\n",
       "    </tr>\n",
       "    <tr>\n",
       "      <th>5</th>\n",
       "      <td>A New Hope</td>\n",
       "      <td>THREEPIO</td>\n",
       "      <td>I should have known better than to trust the l...</td>\n",
       "    </tr>\n",
       "  </tbody>\n",
       "</table>\n",
       "</div>"
      ],
      "text/plain": [
       "      episode character                                           dialogue\n",
       "1  A New Hope  THREEPIO  Did you hear that?  They've shut down the main...\n",
       "2  A New Hope  THREEPIO                                      We're doomed!\n",
       "3  A New Hope  THREEPIO  There'll be no escape for the Princess this time.\n",
       "4  A New Hope  THREEPIO                                       What's that?\n",
       "5  A New Hope  THREEPIO  I should have known better than to trust the l..."
      ]
     },
     "execution_count": 28,
     "metadata": {},
     "output_type": "execute_result"
    }
   ],
   "source": [
    "df = df.reindex(columns=['episode', 'character', 'dialogue', ])\n",
    "\n",
    "df.head()"
   ]
  },
  {
   "cell_type": "markdown",
   "id": "3980b9a5",
   "metadata": {},
   "source": [
    "### Using df.apply()"
   ]
  },
  {
   "cell_type": "code",
   "execution_count": 29,
   "id": "204ee3cc",
   "metadata": {
    "scrolled": true
   },
   "outputs": [
    {
     "data": {
      "text/html": [
       "<div>\n",
       "<style scoped>\n",
       "    .dataframe tbody tr th:only-of-type {\n",
       "        vertical-align: middle;\n",
       "    }\n",
       "\n",
       "    .dataframe tbody tr th {\n",
       "        vertical-align: top;\n",
       "    }\n",
       "\n",
       "    .dataframe thead th {\n",
       "        text-align: right;\n",
       "    }\n",
       "</style>\n",
       "<table border=\"1\" class=\"dataframe\">\n",
       "  <thead>\n",
       "    <tr style=\"text-align: right;\">\n",
       "      <th></th>\n",
       "      <th>episode</th>\n",
       "      <th>character</th>\n",
       "      <th>dialogue</th>\n",
       "      <th>word_count</th>\n",
       "    </tr>\n",
       "  </thead>\n",
       "  <tbody>\n",
       "    <tr>\n",
       "      <th>1</th>\n",
       "      <td>A New Hope</td>\n",
       "      <td>THREEPIO</td>\n",
       "      <td>Did you hear that?  They've shut down the main...</td>\n",
       "      <td>21</td>\n",
       "    </tr>\n",
       "    <tr>\n",
       "      <th>2</th>\n",
       "      <td>A New Hope</td>\n",
       "      <td>THREEPIO</td>\n",
       "      <td>We're doomed!</td>\n",
       "      <td>2</td>\n",
       "    </tr>\n",
       "    <tr>\n",
       "      <th>3</th>\n",
       "      <td>A New Hope</td>\n",
       "      <td>THREEPIO</td>\n",
       "      <td>There'll be no escape for the Princess this time.</td>\n",
       "      <td>9</td>\n",
       "    </tr>\n",
       "    <tr>\n",
       "      <th>4</th>\n",
       "      <td>A New Hope</td>\n",
       "      <td>THREEPIO</td>\n",
       "      <td>What's that?</td>\n",
       "      <td>2</td>\n",
       "    </tr>\n",
       "    <tr>\n",
       "      <th>5</th>\n",
       "      <td>A New Hope</td>\n",
       "      <td>THREEPIO</td>\n",
       "      <td>I should have known better than to trust the l...</td>\n",
       "      <td>16</td>\n",
       "    </tr>\n",
       "  </tbody>\n",
       "</table>\n",
       "</div>"
      ],
      "text/plain": [
       "      episode character                                           dialogue  \\\n",
       "1  A New Hope  THREEPIO  Did you hear that?  They've shut down the main...   \n",
       "2  A New Hope  THREEPIO                                      We're doomed!   \n",
       "3  A New Hope  THREEPIO  There'll be no escape for the Princess this time.   \n",
       "4  A New Hope  THREEPIO                                       What's that?   \n",
       "5  A New Hope  THREEPIO  I should have known better than to trust the l...   \n",
       "\n",
       "   word_count  \n",
       "1          21  \n",
       "2           2  \n",
       "3           9  \n",
       "4           2  \n",
       "5          16  "
      ]
     },
     "execution_count": 29,
     "metadata": {},
     "output_type": "execute_result"
    }
   ],
   "source": [
    "def simple_word_count(text):\n",
    "    word_list = text.split(' ')\n",
    "    return len(word_list)\n",
    "\n",
    "df['word_count'] = df['dialogue'].apply(simple_word_count)\n",
    "\n",
    "df.head()"
   ]
  },
  {
   "cell_type": "code",
   "execution_count": 38,
   "id": "432c6088",
   "metadata": {},
   "outputs": [
    {
     "data": {
      "text/html": [
       "<div>\n",
       "<style scoped>\n",
       "    .dataframe tbody tr th:only-of-type {\n",
       "        vertical-align: middle;\n",
       "    }\n",
       "\n",
       "    .dataframe tbody tr th {\n",
       "        vertical-align: top;\n",
       "    }\n",
       "\n",
       "    .dataframe thead th {\n",
       "        text-align: right;\n",
       "    }\n",
       "</style>\n",
       "<table border=\"1\" class=\"dataframe\">\n",
       "  <thead>\n",
       "    <tr style=\"text-align: right;\">\n",
       "      <th></th>\n",
       "      <th>episode</th>\n",
       "      <th>character</th>\n",
       "      <th>dialogue</th>\n",
       "      <th>word_count</th>\n",
       "      <th>is_jedi</th>\n",
       "      <th>invoque_the_force</th>\n",
       "    </tr>\n",
       "  </thead>\n",
       "  <tbody>\n",
       "    <tr>\n",
       "      <th>1</th>\n",
       "      <td>A New Hope</td>\n",
       "      <td>THREEPIO</td>\n",
       "      <td>Did you hear that?  They've shut down the main...</td>\n",
       "      <td>21</td>\n",
       "      <td>False</td>\n",
       "      <td>False</td>\n",
       "    </tr>\n",
       "    <tr>\n",
       "      <th>2</th>\n",
       "      <td>A New Hope</td>\n",
       "      <td>THREEPIO</td>\n",
       "      <td>We're doomed!</td>\n",
       "      <td>2</td>\n",
       "      <td>False</td>\n",
       "      <td>False</td>\n",
       "    </tr>\n",
       "    <tr>\n",
       "      <th>3</th>\n",
       "      <td>A New Hope</td>\n",
       "      <td>THREEPIO</td>\n",
       "      <td>There'll be no escape for the Princess this time.</td>\n",
       "      <td>9</td>\n",
       "      <td>False</td>\n",
       "      <td>False</td>\n",
       "    </tr>\n",
       "    <tr>\n",
       "      <th>4</th>\n",
       "      <td>A New Hope</td>\n",
       "      <td>THREEPIO</td>\n",
       "      <td>What's that?</td>\n",
       "      <td>2</td>\n",
       "      <td>False</td>\n",
       "      <td>False</td>\n",
       "    </tr>\n",
       "    <tr>\n",
       "      <th>5</th>\n",
       "      <td>A New Hope</td>\n",
       "      <td>THREEPIO</td>\n",
       "      <td>I should have known better than to trust the l...</td>\n",
       "      <td>16</td>\n",
       "      <td>False</td>\n",
       "      <td>False</td>\n",
       "    </tr>\n",
       "  </tbody>\n",
       "</table>\n",
       "</div>"
      ],
      "text/plain": [
       "      episode character                                           dialogue  \\\n",
       "1  A New Hope  THREEPIO  Did you hear that?  They've shut down the main...   \n",
       "2  A New Hope  THREEPIO                                      We're doomed!   \n",
       "3  A New Hope  THREEPIO  There'll be no escape for the Princess this time.   \n",
       "4  A New Hope  THREEPIO                                       What's that?   \n",
       "5  A New Hope  THREEPIO  I should have known better than to trust the l...   \n",
       "\n",
       "   word_count  is_jedi  invoque_the_force  \n",
       "1          21    False              False  \n",
       "2           2    False              False  \n",
       "3           9    False              False  \n",
       "4           2    False              False  \n",
       "5          16    False              False  "
      ]
     },
     "execution_count": 38,
     "metadata": {},
     "output_type": "execute_result"
    }
   ],
   "source": [
    "def check_for_the_force(text):\n",
    "    return 'the force' in text.lower()\n",
    "\n",
    "df['invoque_the_force'] = df['dialogue'].apply(check_for_the_force)\n",
    "\n",
    "df.head()"
   ]
  },
  {
   "cell_type": "code",
   "execution_count": 39,
   "id": "300e1834",
   "metadata": {},
   "outputs": [
    {
     "data": {
      "text/plain": [
       "False    4863\n",
       "True       89\n",
       "Name: invoque_the_force, dtype: int64"
      ]
     },
     "execution_count": 39,
     "metadata": {},
     "output_type": "execute_result"
    }
   ],
   "source": [
    "df['invoque_the_force'].value_counts()"
   ]
  },
  {
   "cell_type": "markdown",
   "id": "daf958f2",
   "metadata": {},
   "source": [
    "### Histogram"
   ]
  },
  {
   "cell_type": "code",
   "execution_count": 30,
   "id": "3da8b982",
   "metadata": {},
   "outputs": [
    {
     "data": {
      "text/plain": [
       "count    4986.000000\n",
       "mean       10.949458\n",
       "std        10.534266\n",
       "min         1.000000\n",
       "25%         4.000000\n",
       "50%         8.000000\n",
       "75%        14.000000\n",
       "max       135.000000\n",
       "Name: word_count, dtype: float64"
      ]
     },
     "execution_count": 30,
     "metadata": {},
     "output_type": "execute_result"
    }
   ],
   "source": [
    "df['word_count'].describe()"
   ]
  },
  {
   "cell_type": "code",
   "execution_count": 31,
   "id": "fb7360b7",
   "metadata": {},
   "outputs": [
    {
     "data": {
      "image/png": "[encoded data removed]",
      "text/plain": [
       "<Figure size 432x288 with 1 Axes>"
      ]
     },
     "metadata": {
      "needs_background": "light"
     },
     "output_type": "display_data"
    }
   ],
   "source": [
    "ax = sns.histplot(data=df, x=\"word_count\", bins=50, kde=True)"
   ]
  },
  {
   "cell_type": "markdown",
   "id": "d731e67b",
   "metadata": {},
   "source": [
    "### Replace data\n"
   ]
  },
  {
   "cell_type": "code",
   "execution_count": 32,
   "id": "25b25828",
   "metadata": {},
   "outputs": [
    {
     "data": {
      "text/plain": [
       "The Revenge of the Sith    1141\n",
       "A New Hope                 1010\n",
       "Attack of the Clones        887\n",
       "The Empire Strikes Back     839\n",
       "The Return of the Jedi      674\n",
       "The Phantom Menace          435\n",
       "Name: episode, dtype: int64"
      ]
     },
     "execution_count": 32,
     "metadata": {},
     "output_type": "execute_result"
    }
   ],
   "source": [
    "character_series"
   ]
  },
  {
   "cell_type": "code",
   "execution_count": 33,
   "id": "7ca7a772",
   "metadata": {},
   "outputs": [
    {
     "data": {
      "text/plain": [
       "ANAKIN         594\n",
       "LUKE           494\n",
       "HAN            459\n",
       "OBI-WAN        427\n",
       "THREEPIO       358\n",
       "PADME          318\n",
       "LEIA           227\n",
       "YODA           147\n",
       "PALPATINE      145\n",
       "VADER          140\n",
       "BEN            115\n",
       "LANDO          101\n",
       "MACE WINDU      74\n",
       "JAR JAR         70\n",
       "QUI-GON         69\n",
       "BAIL ORGANA     47\n",
       "EMPEROR         44\n",
       "RED LEADER      38\n",
       "COUNT DOOKU     35\n",
       "BIGGS           34\n",
       "Name: character, dtype: int64"
      ]
     },
     "execution_count": 33,
     "metadata": {},
     "output_type": "execute_result"
    }
   ],
   "source": [
    "condition = df['character'] == 'C-3PO'\n",
    "df.loc[condition, 'character'] = 'THREEPIO'\n",
    "\n",
    "df['character'].value_counts()[:20,]"
   ]
  },
  {
   "cell_type": "markdown",
   "id": "1c736a6d",
   "metadata": {},
   "source": [
    "### Replace Data and create new columns"
   ]
  },
  {
   "cell_type": "code",
   "execution_count": 34,
   "id": "91e5bbaf",
   "metadata": {},
   "outputs": [
    {
     "data": {
      "text/plain": [
       "False    3775\n",
       "True     1211\n",
       "Name: is_jedi, dtype: int64"
      ]
     },
     "execution_count": 34,
     "metadata": {},
     "output_type": "execute_result"
    }
   ],
   "source": [
    "condition = (df['character'] == 'LUKE') | (df['character'] == 'OBI-WAN') |\\\n",
    "            (df['character'] == 'YODA') | (df['character'] == 'MACE WINDU') | \\\n",
    "            (df['character'] == 'QUI-GON')\n",
    "\n",
    "\n",
    "df['is_jedi'] = False\n",
    "df.loc[condition, 'is_jedi'] = True\n",
    "\n",
    "df['is_jedi'].value_counts()[:20,]"
   ]
  },
  {
   "cell_type": "markdown",
   "id": "474e7b5d",
   "metadata": {},
   "source": [
    "### Drop rows with NaN in Column"
   ]
  },
  {
   "cell_type": "code",
   "execution_count": 35,
   "id": "7f47198e",
   "metadata": {},
   "outputs": [
    {
     "name": "stdout",
     "output_type": "stream",
     "text": [
      "Shape before drop: (4986, 6)\n",
      "Shape after drop: (4952, 6)\n"
     ]
    }
   ],
   "source": [
    "df['is_biggs'] = 0\n",
    "\n",
    "condition = df['character'] == 'BIGGS'\n",
    "df.loc[condition, 'is_biggs'] = float('NaN')\n",
    "print(f'Shape before drop: {df.shape}')\n",
    "\n",
    "df.dropna(subset = [\"is_biggs\"], inplace=True)\n",
    "\n",
    "print(f'Shape after drop: {df.shape}')"
   ]
  },
  {
   "cell_type": "markdown",
   "id": "b033037c",
   "metadata": {},
   "source": [
    "### Drop a Column"
   ]
  },
  {
   "cell_type": "code",
   "execution_count": 37,
   "id": "7cb203a0",
   "metadata": {},
   "outputs": [
    {
     "name": "stdout",
     "output_type": "stream",
     "text": [
      "Shape after drop: (4952, 5)\n"
     ]
    }
   ],
   "source": [
    "df.drop(columns=['is_biggs',], inplace=True)\n",
    "print(f'Shape after drop: {df.shape}')"
   ]
  },
  {
   "cell_type": "markdown",
   "id": "9613d8a7",
   "metadata": {},
   "source": [
    "## Jupyter Notebooks"
   ]
  },
  {
   "cell_type": "markdown",
   "id": "31bed487",
   "metadata": {},
   "source": [
    "### HTML Formatting\n",
    "\n",
    "Very goog article https://skelouse.github.io/styling_a_jupyter_notebook"
   ]
  },
  {
   "cell_type": "code",
   "execution_count": 17,
   "id": "988dab1b",
   "metadata": {},
   "outputs": [
    {
     "data": {
      "text/html": [
       "<div class=\"alert alert-info\">\n",
       "  <strong>Let's start with THIS blue box:</strong>\n",
       "</div>\n"
      ],
      "text/plain": [
       "<IPython.core.display.HTML object>"
      ]
     },
     "execution_count": 17,
     "metadata": {},
     "output_type": "execute_result"
    }
   ],
   "source": [
    "from IPython.core.display import HTML\n",
    "html_warning = \"\"\"<div class=\"alert alert-info\">\n",
    "  <strong>Let's start with THIS blue box:</strong>\n",
    "</div>\n",
    "\"\"\"\n",
    "HTML(html_warning)"
   ]
  },
  {
   "cell_type": "code",
   "execution_count": 18,
   "id": "33645ebc",
   "metadata": {},
   "outputs": [
    {
     "data": {
      "text/html": [
       "<div class=\"alert alert-danger\">\n",
       "  <strong>Let's start with THIS blue box:</strong>\n",
       "</div>\n"
      ],
      "text/plain": [
       "<IPython.core.display.HTML object>"
      ]
     },
     "execution_count": 18,
     "metadata": {},
     "output_type": "execute_result"
    }
   ],
   "source": [
    "html_warning = \"\"\"<div class=\"alert alert-danger\">\n",
    "  <strong>Let's start with THIS blue box:</strong>\n",
    "</div>\n",
    "\"\"\"\n",
    "HTML(html_warning)"
   ]
  },
  {
   "cell_type": "code",
   "execution_count": null,
   "id": "f4139fa9",
   "metadata": {},
   "outputs": [],
   "source": []
  }
 ],
 "metadata": {
  "kernelspec": {
   "display_name": "Python 3",
   "language": "python",
   "name": "python3"
  },
  "language_info": {
   "codemirror_mode": {
    "name": "ipython",
    "version": 3
   },
   "file_extension": ".py",
   "mimetype": "text/x-python",
   "name": "python",
   "nbconvert_exporter": "python",
   "pygments_lexer": "ipython3",
   "version": "3.8.10"
  },
  "toc": {
   "base_numbering": 1,
   "nav_menu": {},
   "number_sections": true,
   "sideBar": true,
   "skip_h1_title": true,
   "title_cell": "Table of Contents",
   "title_sidebar": "Contents",
   "toc_cell": false,
   "toc_position": {
    "height": "calc(100% - 180px)",
    "left": "10px",
    "top": "150px",
    "width": "227.35px"
   },
   "toc_section_display": true,
   "toc_window_display": true
  }
 },
 "nbformat": 4,
 "nbformat_minor": 5
}
