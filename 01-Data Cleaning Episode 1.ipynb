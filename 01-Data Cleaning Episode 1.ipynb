{
 "cells": [
  {
   "cell_type": "markdown",
   "id": "babdb31a",
   "metadata": {},
   "source": [
    "# Star Wars Espisode 1 Data Clean"
   ]
  },
  {
   "cell_type": "code",
   "execution_count": 1,
   "id": "7fea7acd",
   "metadata": {},
   "outputs": [],
   "source": [
    "import pandas as pd\n",
    "import matplotlib.pyplot as plt\n",
    "import seaborn as sns\n",
    "import re\n",
    "import json\n",
    "from utils import parsing"
   ]
  },
  {
   "cell_type": "markdown",
   "id": "dcfce38e",
   "metadata": {},
   "source": [
    "## Cleaning Raw Data\n",
    "\n"
   ]
  },
  {
   "cell_type": "markdown",
   "id": "5bc33c9c",
   "metadata": {},
   "source": [
    "```\n",
    "ANAKIN: There isn't a droid made that can out fly you, Master, and no other way to get to the Chancellor . . .\n",
    "\n",
    "OBI-WAN: Look out, four droids inbound . . .\n",
    "```"
   ]
  },
  {
   "cell_type": "markdown",
   "id": "70532a9f",
   "metadata": {},
   "source": [
    "### Episode 1:The Phantom Menace"
   ]
  },
  {
   "cell_type": "code",
   "execution_count": 2,
   "id": "f2e02d7c",
   "metadata": {},
   "outputs": [
    {
     "name": "stdout",
     "output_type": "stream",
     "text": [
      "Lines 4230\n"
     ]
    }
   ],
   "source": [
    "filename = './data/01_star_wars_raw.txt'\n",
    "\n",
    "with open(filename, 'r') as raw_file:\n",
    "    raw_lines_ep1 = raw_file.readlines()\n",
    "\n",
    "print(f'Lines {len(raw_lines_ep1)}')"
   ]
  },
  {
   "cell_type": "code",
   "execution_count": 3,
   "id": "3981d07c",
   "metadata": {},
   "outputs": [
    {
     "name": "stdout",
     "output_type": "stream",
     "text": [
      "****** 1 (1) *****\n",
      "['Star Wars: Episode 1:The Phantom Menace']\n",
      "****** 2 (1) *****\n",
      "[]\n",
      "****** 3 (1) *****\n",
      "[]\n",
      "****** 4 (1) *****\n",
      "['TITLE CARD : A long time ago in a galaxy far, far away....']\n",
      "****** 5 (1) *****\n",
      "['A vast sea of stars serves as the backdrop for the main title, followed by', 'a roll up, which crawls up into infinity.']\n",
      "****** 6 (1) *****\n",
      "['EPISODE 1 THE PHANTOM MENACE']\n",
      "****** 7 (1) *****\n",
      "['Turmoil has engulfed the Galactic Republic. The taxation of trade routes to', 'outlaying star systems is in dispute.', 'Hoping to resolve the matter with a blockade of deadly battleships, the', 'greedy Trade Federation has stopped all shipping to the small planet of', 'Naboo.', 'While the congress of the Republic endlessly debates this alarming chain of', 'events, the Supreme Chancellor has secretly dispatched two Jedi Knights,', 'the guardians of peace and justice in the galaxy, to settle the', 'conflict.....']\n",
      "****** 8 (1) *****\n",
      "['PAN DOWN to reveal a small space cruiser heading TOWARD CAMERA at great', 'speed. PAN with the cruiser as it heads towardthe beautiful green planet of', 'Naboo, which is surrounded by hundreds of Trade Federation battleships.']\n",
      "****** 9 (1) *****\n",
      "['INT. REPUBLIC CRUISER - COCKPIT']\n",
      "****** 10 (1) *****\n",
      "[]\n",
      "****** 11 (1) *****\n",
      "['In the cockpit of the cruise, the CAPTAIN and PILOT maneuver closer to one', 'of the battleships.']\n",
      "****** 12 (1) *****\n",
      "['QUI-GON : (off screen voice) Captain.']\n",
      "****** 13 (1) *****\n",
      "['The Captain turns to an unseen figure sitting behind her.']\n",
      "****** 14 (1) *****\n",
      "['CAPTAIN : Yes, sir?', 'QUI-GON : (V.O) Tell them we wish to board at once.', 'CAPTAIN : Yes, sir.']\n",
      "****** 15 (1) *****\n",
      "['The CAPTAIN looks to her view screen, where NUTE GUNRAY, a Neimoidian trade', 'viceroy, waits for a reply.']\n",
      "****** 16 (1) *****\n",
      "[\"CAPTAIN : (cont'd) With all due respect for the Trade Federation, the\", 'Ambassodors for the Supreme Chancellor wish to board immediately.', 'NUTE : Yes, yes, of coarse...ahhh...as you know, our blockade is perfectly', \"legal, and we'd be happy to recieve the Ambassador...Happy to.\"]\n",
      "****** 17 (1) *****\n",
      "['The screen goes black. Out the cockpit window, the sinister battleship', 'looms ever closer.']\n",
      "****** 18 (1) *****\n",
      "['EXT. FEDERATION BATTLESHIP - DOCKING BAY - SPACE (FX)']\n",
      "****** 19 (1) *****\n",
      "['The small space cruiser docks in the enormous main bay of the Federation', 'battleship.']\n",
      "****** 20 (1) *****\n",
      "['INT. FEDERATION BATTLESHIP - DOCKING BAY - SPACE']\n",
      "****** 21 (1) *****\n",
      "['A PROTOCOL DROID, TC-14, waits at the door to the docking bay. Two WORKER', 'DROIDS, PK-4 and EG-9 watch.']\n"
     ]
    }
   ],
   "source": [
    "paragraphs_ep1 = parsing.extract_paragraphs(raw_lines_ep1)       \n",
    "for p_num, content in paragraphs_ep1.items():\n",
    "    print(f'****** {p_num} ({len(content)}) *****')\n",
    "    print(content['lines'])\n",
    "    if p_num > 20:\n",
    "        break\n",
    "    "
   ]
  },
  {
   "cell_type": "code",
   "execution_count": 4,
   "id": "36a014d8",
   "metadata": {},
   "outputs": [],
   "source": [
    "save_json = True\n",
    "if save_json:\n",
    "    filename = './output/paragraphs_ep1.json'\n",
    "    with open(filename, 'w') as json_file:\n",
    "        json.dump(paragraphs_ep1, json_file)"
   ]
  },
  {
   "cell_type": "code",
   "execution_count": 5,
   "id": "de4afead",
   "metadata": {},
   "outputs": [],
   "source": [
    "character_lines_ep1 = parsing.parse_paragraph_sep(paragraphs_ep1)\n",
    "        "
   ]
  },
  {
   "cell_type": "code",
   "execution_count": 6,
   "id": "aac71004",
   "metadata": {},
   "outputs": [],
   "source": [
    "df_dict = parsing.build_dialogue_dict(character_lines_ep1)\n",
    "    "
   ]
  },
  {
   "cell_type": "code",
   "execution_count": 7,
   "id": "29e7da8e",
   "metadata": {},
   "outputs": [
    {
     "name": "stdout",
     "output_type": "stream",
     "text": [
      "Shape episode 3: (435, 3)\n"
     ]
    },
    {
     "data": {
      "text/html": [
       "<div>\n",
       "<style scoped>\n",
       "    .dataframe tbody tr th:only-of-type {\n",
       "        vertical-align: middle;\n",
       "    }\n",
       "\n",
       "    .dataframe tbody tr th {\n",
       "        vertical-align: top;\n",
       "    }\n",
       "\n",
       "    .dataframe thead th {\n",
       "        text-align: right;\n",
       "    }\n",
       "</style>\n",
       "<table border=\"1\" class=\"dataframe\">\n",
       "  <thead>\n",
       "    <tr style=\"text-align: right;\">\n",
       "      <th></th>\n",
       "      <th>Paragraph</th>\n",
       "      <th>Character</th>\n",
       "      <th>Dialogue</th>\n",
       "    </tr>\n",
       "  </thead>\n",
       "  <tbody>\n",
       "    <tr>\n",
       "      <th>0</th>\n",
       "      <td>4</td>\n",
       "      <td>TITLE CARD</td>\n",
       "      <td>A long time ago in a galaxy far, far away....</td>\n",
       "    </tr>\n",
       "    <tr>\n",
       "      <th>1</th>\n",
       "      <td>12</td>\n",
       "      <td>QUI-GON</td>\n",
       "      <td>(off screen voice) Captain.</td>\n",
       "    </tr>\n",
       "    <tr>\n",
       "      <th>2</th>\n",
       "      <td>14</td>\n",
       "      <td>CAPTAIN</td>\n",
       "      <td>Yes, sir?</td>\n",
       "    </tr>\n",
       "    <tr>\n",
       "      <th>3</th>\n",
       "      <td>16</td>\n",
       "      <td>CAPTAIN</td>\n",
       "      <td>(cont'd) With all due respect for the Trade Fe...</td>\n",
       "    </tr>\n",
       "    <tr>\n",
       "      <th>4</th>\n",
       "      <td>22</td>\n",
       "      <td>PK-4</td>\n",
       "      <td>They must be important if the Viceroy sent one...</td>\n",
       "    </tr>\n",
       "  </tbody>\n",
       "</table>\n",
       "</div>"
      ],
      "text/plain": [
       "   Paragraph    Character                                           Dialogue\n",
       "0          4  TITLE CARD       A long time ago in a galaxy far, far away....\n",
       "1         12     QUI-GON                         (off screen voice) Captain.\n",
       "2         14     CAPTAIN                                           Yes, sir?\n",
       "3         16     CAPTAIN   (cont'd) With all due respect for the Trade Fe...\n",
       "4         22        PK-4   They must be important if the Viceroy sent one..."
      ]
     },
     "execution_count": 7,
     "metadata": {},
     "output_type": "execute_result"
    }
   ],
   "source": [
    "df = pd.DataFrame.from_dict(df_dict)\n",
    "print(f'Shape episode 3: {df.shape}')\n",
    "df.head()"
   ]
  },
  {
   "cell_type": "code",
   "execution_count": 8,
   "id": "887c350b",
   "metadata": {},
   "outputs": [
    {
     "data": {
      "text/plain": [
       "array(['TITLE CARD', 'QUI-GON', 'CAPTAIN', 'PK-4', 'TC-14', 'EG-9',\n",
       "       'OBI-WAN', 'NUTE', 'TC14', 'OWO-1', 'RUNE', 'P-59', 'TEY HOW',\n",
       "       'AMIDALA', 'PALPATINE', 'CAPT', 'JAR JAR', 'BOSS NASS',\n",
       "       'BATTLE DROID 3B3', 'BIBBLE', 'GUARD DROID', 'RIC OLIE',\n",
       "       'DARTH SIDIOUS', 'WATTO', 'ANAKIN', 'PADME', 'VENDOR', 'SEBULBA',\n",
       "       'JIRA', 'SHMI', 'THREEPIO', 'DARTH MAUL', 'KITSTER', 'FODE',\n",
       "       'JABBA', 'FODE BEED', 'WALD', 'OOM-9', 'YODA', 'GUARD', 'LOTT DOD',\n",
       "       'AKS MOE', 'MAS AMEDDA', 'BAIL ORGANA', 'ASSEMBLY', 'VALORUM',\n",
       "       'MACE WINDU', 'PANAKA', 'GUNGAN LOOKOUT', 'GENERAL CEEL',\n",
       "       'FIGHTER PILOT', 'ANAKN', 'SABE', 'BATTLE DROID CAPTAIN',\n",
       "       'BRAVO TWO'], dtype=object)"
      ]
     },
     "execution_count": 8,
     "metadata": {},
     "output_type": "execute_result"
    }
   ],
   "source": [
    "df['Character'] = df['Character'].str.strip()\n",
    "df['Character'].unique()"
   ]
  },
  {
   "cell_type": "code",
   "execution_count": 9,
   "id": "95a2a7fa",
   "metadata": {},
   "outputs": [],
   "source": [
    "non_characters = ['EXT', 'T', 'S', 'INT', 'A', 'H', 'I', 'J','P','B',]\n",
    "\n",
    "for character in non_characters:\n",
    "    condition = (df['Character'] == character)\n",
    "    df.drop(df[condition].index, inplace=True)\n"
   ]
  },
  {
   "cell_type": "code",
   "execution_count": 10,
   "id": "1a421b44",
   "metadata": {},
   "outputs": [],
   "source": [
    "replacements = [('BOBA','BOBA FETT'), ('JANGO', 'JANGO FETT',), ( 'MACE', 'MACE WINDU'),\n",
    "               ('MACE-WINDU', 'MACE WINDU'), ('WINDU', 'MACE WINDU'), ('THREEPIO', 'C-3PO'),\n",
    "               ('OBI-WAM', 'OBI-WAN'), ('DOOKU', 'COUNT DOOKU')]\n",
    "for pair in replacements:\n",
    "    df.loc[df['Character'] == pair[0], 'Character'] = pair[1]"
   ]
  },
  {
   "cell_type": "code",
   "execution_count": 11,
   "id": "fd011d03",
   "metadata": {},
   "outputs": [
    {
     "name": "stdout",
     "output_type": "stream",
     "text": [
      "['AKS MOE', 'AMIDALA', 'ANAKIN', 'ANAKN', 'ASSEMBLY', 'BAIL ORGANA', 'BATTLE DROID 3B3', 'BATTLE DROID CAPTAIN', 'BIBBLE', 'BOSS NASS', 'BRAVO TWO', 'C-3PO', 'CAPT', 'CAPTAIN', 'DARTH MAUL', 'DARTH SIDIOUS', 'EG-9', 'FIGHTER PILOT', 'FODE', 'FODE BEED', 'GENERAL CEEL', 'GUARD', 'GUARD DROID', 'GUNGAN LOOKOUT', 'JABBA', 'JAR JAR', 'JIRA', 'KITSTER', 'LOTT DOD', 'MACE WINDU', 'MAS AMEDDA', 'NUTE', 'OBI-WAN', 'OOM-9', 'OWO-1', 'P-59', 'PADME', 'PALPATINE', 'PANAKA', 'PK-4', 'QUI-GON', 'RIC OLIE', 'RUNE', 'SABE', 'SEBULBA', 'SHMI', 'TC-14', 'TC14', 'TEY HOW', 'TITLE CARD', 'VALORUM', 'VENDOR', 'WALD', 'WATTO', 'YODA']\n"
     ]
    }
   ],
   "source": [
    "character_list = list(df['Character'].unique())\n",
    "character_list.sort()\n",
    "print(character_list)"
   ]
  },
  {
   "cell_type": "code",
   "execution_count": 12,
   "id": "123f5b3a",
   "metadata": {},
   "outputs": [
    {
     "data": {
      "image/png": "[encoded data removed]",
      "text/plain": [
       "<Figure size 720x720 with 1 Axes>"
      ]
     },
     "metadata": {
      "needs_background": "light"
     },
     "output_type": "display_data"
    }
   ],
   "source": [
    "character_series = df['Character'].value_counts()\n",
    "plt.figure(figsize=(10, 10))\n",
    "ax = sns.barplot(x=character_series.values, y=character_series.index, color='green')\n",
    "\n",
    "ax.set_title('Line count per Character')\n",
    "plt.show()"
   ]
  },
  {
   "cell_type": "code",
   "execution_count": 13,
   "id": "628ef3d9",
   "metadata": {
    "scrolled": true
   },
   "outputs": [
    {
     "data": {
      "text/plain": [
       "count    55.000000\n",
       "mean      7.909091\n",
       "std      15.768314\n",
       "min       1.000000\n",
       "25%       1.000000\n",
       "50%       2.000000\n",
       "75%       7.500000\n",
       "max      84.000000\n",
       "Name: Character, dtype: float64"
      ]
     },
     "execution_count": 13,
     "metadata": {},
     "output_type": "execute_result"
    }
   ],
   "source": [
    "character_series.describe()"
   ]
  },
  {
   "cell_type": "code",
   "execution_count": 14,
   "id": "113a247f",
   "metadata": {},
   "outputs": [],
   "source": [
    "filename = './data/episode_01.pkl'\n",
    "df.to_pickle(filename)"
   ]
  },
  {
   "cell_type": "markdown",
   "id": "9f218e3e",
   "metadata": {},
   "source": [
    "### EPISODE 3: REVENGE OF THE SITH"
   ]
  },
  {
   "cell_type": "code",
   "execution_count": 15,
   "id": "052ae5ca",
   "metadata": {},
   "outputs": [
    {
     "name": "stdout",
     "output_type": "stream",
     "text": [
      "Lines 4079\n"
     ]
    }
   ],
   "source": [
    "filename = './data/03_star_wars_raw.txt'\n",
    "\n",
    "with open(filename, 'r') as raw_file:\n",
    "    raw_lines_ep3 = raw_file.readlines()\n",
    "\n",
    "print(f'Lines {len(raw_lines_ep3)}')"
   ]
  },
  {
   "cell_type": "code",
   "execution_count": 16,
   "id": "a8be50da",
   "metadata": {},
   "outputs": [
    {
     "name": "stdout",
     "output_type": "stream",
     "text": [
      "****** 1 (1) *****\n",
      "['STAR WARS EPISODE 3: REVENGE OF THE SITH SCRIPT']\n",
      "****** 2 (1) *****\n",
      "['George Lucas']\n",
      "****** 3 (1) *****\n",
      "[]\n",
      "****** 4 (1) *****\n",
      "['1 EXT. SPACE']\n",
      "****** 5 (1) *****\n",
      "['A long time ago in a galaxy far, far away.']\n",
      "****** 6 (1) *****\n",
      "['A vast sea of stars serves as the backdrop for the Main Title, followed by a rollup, which crawls into infinity.']\n",
      "****** 7 (1) *****\n",
      "['War! The Republic is crumbling under attacks by the ruthless Sith Lord, Count Dooku. There are heroes on both sides. Evil is everywhere.']\n",
      "****** 8 (1) *****\n",
      "['In a stunning move, the fiendish droid leader, General Grievous, has swept into the Republic capital and kidnapped Chancellor Palpatine, leader of the Galactic Senate.']\n",
      "****** 9 (1) *****\n",
      "['As the Separatist Droid Army attempts to flee the besieged capital with their valuable hostage, two Jedi Knights lead a desperate mission to rescue the captive Chancellor. . . .']\n",
      "****** 10 (1) *****\n",
      "[\"PAN DOWN to reveal a REPUBLIC ATTACK CRUISER. Continue to PAN with the Cruiser as TWO JEDI STARFIGHTERS enter and head toward an enemy Battle Cruiser. TRUCK with the Jedi Fighters as they maneuver in unison, dodging flack and enemy laser fire. R2-D2 is on Anakin's ship. R4-P17 is on Obi-Wan's ship. A giant space battle is revealed as the tiny Jedi ships continue their assault in a synchronous ballet.\"]\n",
      "****** 11 (1) *****\n",
      "[\"2 INT. OBI-WAN'S STARFIGHTER COCKPIT-SPACE\"]\n",
      "****** 12 (1) *****\n",
      "['OBI-WAN bounces through the flack with a frown. His ship rocks violently.']\n",
      "****** 13 (1) *****\n",
      "['3 INT. ANAKINS STARFIGHTER COCKPIT-SPACE']\n",
      "****** 14 (1) *****\n",
      "['ANAKIN smiles as he blasts a TRADE FEDERATION DROID DROP FIGHTER.']\n",
      "****** 15 (1) *****\n",
      "[\"ANAKIN: There isn't a droid made that can out fly you, Master, and no other way to get to the Chancellor . . .\"]\n",
      "****** 16 (1) *****\n",
      "['OBI-WAN: Look out, four droids inbound . . .']\n",
      "****** 17 (1) *****\n",
      "['4 EXT. CORUSCANT-SPACE BATTLE']\n",
      "****** 18 (1) *****\n",
      "['The TWO JEDI FIGHTERS swerve in unison as FOUR TRADE FEDERATION DROID DROP FIGHTERS attack. After several clever moves by the Jedi, two of the FEDERATION DROID DROP FIGHTERS collide with each other in a ball of flame.']\n",
      "****** 19 (1) *****\n",
      "[\"5 INT. OBI-WAN'S STARFIGHTER COCKPIT-SPACE\"]\n",
      "****** 20 (1) *****\n",
      "['OBI-WAN struggles to maintain control of his ship.']\n",
      "****** 21 (1) *****\n",
      "[\"OBI-WAN: We've got to split them up.\"]\n"
     ]
    }
   ],
   "source": [
    "paragraphs_ep3 = parsing.extract_paragraphs(raw_lines_ep3)       \n",
    "for p_num, content in paragraphs_ep3.items():\n",
    "    print(f'****** {p_num} ({len(content)}) *****')\n",
    "    print(content['lines'])\n",
    "    if p_num > 20:\n",
    "        break"
   ]
  },
  {
   "cell_type": "code",
   "execution_count": 17,
   "id": "50a89224",
   "metadata": {},
   "outputs": [],
   "source": [
    "if save_json:\n",
    "    filename = './output/paragraphs_ep3.json'\n",
    "    with open(filename, 'w') as json_file:\n",
    "        json.dump(paragraphs_ep3, json_file)"
   ]
  },
  {
   "cell_type": "code",
   "execution_count": 18,
   "id": "c855ffd2",
   "metadata": {},
   "outputs": [],
   "source": [
    "character_lines_ep3 = parsing.parse_paragraph_sep(paragraphs_ep3\n",
    "                                              )"
   ]
  },
  {
   "cell_type": "code",
   "execution_count": 19,
   "id": "a38c160b",
   "metadata": {},
   "outputs": [],
   "source": [
    "df_dict_ep3 = parsing.build_dialogue_dict(character_lines_ep3)"
   ]
  },
  {
   "cell_type": "code",
   "execution_count": 20,
   "id": "bb3ee455",
   "metadata": {},
   "outputs": [
    {
     "name": "stdout",
     "output_type": "stream",
     "text": [
      "Shape episode 3: (1142, 3)\n"
     ]
    },
    {
     "data": {
      "text/html": [
       "<div>\n",
       "<style scoped>\n",
       "    .dataframe tbody tr th:only-of-type {\n",
       "        vertical-align: middle;\n",
       "    }\n",
       "\n",
       "    .dataframe tbody tr th {\n",
       "        vertical-align: top;\n",
       "    }\n",
       "\n",
       "    .dataframe thead th {\n",
       "        text-align: right;\n",
       "    }\n",
       "</style>\n",
       "<table border=\"1\" class=\"dataframe\">\n",
       "  <thead>\n",
       "    <tr style=\"text-align: right;\">\n",
       "      <th></th>\n",
       "      <th>Paragraph</th>\n",
       "      <th>Character</th>\n",
       "      <th>Dialogue</th>\n",
       "    </tr>\n",
       "  </thead>\n",
       "  <tbody>\n",
       "    <tr>\n",
       "      <th>0</th>\n",
       "      <td>1</td>\n",
       "      <td>STAR WARS EPISODE</td>\n",
       "      <td>REVENGE OF THE SITH SCRIPT</td>\n",
       "    </tr>\n",
       "    <tr>\n",
       "      <th>1</th>\n",
       "      <td>15</td>\n",
       "      <td>ANAKIN</td>\n",
       "      <td>There isn't a droid made that can out fly you,...</td>\n",
       "    </tr>\n",
       "    <tr>\n",
       "      <th>2</th>\n",
       "      <td>16</td>\n",
       "      <td>OBI-WAN</td>\n",
       "      <td>Look out, four droids inbound . . .</td>\n",
       "    </tr>\n",
       "    <tr>\n",
       "      <th>3</th>\n",
       "      <td>21</td>\n",
       "      <td>OBI-WAN</td>\n",
       "      <td>We've got to split them up.</td>\n",
       "    </tr>\n",
       "    <tr>\n",
       "      <th>4</th>\n",
       "      <td>22</td>\n",
       "      <td>ANAKIN</td>\n",
       "      <td>Break left, fly through the guns on that tower.</td>\n",
       "    </tr>\n",
       "  </tbody>\n",
       "</table>\n",
       "</div>"
      ],
      "text/plain": [
       "   Paragraph           Character  \\\n",
       "0          1  STAR WARS EPISODE    \n",
       "1         15              ANAKIN   \n",
       "2         16             OBI-WAN   \n",
       "3         21             OBI-WAN   \n",
       "4         22              ANAKIN   \n",
       "\n",
       "                                            Dialogue  \n",
       "0                         REVENGE OF THE SITH SCRIPT  \n",
       "1  There isn't a droid made that can out fly you,...  \n",
       "2                Look out, four droids inbound . . .  \n",
       "3                        We've got to split them up.  \n",
       "4    Break left, fly through the guns on that tower.  "
      ]
     },
     "execution_count": 20,
     "metadata": {},
     "output_type": "execute_result"
    }
   ],
   "source": [
    "df_ep3 = pd.DataFrame.from_dict(df_dict_ep3)\n",
    "print(f'Shape episode 3: {df_ep3.shape}')\n",
    "df_ep3.head()"
   ]
  },
  {
   "cell_type": "code",
   "execution_count": 21,
   "id": "2bd6f07d",
   "metadata": {},
   "outputs": [
    {
     "data": {
      "text/plain": [
       "array(['STAR WARS EPISODE', 'ANAKIN', 'OBI-WAN', 'ODD BALL',\n",
       "       'CLONE PILOT', 'GENERAL GRIEVOUS', 'CAPTAIN', 'BODYGUARD',\n",
       "       'SUPER BATTLE DROID R77', 'BATTLE DROID', 'SUPER BATTLE DROID',\n",
       "       'DROID', 'PALPATINE', 'COUNT DOOKU', 'PILOT', 'ANAKINN', 'MACE',\n",
       "       'BAIL ORGANA', 'C-3PO', 'PADME', 'SUPER BATTLE DROID G21', 'DARTH',\n",
       "       'YODA', 'FANG ZAR', 'MON MOTHMA', 'GIDDEAN DANU', 'TERR TANEEL',\n",
       "       'CAPTAIN TYPHO', 'MOTEE', 'CLONE COMMANDER GREE', 'BANA BREEMU',\n",
       "       'CHI EEKWAY', 'CLONE COMMANDER CODY', 'JAR JAR', 'WRANGLER',\n",
       "       'NUTE GUNRAY', 'FANGZAR', 'MACE WINDU', 'CLONE COMMANDER BACARA',\n",
       "       'AAYLA', 'BLY', 'DARTH SIDIOUS', 'PLO KOON', 'DABTH SIDIOUS',\n",
       "       'YOUNGLINGS', 'CLONE SERGEANT', 'CLONE COMMANDER APPO',\n",
       "       'AT-ST CLONE SERGEANT', 'CREATURE', 'CLONE TROOPER', 'ROYAL GUARD',\n",
       "       'CAPTAIN ANTILLES', 'CLONE CAPTAIN', 'BAIL', 'THREEPIO', 'G-3PO',\n",
       "       'MAS AMEDDA', 'GUARD', 'RUNE HAAKO', 'DARTH VADER',\n",
       "       'CLONE COMMANDER THIRE', 'QUI -GON', 'QUI-GON', 'MEDICAL DROID'],\n",
       "      dtype=object)"
      ]
     },
     "execution_count": 21,
     "metadata": {},
     "output_type": "execute_result"
    }
   ],
   "source": [
    "df_ep3['Character'] = df_ep3['Character'].str.strip()\n",
    "df_ep3['Character'].unique()"
   ]
  },
  {
   "cell_type": "code",
   "execution_count": null,
   "id": "db002ecd",
   "metadata": {},
   "outputs": [],
   "source": []
  }
 ],
 "metadata": {
  "kernelspec": {
   "display_name": "Python 3",
   "language": "python",
   "name": "python3"
  },
  "language_info": {
   "codemirror_mode": {
    "name": "ipython",
    "version": 3
   },
   "file_extension": ".py",
   "mimetype": "text/x-python",
   "name": "python",
   "nbconvert_exporter": "python",
   "pygments_lexer": "ipython3",
   "version": "3.8.10"
  },
  "toc": {
   "base_numbering": 1,
   "nav_menu": {},
   "number_sections": true,
   "sideBar": true,
   "skip_h1_title": true,
   "title_cell": "Table of Contents",
   "title_sidebar": "Contents",
   "toc_cell": false,
   "toc_position": {},
   "toc_section_display": true,
   "toc_window_display": true
  }
 },
 "nbformat": 4,
 "nbformat_minor": 5
}
