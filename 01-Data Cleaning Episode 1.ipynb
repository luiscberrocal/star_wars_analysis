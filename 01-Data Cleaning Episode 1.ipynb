{
 "cells": [
  {
   "cell_type": "markdown",
   "id": "babdb31a",
   "metadata": {},
   "source": [
    "# Star Wars Espisode 1 Data Clean"
   ]
  },
  {
   "cell_type": "code",
   "execution_count": 1,
   "id": "7fea7acd",
   "metadata": {},
   "outputs": [],
   "source": [
    "import pandas as pd\n",
    "import matplotlib.pyplot as plt\n",
    "import seaborn as sns\n",
    "import re\n",
    "import json\n"
   ]
  },
  {
   "cell_type": "markdown",
   "id": "dcfce38e",
   "metadata": {},
   "source": [
    "## Cleaning Raw Data\n",
    "\n"
   ]
  },
  {
   "cell_type": "markdown",
   "id": "70532a9f",
   "metadata": {},
   "source": [
    "### Episode 2"
   ]
  },
  {
   "cell_type": "code",
   "execution_count": 2,
   "id": "f2e02d7c",
   "metadata": {},
   "outputs": [
    {
     "name": "stdout",
     "output_type": "stream",
     "text": [
      "Lines 4230\n"
     ]
    }
   ],
   "source": [
    "filename = './data/01_star_wars_raw.txt'\n",
    "\n",
    "with open(filename, 'r') as raw_file:\n",
    "    raw_lines = raw_file.readlines()\n",
    "\n",
    "print(f'Lines {len(raw_lines)}')"
   ]
  },
  {
   "cell_type": "code",
   "execution_count": 3,
   "id": "3981d07c",
   "metadata": {},
   "outputs": [
    {
     "name": "stdout",
     "output_type": "stream",
     "text": [
      "****** 1 (1) *****\n",
      "['EXT. SPACE', 'A vast sea of stars severas as a backdrop for the Main Title, following by a rollup, whcih crawls into infinity.']\n",
      "****** 2 (1) *****\n",
      "['There is unrest in the Galactic Senate', 'Several hundred solar systems under', 'the leadership of the rebel leader, Count', 'Dooku, have decalred their intentions to', 'secede from the Republic.']\n",
      "****** 3 (1) *****\n",
      "['This separatist movement has made it', 'difficult for the limited number of', 'Jedi Kights to maintain peace and', 'order in the galaxy.']\n",
      "****** 4 (1) *****\n",
      "['Senator Amidala, the former Queen of', 'Naboo, is returning to Coruscant', 'to vote on the critical issue', 'of creating an army to assist the', 'overwhelmed Jedi.']\n",
      "****** 5 (1) *****\n",
      "['PAN UP to reveal the amber city planet of Coruscant. A yellow Naboo Fighter flies OVER CAMERA toward the planet, followed by a large Royal Cruiser and two more Fighters.']\n",
      "****** 6 (1) *****\n",
      "['EXT. CITYSCAPE, CORUSCANT - DAWN', 'The ships skim across the surface of the city landscape. The sun glints off the chrome hulls of the sleek Naboo spacecraft as they navigate between the buildings of the capital planet.']\n",
      "****** 7 (1) *****\n",
      "['EXT. CORUSCANT, LANDING PLATFORM - DAWN', 'Two Naboo Fighters land on one leaf of a three-leaf-clover landing platform. The Royal Starship lands on the central lead, and the third Fighter lands on the remaining plaform.']\n",
      "****** 8 (1) *****\n",
      "[\"A small GROUP OF DIGNITARIES waits to welcome the Senator. One of the members of the group os a well dressed JAR JAR BINKS, a member of the Galactic Representative Commission, and DORME, Senator Amidala's handmaiden.\"]\n",
      "****** 9 (1) *****\n",
      "[\"One of the FIGHTER PILOTS jumps from the wing of his ship and removes his helmet. He is CAPTAIN TYPHO, SENATOR AMIDALA'S Security Officer. He moves over to a WOMAN PILOT.\"]\n",
      "****** 10 (1) *****\n",
      "['CAPTAIN TYPHO', 'We made it. I guess I was wrong,', 'there was no danger at all.']\n",
      "****** 11 (1) *****\n",
      "['The ramp ;pwers. TWO NABOO GUARDS appear. SENATOR AMIDALA, ONE HANDMAIDEN (VERSE) and FOUR TROOPERS descend the ramp. AMIDALA is more beautiful now than she was ten years earlier when, as Queen, she was freeing her people from the yoke of the Trade Federation.']\n",
      "****** 12 (1) *****\n",
      "['The DIGNITARIES start to move forward. SENATOR AMIDALA reaches the foot of the ramp, when suddenly there is a blinding FLASH and a huge EXPLOSION. The DIGNITARIES and PILOTS are hurled to the ground as the starship is destroyed.']\n",
      "****** 13 (1) *****\n",
      "['Klaxons blare, alarms sound! CAPTAIN TYPHO and the TWO ESCORT PILOTS get up and run to where SENATOR AMIDALA lies dying. Beyond, ARTOO DETOO drops down from the Naboo Fighter and rolls toward the wreckage. The FEMALE ESCORT PILOT kneels by SENATOR AMIDALA and takes off her helmet, revealing SENATOR PADME AMIDALA.']\n",
      "****** 14 (1) *****\n",
      "['PADME', 'CordE...']\n",
      "****** 15 (1) *****\n",
      "[\"She gathers up her decoy double in her arms. CordE's eyes are open. She looks up at her.\"]\n",
      "****** 16 (1) *****\n",
      "['CORDE', \"... I'm sorry, m'lady... I'm... not sure I...\"]\n",
      "****** 17 (1) *****\n",
      "['CORDE dies. PADME hugs her.']\n",
      "****** 18 (1) *****\n",
      "['AMIDALA', 'No!... No!... No!...']\n",
      "****** 19 (1) *****\n",
      "['PADME lowers CORDE to the ground. She gets up and looks around at the devastation. There are tears in her eyes.']\n",
      "****** 20 (1) *****\n",
      "['AMIDALA', 'I should not have come back.']\n",
      "****** 21 (1) *****\n",
      "['CAPTAIN TYPHO', \"M'Lady, you are still in danger.\"]\n"
     ]
    }
   ],
   "source": [
    "paragraphs = dict()\n",
    "\n",
    "paragraph_num = 1\n",
    "paragraphs[paragraph_num] = dict()\n",
    "paragraphs[paragraph_num]['lines'] =list()\n",
    "\n",
    "for line in raw_lines:\n",
    "    if line == '\\n':\n",
    "        paragraph_num += 1\n",
    "        paragraphs[paragraph_num] = dict()\n",
    "        paragraphs[paragraph_num]['lines'] =list()\n",
    "    else:\n",
    "        paragraphs[paragraph_num]['lines'].append(line.replace('\\n', '').replace('\\t', '').replace('�', 'E'))\n",
    "        \n",
    "for p_num, content in paragraphs.items():\n",
    "    print(f'****** {p_num} ({len(content)}) *****')\n",
    "    print(content['lines'])\n",
    "    if p_num > 20:\n",
    "        break\n",
    "    "
   ]
  },
  {
   "cell_type": "code",
   "execution_count": 4,
   "id": "36a014d8",
   "metadata": {},
   "outputs": [],
   "source": [
    "save_json = False\n",
    "if save_json:\n",
    "    filename = './output/paragraphs.json'\n",
    "    with open(filename, 'w') as json_file:\n",
    "        json.dump(paragraphs, json_file)"
   ]
  },
  {
   "cell_type": "code",
   "execution_count": 15,
   "id": "de4afead",
   "metadata": {},
   "outputs": [],
   "source": [
    "actor_regexp = re.compile(r'(([A-Z\\-0-9]+)\\s?([A-Z0-9\\-]+)?)')\n",
    "actor_lines = dict()\n",
    "#print(paragraphs[161])\n",
    "for p_num, content in paragraphs.items():\n",
    "    #actor_lines[p_num]['actor'] = ''\n",
    "    if len(content['lines']) >0:\n",
    "        match = actor_regexp.match(content['lines'][0])\n",
    "        if match and len(content['lines']) > 1:\n",
    "            actor_lines[p_num]= dict()\n",
    "            actor_lines[p_num]['actor'] = match.group(1)\n",
    "            actor_lines[p_num]['lines'] = content['lines'].copy()\n",
    "            actor_lines[p_num]['lines'].pop(0)\n",
    "            #print(f'========= {p_num} {actor_lines[p_num][\"actor\"]} =====')\n",
    "            #print(actor_lines[p_num]['lines'])\n",
    "        else:\n",
    "            pass\n",
    "            #print(f'>>> {p_num}')\n",
    "            #print(content['lines'])\n",
    "            #print('>>>'*60)\n",
    "    else:\n",
    "        pass\n",
    "        #print(f'>>>> Paragraph {p_num} is empty')\n",
    "        #print(content['lines'])\n",
    "        \n"
   ]
  },
  {
   "cell_type": "code",
   "execution_count": 16,
   "id": "aac71004",
   "metadata": {},
   "outputs": [],
   "source": [
    "df_dict = dict()\n",
    "df_dict['Paragraph'] = list()\n",
    "df_dict['Character'] = list()\n",
    "df_dict['Dialogue'] = list()\n",
    "for p_num, content in actor_lines.items():\n",
    "    df_dict['Paragraph'].append(p_num)\n",
    "    df_dict['Character'].append(content['actor'])\n",
    "    df_dict['Dialogue'].append(' '.join(content['lines']))\n",
    "    "
   ]
  },
  {
   "cell_type": "code",
   "execution_count": 17,
   "id": "29e7da8e",
   "metadata": {},
   "outputs": [
    {
     "data": {
      "text/html": [
       "<div>\n",
       "<style scoped>\n",
       "    .dataframe tbody tr th:only-of-type {\n",
       "        vertical-align: middle;\n",
       "    }\n",
       "\n",
       "    .dataframe tbody tr th {\n",
       "        vertical-align: top;\n",
       "    }\n",
       "\n",
       "    .dataframe thead th {\n",
       "        text-align: right;\n",
       "    }\n",
       "</style>\n",
       "<table border=\"1\" class=\"dataframe\">\n",
       "  <thead>\n",
       "    <tr style=\"text-align: right;\">\n",
       "      <th></th>\n",
       "      <th>Paragraph</th>\n",
       "      <th>Character</th>\n",
       "      <th>Dialogue</th>\n",
       "    </tr>\n",
       "  </thead>\n",
       "  <tbody>\n",
       "    <tr>\n",
       "      <th>0</th>\n",
       "      <td>1</td>\n",
       "      <td>EXT</td>\n",
       "      <td>A vast sea of stars severas as a backdrop for ...</td>\n",
       "    </tr>\n",
       "    <tr>\n",
       "      <th>1</th>\n",
       "      <td>2</td>\n",
       "      <td>T</td>\n",
       "      <td>Several hundred solar systems under the leader...</td>\n",
       "    </tr>\n",
       "    <tr>\n",
       "      <th>2</th>\n",
       "      <td>3</td>\n",
       "      <td>T</td>\n",
       "      <td>difficult for the limited number of Jedi Kight...</td>\n",
       "    </tr>\n",
       "    <tr>\n",
       "      <th>3</th>\n",
       "      <td>4</td>\n",
       "      <td>S</td>\n",
       "      <td>Naboo, is returning to Coruscant to vote on th...</td>\n",
       "    </tr>\n",
       "    <tr>\n",
       "      <th>4</th>\n",
       "      <td>6</td>\n",
       "      <td>EXT</td>\n",
       "      <td>The ships skim across the surface of the city ...</td>\n",
       "    </tr>\n",
       "  </tbody>\n",
       "</table>\n",
       "</div>"
      ],
      "text/plain": [
       "   Paragraph Character                                           Dialogue\n",
       "0          1       EXT  A vast sea of stars severas as a backdrop for ...\n",
       "1          2         T  Several hundred solar systems under the leader...\n",
       "2          3         T  difficult for the limited number of Jedi Kight...\n",
       "3          4         S  Naboo, is returning to Coruscant to vote on th...\n",
       "4          6       EXT  The ships skim across the surface of the city ..."
      ]
     },
     "execution_count": 17,
     "metadata": {},
     "output_type": "execute_result"
    }
   ],
   "source": [
    "df = pd.DataFrame.from_dict(df_dict)\n",
    "df.head()"
   ]
  },
  {
   "cell_type": "code",
   "execution_count": 18,
   "id": "887c350b",
   "metadata": {},
   "outputs": [
    {
     "data": {
      "text/plain": [
       "array(['EXT', 'T', 'S', 'CAPTAIN TYPHO', 'PADME', 'CORDE', 'AMIDALA',\n",
       "       'INT', 'MAS AMEDDA', 'PALPATINE', 'SENATOR ASK', 'A',\n",
       "       'AMBASSADOR DARSANA', 'ORN FREE', 'MACE WINDU', 'YODA', 'DAR WAC',\n",
       "       'KI-ADI-MUNDI', 'BAIL ORGANA', 'JAR JAR', 'OBI-WAN', 'ANAKIN',\n",
       "       'ELAN SLEAZEBAGGANO', 'ELAN', 'ZAM WESSEL', 'ZAM', 'DORME', 'PK-4',\n",
       "       'SERVER', 'FOOD SERVER', 'HERMIONE', 'HERMIONE BAGWA',\n",
       "       'DEXTER JETTSTER', 'QUEEN JAMILLIA', 'SIO BIBBLE', 'JOCASTA NU',\n",
       "       'RYOO', 'SOLA', 'JOBAL', 'RUWEE', 'JOVAL', 'CHILDREN',\n",
       "       'JEDI CHILD', 'MACE', 'MACE-WINDU', 'TAUN WE', 'LAMA SU',\n",
       "       'OBI-WAM', 'WINDU', 'PAMDE', 'BOBA FETT', 'JANGO FETT', 'JANGO',\n",
       "       'BOBA', 'WATTO', 'C-3PO', 'OWEN', 'BERU', 'CLIEGG', 'H', 'SHMI',\n",
       "       'THREEPIO', 'COUNT DOOKU', 'DOOKU', 'SUN RIT', 'POGGLE',\n",
       "       'NUTE GUNRAY', 'PLO KOON', 'DROID CAPTAIN', 'CLONE CAPTAIN',\n",
       "       'DARTH SIDIOUS'], dtype=object)"
      ]
     },
     "execution_count": 18,
     "metadata": {},
     "output_type": "execute_result"
    }
   ],
   "source": [
    "df['Character'] = df['Character'].str.strip()\n",
    "df['Character'].unique()"
   ]
  },
  {
   "cell_type": "code",
   "execution_count": 19,
   "id": "95a2a7fa",
   "metadata": {},
   "outputs": [],
   "source": [
    "non_characters = ['EXT', 'T', 'S', 'INT', 'A', 'H']\n",
    "\n",
    "for character in non_characters:\n",
    "    condition = (df['Character'] == character)\n",
    "    df.drop(df[condition].index, inplace=True)\n",
    "\n"
   ]
  },
  {
   "cell_type": "code",
   "execution_count": 31,
   "id": "1a421b44",
   "metadata": {},
   "outputs": [],
   "source": [
    "replacements = [('BOBA','BOBA FETT'), ('JANGO', 'JANGO FETT',), ( 'MACE', 'MACE WINDU'),\n",
    "               ('MACE-WINDU', 'MACE WINDU'), ('WINDU', 'MACE WINDU'), ('THREEPIO', 'C-3PO'),\n",
    "               ('OBI-WAM', 'OBI-WAN'), ('DOOKU', 'COUNT DOOKU')]\n",
    "for pair in replacements:\n",
    "    df.loc[df['Character'] == pair[0], 'Character'] = pair[1]"
   ]
  },
  {
   "cell_type": "code",
   "execution_count": 32,
   "id": "fd011d03",
   "metadata": {},
   "outputs": [
    {
     "name": "stdout",
     "output_type": "stream",
     "text": [
      "['AMBASSADOR DARSANA', 'AMIDALA', 'ANAKIN', 'BAIL ORGANA', 'BERU', 'BOBA FETT', 'C-3PO', 'CAPTAIN TYPHO', 'CHILDREN', 'CLIEGG', 'CLONE CAPTAIN', 'CORDE', 'COUNT DOOKU', 'DAR WAC', 'DARTH SIDIOUS', 'DEXTER JETTSTER', 'DORME', 'DROID CAPTAIN', 'ELAN', 'ELAN SLEAZEBAGGANO', 'FOOD SERVER', 'HERMIONE', 'HERMIONE BAGWA', 'JANGO FETT', 'JAR JAR', 'JEDI CHILD', 'JOBAL', 'JOCASTA NU', 'JOVAL', 'KI-ADI-MUNDI', 'LAMA SU', 'MACE WINDU', 'MAS AMEDDA', 'NUTE GUNRAY', 'OBI-WAN', 'ORN FREE', 'OWEN', 'PADME', 'PALPATINE', 'PAMDE', 'PK-4', 'PLO KOON', 'POGGLE', 'QUEEN JAMILLIA', 'RUWEE', 'RYOO', 'SENATOR ASK', 'SERVER', 'SHMI', 'SIO BIBBLE', 'SOLA', 'SUN RIT', 'TAUN WE', 'WATTO', 'YODA', 'ZAM', 'ZAM WESSEL']\n"
     ]
    }
   ],
   "source": [
    "character_list = list(df['Character'].unique())\n",
    "character_list.sort()\n",
    "print(character_list)"
   ]
  },
  {
   "cell_type": "code",
   "execution_count": 44,
   "id": "123f5b3a",
   "metadata": {},
   "outputs": [
    {
     "data": {
      "image/png": "[encoded data removed]",
      "text/plain": [
       "<Figure size 720x720 with 1 Axes>"
      ]
     },
     "metadata": {
      "needs_background": "light"
     },
     "output_type": "display_data"
    }
   ],
   "source": [
    "character_series = df['Character'].value_counts()\n",
    "plt.figure(figsize=(10, 10))\n",
    "ax = sns.barplot(x=character_series.values, y=character_series.index, color='green')\n",
    "\n",
    "ax.set_title('Line count per Character')\n",
    "plt.show()"
   ]
  },
  {
   "cell_type": "code",
   "execution_count": 45,
   "id": "628ef3d9",
   "metadata": {
    "scrolled": true
   },
   "outputs": [
    {
     "data": {
      "text/plain": [
       "count     57.000000\n",
       "mean      15.561404\n",
       "std       38.308437\n",
       "min        1.000000\n",
       "25%        2.000000\n",
       "50%        4.000000\n",
       "75%       11.000000\n",
       "max      193.000000\n",
       "Name: Character, dtype: float64"
      ]
     },
     "execution_count": 45,
     "metadata": {},
     "output_type": "execute_result"
    }
   ],
   "source": [
    "character_series.describe()"
   ]
  },
  {
   "cell_type": "code",
   "execution_count": 46,
   "id": "113a247f",
   "metadata": {},
   "outputs": [],
   "source": [
    "filename = './data/episode_02.pkl'\n",
    "df.to_pickle(filename)"
   ]
  },
  {
   "cell_type": "code",
   "execution_count": null,
   "id": "0cd7e06a",
   "metadata": {},
   "outputs": [],
   "source": []
  }
 ],
 "metadata": {
  "kernelspec": {
   "display_name": "Python 3",
   "language": "python",
   "name": "python3"
  },
  "language_info": {
   "codemirror_mode": {
    "name": "ipython",
    "version": 3
   },
   "file_extension": ".py",
   "mimetype": "text/x-python",
   "name": "python",
   "nbconvert_exporter": "python",
   "pygments_lexer": "ipython3",
   "version": "3.8.10"
  }
 },
 "nbformat": 4,
 "nbformat_minor": 5
}
