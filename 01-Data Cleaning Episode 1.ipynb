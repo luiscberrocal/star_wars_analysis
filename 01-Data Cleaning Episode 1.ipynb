{
 "cells": [
  {
   "cell_type": "markdown",
   "id": "babdb31a",
   "metadata": {},
   "source": [
    "# Star Wars Espisode 1 Data Clean"
   ]
  },
  {
   "cell_type": "code",
   "execution_count": 1,
   "id": "7fea7acd",
   "metadata": {},
   "outputs": [],
   "source": [
    "import pandas as pd\n",
    "import matplotlib.pyplot as plt\n",
    "import seaborn as sns\n",
    "import re\n",
    "import json\n"
   ]
  },
  {
   "cell_type": "markdown",
   "id": "dcfce38e",
   "metadata": {},
   "source": [
    "## Cleaning Raw Data\n",
    "\n"
   ]
  },
  {
   "cell_type": "markdown",
   "id": "70532a9f",
   "metadata": {},
   "source": [
    "### Episode 2"
   ]
  },
  {
   "cell_type": "code",
   "execution_count": 2,
   "id": "f2e02d7c",
   "metadata": {},
   "outputs": [
    {
     "name": "stdout",
     "output_type": "stream",
     "text": [
      "Lines 4230\n"
     ]
    }
   ],
   "source": [
    "filename = './data/01_star_wars_raw.txt'\n",
    "\n",
    "with open(filename, 'r') as raw_file:\n",
    "    raw_lines = raw_file.readlines()\n",
    "\n",
    "print(f'Lines {len(raw_lines)}')"
   ]
  },
  {
   "cell_type": "code",
   "execution_count": 3,
   "id": "3981d07c",
   "metadata": {},
   "outputs": [
    {
     "name": "stdout",
     "output_type": "stream",
     "text": [
      "****** 1 (1) *****\n",
      "['Star Wars: Episode 1:The Phantom Menace']\n",
      "****** 2 (1) *****\n",
      "[]\n",
      "****** 3 (1) *****\n",
      "[]\n",
      "****** 4 (1) *****\n",
      "['TITLE CARD : A long time ago in a galaxy far, far away....']\n",
      "****** 5 (1) *****\n",
      "['A vast sea of stars serves as the backdrop for the main title, followed by', 'a roll up, which crawls up into infinity.']\n",
      "****** 6 (1) *****\n",
      "['EPISODE 1 THE PHANTOM MENACE']\n",
      "****** 7 (1) *****\n",
      "['Turmoil has engulfed the Galactic Republic. The taxation of trade routes to', 'outlaying star systems is in dispute.', 'Hoping to resolve the matter with a blockade of deadly battleships, the', 'greedy Trade Federation has stopped all shipping to the small planet of', 'Naboo.', 'While the congress of the Republic endlessly debates this alarming chain of', 'events, the Supreme Chancellor has secretly dispatched two Jedi Knights,', 'the guardians of peace and justice in the galaxy, to settle the', 'conflict.....']\n",
      "****** 8 (1) *****\n",
      "['PAN DOWN to reveal a small space cruiser heading TOWARD CAMERA at great', 'speed. PAN with the cruiser as it heads towardthe beautiful green planet of', 'Naboo, which is surrounded by hundreds of Trade Federation battleships.']\n",
      "****** 9 (1) *****\n",
      "['INT. REPUBLIC CRUISER - COCKPIT']\n",
      "****** 10 (1) *****\n",
      "[]\n",
      "****** 11 (1) *****\n",
      "['In the cockpit of the cruise, the CAPTAIN and PILOT maneuver closer to one', 'of the battleships.']\n",
      "****** 12 (1) *****\n",
      "['QUI-GON : (off screen voice) Captain.']\n",
      "****** 13 (1) *****\n",
      "['The Captain turns to an unseen figure sitting behind her.']\n",
      "****** 14 (1) *****\n",
      "['CAPTAIN : Yes, sir?', 'QUI-GON : (V.O) Tell them we wish to board at once.', 'CAPTAIN : Yes, sir.']\n",
      "****** 15 (1) *****\n",
      "['The CAPTAIN looks to her view screen, where NUTE GUNRAY, a Neimoidian trade', 'viceroy, waits for a reply.']\n",
      "****** 16 (1) *****\n",
      "[\"CAPTAIN : (cont'd) With all due respect for the Trade Federation, the\", 'Ambassodors for the Supreme Chancellor wish to board immediately.', 'NUTE : Yes, yes, of coarse...ahhh...as you know, our blockade is perfectly', \"legal, and we'd be happy to recieve the Ambassador...Happy to.\"]\n",
      "****** 17 (1) *****\n",
      "['The screen goes black. Out the cockpit window, the sinister battleship', 'looms ever closer.']\n",
      "****** 18 (1) *****\n",
      "['EXT. FEDERATION BATTLESHIP - DOCKING BAY - SPACE (FX)']\n",
      "****** 19 (1) *****\n",
      "['The small space cruiser docks in the enormous main bay of the Federation', 'battleship.']\n",
      "****** 20 (1) *****\n",
      "['INT. FEDERATION BATTLESHIP - DOCKING BAY - SPACE']\n",
      "****** 21 (1) *****\n",
      "['A PROTOCOL DROID, TC-14, waits at the door to the docking bay. Two WORKER', 'DROIDS, PK-4 and EG-9 watch.']\n"
     ]
    }
   ],
   "source": [
    "paragraphs = dict()\n",
    "\n",
    "paragraph_num = 1\n",
    "paragraphs[paragraph_num] = dict()\n",
    "paragraphs[paragraph_num]['lines'] =list()\n",
    "\n",
    "for line in raw_lines:\n",
    "    if line == '\\n':\n",
    "        paragraph_num += 1\n",
    "        paragraphs[paragraph_num] = dict()\n",
    "        paragraphs[paragraph_num]['lines'] =list()\n",
    "    else:\n",
    "        paragraphs[paragraph_num]['lines'].append(line.replace('\\n', '').replace('\\t', '').replace('�', 'E'))\n",
    "        \n",
    "for p_num, content in paragraphs.items():\n",
    "    print(f'****** {p_num} ({len(content)}) *****')\n",
    "    print(content['lines'])\n",
    "    if p_num > 20:\n",
    "        break\n",
    "    "
   ]
  },
  {
   "cell_type": "code",
   "execution_count": 4,
   "id": "36a014d8",
   "metadata": {},
   "outputs": [],
   "source": [
    "save_json = False\n",
    "if save_json:\n",
    "    filename = './output/paragraphs.json'\n",
    "    with open(filename, 'w') as json_file:\n",
    "        json.dump(paragraphs, json_file)"
   ]
  },
  {
   "cell_type": "code",
   "execution_count": 9,
   "id": "de4afead",
   "metadata": {},
   "outputs": [],
   "source": [
    "actor_regexp = re.compile(r'(([A-Z\\-0-9]+)\\s?([A-Z0-9\\-]+)?)')\n",
    "actor_lines = dict()\n",
    "#print(paragraphs[161])\n",
    "for p_num, content in paragraphs.items():\n",
    "    #actor_lines[p_num]['actor'] = ''\n",
    "    if len(content['lines']) >0:\n",
    "        match = actor_regexp.match(content['lines'][0])\n",
    "        if match and len(content['lines']) > 1:\n",
    "            actor_lines[p_num]= dict()\n",
    "            actor_lines[p_num]['actor'] = match.group(1)\n",
    "            actor_lines[p_num]['lines'] = content['lines'].copy()\n",
    "            actor_lines[p_num]['lines'].pop(0)\n",
    "            #print(f'========= {p_num} {actor_lines[p_num][\"actor\"]} =====')\n",
    "            #print(actor_lines[p_num]['lines'])\n",
    "        else:\n",
    "            pass\n",
    "            #print(f'>>> {p_num}')\n",
    "            #print(content['lines'])\n",
    "            #print('>>>'*60)\n",
    "    else:\n",
    "        pass\n",
    "        #print(f'>>>> Paragraph {p_num} is empty')\n",
    "        #print(content['lines'])\n",
    "        \n"
   ]
  },
  {
   "cell_type": "code",
   "execution_count": 10,
   "id": "aac71004",
   "metadata": {},
   "outputs": [],
   "source": [
    "df_dict = dict()\n",
    "df_dict['Paragraph'] = list()\n",
    "df_dict['Character'] = list()\n",
    "df_dict['Dialogue'] = list()\n",
    "for p_num, content in actor_lines.items():\n",
    "    df_dict['Paragraph'].append(p_num)\n",
    "    df_dict['Character'].append(content['actor'])\n",
    "    df_dict['Dialogue'].append(' '.join(content['lines']))\n",
    "    "
   ]
  },
  {
   "cell_type": "code",
   "execution_count": 11,
   "id": "29e7da8e",
   "metadata": {},
   "outputs": [
    {
     "data": {
      "text/html": [
       "<div>\n",
       "<style scoped>\n",
       "    .dataframe tbody tr th:only-of-type {\n",
       "        vertical-align: middle;\n",
       "    }\n",
       "\n",
       "    .dataframe tbody tr th {\n",
       "        vertical-align: top;\n",
       "    }\n",
       "\n",
       "    .dataframe thead th {\n",
       "        text-align: right;\n",
       "    }\n",
       "</style>\n",
       "<table border=\"1\" class=\"dataframe\">\n",
       "  <thead>\n",
       "    <tr style=\"text-align: right;\">\n",
       "      <th></th>\n",
       "      <th>Paragraph</th>\n",
       "      <th>Character</th>\n",
       "      <th>Dialogue</th>\n",
       "    </tr>\n",
       "  </thead>\n",
       "  <tbody>\n",
       "    <tr>\n",
       "      <th>0</th>\n",
       "      <td>5</td>\n",
       "      <td>A</td>\n",
       "      <td>a roll up, which crawls up into infinity.</td>\n",
       "    </tr>\n",
       "    <tr>\n",
       "      <th>1</th>\n",
       "      <td>7</td>\n",
       "      <td>T</td>\n",
       "      <td>outlaying star systems is in dispute. Hoping t...</td>\n",
       "    </tr>\n",
       "    <tr>\n",
       "      <th>2</th>\n",
       "      <td>8</td>\n",
       "      <td>PAN DOWN</td>\n",
       "      <td>speed. PAN with the cruiser as it heads toward...</td>\n",
       "    </tr>\n",
       "    <tr>\n",
       "      <th>3</th>\n",
       "      <td>11</td>\n",
       "      <td>I</td>\n",
       "      <td>of the battleships.</td>\n",
       "    </tr>\n",
       "    <tr>\n",
       "      <th>4</th>\n",
       "      <td>14</td>\n",
       "      <td>CAPTAIN</td>\n",
       "      <td>QUI-GON : (V.O) Tell them we wish to board at ...</td>\n",
       "    </tr>\n",
       "  </tbody>\n",
       "</table>\n",
       "</div>"
      ],
      "text/plain": [
       "   Paragraph Character                                           Dialogue\n",
       "0          5        A           a roll up, which crawls up into infinity.\n",
       "1          7         T  outlaying star systems is in dispute. Hoping t...\n",
       "2          8  PAN DOWN  speed. PAN with the cruiser as it heads toward...\n",
       "3         11         I                                of the battleships.\n",
       "4         14  CAPTAIN   QUI-GON : (V.O) Tell them we wish to board at ..."
      ]
     },
     "execution_count": 11,
     "metadata": {},
     "output_type": "execute_result"
    }
   ],
   "source": [
    "df = pd.DataFrame.from_dict(df_dict)\n",
    "df.head()"
   ]
  },
  {
   "cell_type": "code",
   "execution_count": 12,
   "id": "887c350b",
   "metadata": {},
   "outputs": [
    {
     "data": {
      "text/plain": [
       "array(['A', 'T', 'PAN DOWN', 'I', 'CAPTAIN', 'A PROTOCOL', 'PK-4', 'EG-9',\n",
       "       'TC-14', 'OBI-WAN', 'NUTE', 'OWO-1', 'QUI-GON', 'RUNE', 'TEY HOW',\n",
       "       'O', 'AMIDALA', 'PALPATINE', 'CAPT', 'JAR JAR', 'GUNGANS',\n",
       "       'BOSS NASS', 'S', 'P', 'QUEEN AMIDALA', 'BIBBLE', 'FOUR BATTLE',\n",
       "       'CAPTAIN PANAKA', 'GUARD DROID', 'RIC OLIE', 'DARTH SIDIOUS',\n",
       "       'PADME', 'B', 'WATTO', 'ARTOO', 'ANAKIN', 'SEBULBA', 'JIRA',\n",
       "       'SHMI', 'THREEPIO', 'DARTH MAUL', 'KITSTER', 'SEEK', 'FODE', 'C',\n",
       "       'JABBA', 'J', 'JABBA THE', 'FANTA', 'L', 'TERTER', 'FODE BEED',\n",
       "       'F', 'SEVERAL FEDERATION', 'OOM-9', 'YODA', 'INT', 'GUARD',\n",
       "       'LOTT DOD', 'AKS MOE', 'VALORUM', 'BAIL ORGANA', 'MACE WINDU',\n",
       "       'SABE', 'PANAKA', 'A GUNGAN', 'GUNGAN LOOKOUT', 'DROID TROOPS',\n",
       "       'ALARMS ARE', 'A DESTROYER', 'SADBE', 'SIX OF', 'BATTLE DROID',\n",
       "       'BRAVO TWO', 'CHILDEREN SING'], dtype=object)"
      ]
     },
     "execution_count": 12,
     "metadata": {},
     "output_type": "execute_result"
    }
   ],
   "source": [
    "df['Character'] = df['Character'].str.strip()\n",
    "df['Character'].unique()"
   ]
  },
  {
   "cell_type": "code",
   "execution_count": 13,
   "id": "95a2a7fa",
   "metadata": {},
   "outputs": [],
   "source": [
    "non_characters = ['EXT', 'T', 'S', 'INT', 'A', 'H', 'I', 'J','P','B',]\n",
    "\n",
    "for character in non_characters:\n",
    "    condition = (df['Character'] == character)\n",
    "    df.drop(df[condition].index, inplace=True)\n",
    "\n"
   ]
  },
  {
   "cell_type": "code",
   "execution_count": 14,
   "id": "1a421b44",
   "metadata": {},
   "outputs": [],
   "source": [
    "replacements = [('BOBA','BOBA FETT'), ('JANGO', 'JANGO FETT',), ( 'MACE', 'MACE WINDU'),\n",
    "               ('MACE-WINDU', 'MACE WINDU'), ('WINDU', 'MACE WINDU'), ('THREEPIO', 'C-3PO'),\n",
    "               ('OBI-WAM', 'OBI-WAN'), ('DOOKU', 'COUNT DOOKU')]\n",
    "for pair in replacements:\n",
    "    df.loc[df['Character'] == pair[0], 'Character'] = pair[1]"
   ]
  },
  {
   "cell_type": "code",
   "execution_count": 15,
   "id": "fd011d03",
   "metadata": {},
   "outputs": [
    {
     "name": "stdout",
     "output_type": "stream",
     "text": [
      "['A DESTROYER', 'A GUNGAN', 'A PROTOCOL', 'AKS MOE', 'ALARMS ARE', 'AMIDALA', 'ANAKIN', 'ARTOO', 'BAIL ORGANA', 'BATTLE DROID', 'BIBBLE', 'BOSS NASS', 'BRAVO TWO', 'C', 'C-3PO', 'CAPT', 'CAPTAIN', 'CAPTAIN PANAKA', 'CHILDEREN SING', 'DARTH MAUL', 'DARTH SIDIOUS', 'DROID TROOPS', 'EG-9', 'F', 'FANTA', 'FODE', 'FODE BEED', 'FOUR BATTLE', 'GUARD', 'GUARD DROID', 'GUNGAN LOOKOUT', 'GUNGANS', 'JABBA', 'JABBA THE', 'JAR JAR', 'JIRA', 'KITSTER', 'L', 'LOTT DOD', 'MACE WINDU', 'NUTE', 'O', 'OBI-WAN', 'OOM-9', 'OWO-1', 'PADME', 'PALPATINE', 'PAN DOWN', 'PANAKA', 'PK-4', 'QUEEN AMIDALA', 'QUI-GON', 'RIC OLIE', 'RUNE', 'SABE', 'SADBE', 'SEBULBA', 'SEEK', 'SEVERAL FEDERATION', 'SHMI', 'SIX OF', 'TC-14', 'TERTER', 'TEY HOW', 'VALORUM', 'WATTO', 'YODA']\n"
     ]
    }
   ],
   "source": [
    "character_list = list(df['Character'].unique())\n",
    "character_list.sort()\n",
    "print(character_list)"
   ]
  },
  {
   "cell_type": "code",
   "execution_count": 16,
   "id": "123f5b3a",
   "metadata": {},
   "outputs": [
    {
     "data": {
      "image/png": "[encoded data removed]",
      "text/plain": [
       "<Figure size 720x720 with 1 Axes>"
      ]
     },
     "metadata": {
      "needs_background": "light"
     },
     "output_type": "display_data"
    }
   ],
   "source": [
    "character_series = df['Character'].value_counts()\n",
    "plt.figure(figsize=(10, 10))\n",
    "ax = sns.barplot(x=character_series.values, y=character_series.index, color='green')\n",
    "\n",
    "ax.set_title('Line count per Character')\n",
    "plt.show()"
   ]
  },
  {
   "cell_type": "code",
   "execution_count": 17,
   "id": "628ef3d9",
   "metadata": {
    "scrolled": true
   },
   "outputs": [
    {
     "data": {
      "text/plain": [
       "count    67.000000\n",
       "mean      7.253731\n",
       "std      15.356711\n",
       "min       1.000000\n",
       "25%       1.000000\n",
       "50%       2.000000\n",
       "75%       5.500000\n",
       "max      83.000000\n",
       "Name: Character, dtype: float64"
      ]
     },
     "execution_count": 17,
     "metadata": {},
     "output_type": "execute_result"
    }
   ],
   "source": [
    "character_series.describe()"
   ]
  },
  {
   "cell_type": "code",
   "execution_count": 18,
   "id": "113a247f",
   "metadata": {},
   "outputs": [],
   "source": [
    "filename = './data/episode_01.pkl'\n",
    "df.to_pickle(filename)"
   ]
  },
  {
   "cell_type": "code",
   "execution_count": null,
   "id": "0cd7e06a",
   "metadata": {},
   "outputs": [],
   "source": []
  }
 ],
 "metadata": {
  "kernelspec": {
   "display_name": "Python 3",
   "language": "python",
   "name": "python3"
  },
  "language_info": {
   "codemirror_mode": {
    "name": "ipython",
    "version": 3
   },
   "file_extension": ".py",
   "mimetype": "text/x-python",
   "name": "python",
   "nbconvert_exporter": "python",
   "pygments_lexer": "ipython3",
   "version": "3.8.10"
  },
  "toc": {
   "base_numbering": 1,
   "nav_menu": {},
   "number_sections": true,
   "sideBar": true,
   "skip_h1_title": true,
   "title_cell": "Table of Contents",
   "title_sidebar": "Contents",
   "toc_cell": false,
   "toc_position": {},
   "toc_section_display": true,
   "toc_window_display": true
  }
 },
 "nbformat": 4,
 "nbformat_minor": 5
}
