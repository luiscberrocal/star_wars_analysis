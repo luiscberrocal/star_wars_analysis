{
 "cells": [
  {
   "cell_type": "markdown",
   "id": "babdb31a",
   "metadata": {},
   "source": [
    "# Star Wars Espisode 2 Data Clean"
   ]
  },
  {
   "cell_type": "code",
   "execution_count": 1,
   "id": "7fea7acd",
   "metadata": {},
   "outputs": [],
   "source": [
    "import pandas as pd\n",
    "import matplotlib.pyplot as plt\n",
    "import seaborn as sns\n",
    "import re\n",
    "import json\n",
    "\n",
    "from utils import parsing"
   ]
  },
  {
   "cell_type": "markdown",
   "id": "dcfce38e",
   "metadata": {},
   "source": [
    "## Cleaning Raw Data\n",
    "\n"
   ]
  },
  {
   "cell_type": "markdown",
   "id": "7ac349f7",
   "metadata": {},
   "source": [
    "The cleanup script with this format\n",
    "```\n",
    "\t\t\t\tAMIDALA\n",
    "\t\t\tI should not have come back.\n",
    "\n",
    "\t\t\t\tCAPTAIN TYPHO\n",
    "\t\t\tM'Lady, you are still in danger.\n",
    "````\n"
   ]
  },
  {
   "cell_type": "markdown",
   "id": "70532a9f",
   "metadata": {},
   "source": [
    "### Episode 2"
   ]
  },
  {
   "cell_type": "code",
   "execution_count": 2,
   "id": "f2e02d7c",
   "metadata": {},
   "outputs": [
    {
     "name": "stdout",
     "output_type": "stream",
     "text": [
      "Lines 5493\n"
     ]
    }
   ],
   "source": [
    "filename = './data/02_star_wars_raw.txt'\n",
    "\n",
    "with open(filename, 'r') as raw_file:\n",
    "    raw_lines_ep2 = raw_file.readlines()\n",
    "\n",
    "print(f'Lines {len(raw_lines_ep2)}')"
   ]
  },
  {
   "cell_type": "code",
   "execution_count": 3,
   "id": "3981d07c",
   "metadata": {},
   "outputs": [
    {
     "name": "stdout",
     "output_type": "stream",
     "text": [
      "****** 1 (1) *****\n",
      "['EXT. SPACE', 'A vast sea of stars severas as a backdrop for the Main Title, following by a rollup, whcih crawls into infinity.']\n",
      "****** 2 (1) *****\n",
      "['There is unrest in the Galactic Senate', 'Several hundred solar systems under', 'the leadership of the rebel leader, Count', 'Dooku, have decalred their intentions to', 'secede from the Republic.']\n",
      "****** 3 (1) *****\n",
      "['This separatist movement has made it', 'difficult for the limited number of', 'Jedi Kights to maintain peace and', 'order in the galaxy.']\n",
      "****** 4 (1) *****\n",
      "['Senator Amidala, the former Queen of', 'Naboo, is returning to Coruscant', 'to vote on the critical issue', 'of creating an army to assist the', 'overwhelmed Jedi.']\n",
      "****** 5 (1) *****\n",
      "['PAN UP to reveal the amber city planet of Coruscant. A yellow Naboo Fighter flies OVER CAMERA toward the planet, followed by a large Royal Cruiser and two more Fighters.']\n",
      "****** 6 (1) *****\n",
      "['EXT. CITYSCAPE, CORUSCANT - DAWN', 'The ships skim across the surface of the city landscape. The sun glints off the chrome hulls of the sleek Naboo spacecraft as they navigate between the buildings of the capital planet.']\n",
      "****** 7 (1) *****\n",
      "['EXT. CORUSCANT, LANDING PLATFORM - DAWN', 'Two Naboo Fighters land on one leaf of a three-leaf-clover landing platform. The Royal Starship lands on the central lead, and the third Fighter lands on the remaining plaform.']\n",
      "****** 8 (1) *****\n",
      "[\"A small GROUP OF DIGNITARIES waits to welcome the Senator. One of the members of the group os a well dressed JAR JAR BINKS, a member of the Galactic Representative Commission, and DORME, Senator Amidala's handmaiden.\"]\n",
      "****** 9 (1) *****\n",
      "[\"One of the FIGHTER PILOTS jumps from the wing of his ship and removes his helmet. He is CAPTAIN TYPHO, SENATOR AMIDALA'S Security Officer. He moves over to a WOMAN PILOT.\"]\n",
      "****** 10 (1) *****\n",
      "['CAPTAIN TYPHO', 'We made it. I guess I was wrong,', 'there was no danger at all.']\n",
      "****** 11 (1) *****\n",
      "['The ramp ;pwers. TWO NABOO GUARDS appear. SENATOR AMIDALA, ONE HANDMAIDEN (VERSE) and FOUR TROOPERS descend the ramp. AMIDALA is more beautiful now than she was ten years earlier when, as Queen, she was freeing her people from the yoke of the Trade Federation.']\n",
      "****** 12 (1) *****\n",
      "['The DIGNITARIES start to move forward. SENATOR AMIDALA reaches the foot of the ramp, when suddenly there is a blinding FLASH and a huge EXPLOSION. The DIGNITARIES and PILOTS are hurled to the ground as the starship is destroyed.']\n",
      "****** 13 (1) *****\n",
      "['Klaxons blare, alarms sound! CAPTAIN TYPHO and the TWO ESCORT PILOTS get up and run to where SENATOR AMIDALA lies dying. Beyond, ARTOO DETOO drops down from the Naboo Fighter and rolls toward the wreckage. The FEMALE ESCORT PILOT kneels by SENATOR AMIDALA and takes off her helmet, revealing SENATOR PADME AMIDALA.']\n",
      "****** 14 (1) *****\n",
      "['PADME', 'CordE...']\n",
      "****** 15 (1) *****\n",
      "[\"She gathers up her decoy double in her arms. CordE's eyes are open. She looks up at her.\"]\n",
      "****** 16 (1) *****\n",
      "['CORDE', \"... I'm sorry, m'lady... I'm... not sure I...\"]\n",
      "****** 17 (1) *****\n",
      "['CORDE dies. PADME hugs her.']\n",
      "****** 18 (1) *****\n",
      "['AMIDALA', 'No!... No!... No!...']\n",
      "****** 19 (1) *****\n",
      "['PADME lowers CORDE to the ground. She gets up and looks around at the devastation. There are tears in her eyes.']\n",
      "****** 20 (1) *****\n",
      "['AMIDALA', 'I should not have come back.']\n",
      "****** 21 (1) *****\n",
      "['CAPTAIN TYPHO', \"M'Lady, you are still in danger.\"]\n"
     ]
    }
   ],
   "source": [
    "\n",
    "\n",
    "paragraphs_ep2 = parsing.extract_paragraphs(raw_lines_ep2)\n",
    "\n",
    "for p_num, content in paragraphs_ep2.items():\n",
    "    print(f'****** {p_num} ({len(content)}) *****')\n",
    "    print(content['lines'])\n",
    "    if p_num > 20:\n",
    "        break\n",
    "    "
   ]
  },
  {
   "cell_type": "code",
   "execution_count": 4,
   "id": "36a014d8",
   "metadata": {},
   "outputs": [],
   "source": [
    "save_json = True\n",
    "if save_json:\n",
    "    filename = './output/02_star_wars.json'\n",
    "    with open(filename, 'w') as json_file:\n",
    "        json.dump(paragraphs_ep2, json_file)"
   ]
  },
  {
   "cell_type": "code",
   "execution_count": 5,
   "id": "de4afead",
   "metadata": {},
   "outputs": [],
   "source": [
    "character_lines_ep2 = parsing.parse_paragraphs(paragraphs_ep2)\n",
    "        "
   ]
  },
  {
   "cell_type": "code",
   "execution_count": 6,
   "id": "aac71004",
   "metadata": {},
   "outputs": [],
   "source": [
    "df_dict_ep2 = parsing.build_dialogue_dict(character_lines_ep2)"
   ]
  },
  {
   "cell_type": "code",
   "execution_count": 7,
   "id": "29e7da8e",
   "metadata": {},
   "outputs": [
    {
     "data": {
      "text/html": [
       "<div>\n",
       "<style scoped>\n",
       "    .dataframe tbody tr th:only-of-type {\n",
       "        vertical-align: middle;\n",
       "    }\n",
       "\n",
       "    .dataframe tbody tr th {\n",
       "        vertical-align: top;\n",
       "    }\n",
       "\n",
       "    .dataframe thead th {\n",
       "        text-align: right;\n",
       "    }\n",
       "</style>\n",
       "<table border=\"1\" class=\"dataframe\">\n",
       "  <thead>\n",
       "    <tr style=\"text-align: right;\">\n",
       "      <th></th>\n",
       "      <th>Paragraph</th>\n",
       "      <th>Character</th>\n",
       "      <th>Dialogue</th>\n",
       "    </tr>\n",
       "  </thead>\n",
       "  <tbody>\n",
       "    <tr>\n",
       "      <th>0</th>\n",
       "      <td>1</td>\n",
       "      <td>EXT</td>\n",
       "      <td>A vast sea of stars severas as a backdrop for ...</td>\n",
       "    </tr>\n",
       "    <tr>\n",
       "      <th>1</th>\n",
       "      <td>2</td>\n",
       "      <td>T</td>\n",
       "      <td>Several hundred solar systems under the leader...</td>\n",
       "    </tr>\n",
       "    <tr>\n",
       "      <th>2</th>\n",
       "      <td>3</td>\n",
       "      <td>T</td>\n",
       "      <td>difficult for the limited number of Jedi Kight...</td>\n",
       "    </tr>\n",
       "    <tr>\n",
       "      <th>3</th>\n",
       "      <td>4</td>\n",
       "      <td>S</td>\n",
       "      <td>Naboo, is returning to Coruscant to vote on th...</td>\n",
       "    </tr>\n",
       "    <tr>\n",
       "      <th>4</th>\n",
       "      <td>6</td>\n",
       "      <td>EXT</td>\n",
       "      <td>The ships skim across the surface of the city ...</td>\n",
       "    </tr>\n",
       "  </tbody>\n",
       "</table>\n",
       "</div>"
      ],
      "text/plain": [
       "   Paragraph Character                                           Dialogue\n",
       "0          1       EXT  A vast sea of stars severas as a backdrop for ...\n",
       "1          2         T  Several hundred solar systems under the leader...\n",
       "2          3         T  difficult for the limited number of Jedi Kight...\n",
       "3          4         S  Naboo, is returning to Coruscant to vote on th...\n",
       "4          6       EXT  The ships skim across the surface of the city ..."
      ]
     },
     "execution_count": 7,
     "metadata": {},
     "output_type": "execute_result"
    }
   ],
   "source": [
    "df_ep2 = pd.DataFrame.from_dict(df_dict_ep2)\n",
    "df_ep2.head()"
   ]
  },
  {
   "cell_type": "code",
   "execution_count": 8,
   "id": "887c350b",
   "metadata": {},
   "outputs": [
    {
     "data": {
      "text/plain": [
       "array(['EXT', 'T', 'S', 'CAPTAIN TYPHO', 'PADME', 'CORDE', 'AMIDALA',\n",
       "       'INT', 'MAS AMEDDA', 'PALPATINE', 'SENATOR ASK', 'A',\n",
       "       'AMBASSADOR DARSANA', 'ORN FREE', 'MACE WINDU', 'YODA', 'DAR WAC',\n",
       "       'KI-ADI-MUNDI', 'BAIL ORGANA', 'JAR JAR', 'OBI-WAN', 'ANAKIN',\n",
       "       'ELAN SLEAZEBAGGANO', 'ELAN', 'ZAM WESSEL', 'ZAM', 'DORME', 'PK-4',\n",
       "       'SERVER', 'FOOD SERVER', 'HERMIONE', 'HERMIONE BAGWA',\n",
       "       'DEXTER JETTSTER', 'QUEEN JAMILLIA', 'SIO BIBBLE', 'JOCASTA NU',\n",
       "       'RYOO', 'SOLA', 'JOBAL', 'RUWEE', 'JOVAL', 'CHILDREN',\n",
       "       'JEDI CHILD', 'MACE', 'MACE-WINDU', 'TAUN WE', 'LAMA SU',\n",
       "       'OBI-WAM', 'WINDU', 'PAMDE', 'BOBA FETT', 'JANGO FETT', 'JANGO',\n",
       "       'BOBA', 'WATTO', 'C-3PO', 'OWEN', 'BERU', 'CLIEGG', 'H', 'SHMI',\n",
       "       'THREEPIO', 'COUNT DOOKU', 'DOOKU', 'SUN RIT', 'POGGLE',\n",
       "       'NUTE GUNRAY', 'PLO KOON', 'DROID CAPTAIN', 'CLONE CAPTAIN',\n",
       "       'DARTH SIDIOUS'], dtype=object)"
      ]
     },
     "execution_count": 8,
     "metadata": {},
     "output_type": "execute_result"
    }
   ],
   "source": [
    "df_ep2['Character'] = df_ep2['Character'].str.strip()\n",
    "df_ep2['Character'].unique()"
   ]
  },
  {
   "cell_type": "code",
   "execution_count": 9,
   "id": "95a2a7fa",
   "metadata": {},
   "outputs": [],
   "source": [
    "non_characters = ['EXT', 'T', 'S', 'INT', 'A', 'H']\n",
    "\n",
    "for character in non_characters:\n",
    "    condition = (df_ep2['Character'] == character)\n",
    "    df_ep2.drop(df_ep2[condition].index, inplace=True)\n"
   ]
  },
  {
   "cell_type": "code",
   "execution_count": 10,
   "id": "1a421b44",
   "metadata": {},
   "outputs": [],
   "source": [
    "replacements = [('BOBA','BOBA FETT'), ('JANGO', 'JANGO FETT',), ( 'MACE', 'MACE WINDU'),\n",
    "               ('MACE-WINDU', 'MACE WINDU'), ('WINDU', 'MACE WINDU'), ('THREEPIO', 'C-3PO'),\n",
    "               ('OBI-WAM', 'OBI-WAN'), ('DOOKU', 'COUNT DOOKU')]\n",
    "for pair in replacements:\n",
    "    df_ep2.loc[df_ep2['Character'] == pair[0], 'Character'] = pair[1]"
   ]
  },
  {
   "cell_type": "code",
   "execution_count": 11,
   "id": "fd011d03",
   "metadata": {},
   "outputs": [
    {
     "name": "stdout",
     "output_type": "stream",
     "text": [
      "['AMBASSADOR DARSANA', 'AMIDALA', 'ANAKIN', 'BAIL ORGANA', 'BERU', 'BOBA FETT', 'C-3PO', 'CAPTAIN TYPHO', 'CHILDREN', 'CLIEGG', 'CLONE CAPTAIN', 'CORDE', 'COUNT DOOKU', 'DAR WAC', 'DARTH SIDIOUS', 'DEXTER JETTSTER', 'DORME', 'DROID CAPTAIN', 'ELAN', 'ELAN SLEAZEBAGGANO', 'FOOD SERVER', 'HERMIONE', 'HERMIONE BAGWA', 'JANGO FETT', 'JAR JAR', 'JEDI CHILD', 'JOBAL', 'JOCASTA NU', 'JOVAL', 'KI-ADI-MUNDI', 'LAMA SU', 'MACE WINDU', 'MAS AMEDDA', 'NUTE GUNRAY', 'OBI-WAN', 'ORN FREE', 'OWEN', 'PADME', 'PALPATINE', 'PAMDE', 'PK-4', 'PLO KOON', 'POGGLE', 'QUEEN JAMILLIA', 'RUWEE', 'RYOO', 'SENATOR ASK', 'SERVER', 'SHMI', 'SIO BIBBLE', 'SOLA', 'SUN RIT', 'TAUN WE', 'WATTO', 'YODA', 'ZAM', 'ZAM WESSEL']\n"
     ]
    }
   ],
   "source": [
    "character_list = list(df_ep2['Character'].unique())\n",
    "character_list.sort()\n",
    "print(character_list)"
   ]
  },
  {
   "cell_type": "code",
   "execution_count": 12,
   "id": "123f5b3a",
   "metadata": {},
   "outputs": [
    {
     "data": {
      "image/png": "[encoded data removed]",
      "text/plain": [
       "<Figure size 720x720 with 1 Axes>"
      ]
     },
     "metadata": {
      "needs_background": "light"
     },
     "output_type": "display_data"
    }
   ],
   "source": [
    "character_series = df_ep2['Character'].value_counts()\n",
    "plt.figure(figsize=(10, 10))\n",
    "ax = sns.barplot(x=character_series.values, y=character_series.index, color='green')\n",
    "\n",
    "ax.set_title('Line count per Character')\n",
    "plt.show()"
   ]
  },
  {
   "cell_type": "code",
   "execution_count": 13,
   "id": "628ef3d9",
   "metadata": {
    "scrolled": true
   },
   "outputs": [
    {
     "data": {
      "text/plain": [
       "count     57.000000\n",
       "mean      15.561404\n",
       "std       38.308437\n",
       "min        1.000000\n",
       "25%        2.000000\n",
       "50%        4.000000\n",
       "75%       11.000000\n",
       "max      193.000000\n",
       "Name: Character, dtype: float64"
      ]
     },
     "execution_count": 13,
     "metadata": {},
     "output_type": "execute_result"
    }
   ],
   "source": [
    "character_series.describe()"
   ]
  },
  {
   "cell_type": "code",
   "execution_count": 14,
   "id": "113a247f",
   "metadata": {},
   "outputs": [],
   "source": [
    "filename = './data/episode_02.pkl'\n",
    "df_ep2.to_pickle(filename)"
   ]
  },
  {
   "cell_type": "markdown",
   "id": "e4754345",
   "metadata": {},
   "source": [
    "### Episode 6\n"
   ]
  },
  {
   "cell_type": "code",
   "execution_count": 15,
   "id": "b9ee79ec",
   "metadata": {},
   "outputs": [
    {
     "name": "stdout",
     "output_type": "stream",
     "text": [
      "Lines 4668\n"
     ]
    }
   ],
   "source": [
    "filename = './data/06_star_wars_raw.txt'\n",
    "\n",
    "with open(filename, 'r') as raw_file:\n",
    "    raw_lines_ep3 = raw_file.readlines()\n",
    "\n",
    "print(f'Lines {len(raw_lines_ep3)}')"
   ]
  },
  {
   "cell_type": "code",
   "execution_count": 16,
   "id": "26b7aa47",
   "metadata": {},
   "outputs": [
    {
     "name": "stdout",
     "output_type": "stream",
     "text": [
      "****** 1 (1) *****\n",
      "['RETURN', 'OF THE', 'JEDI']\n",
      "****** 2 (1) *****\n",
      "['by', 'Lawrence Kasdan', '&', 'George Lucas']\n",
      "****** 3 (1) *****\n",
      "['From The Novel', 'by', 'George Lucas']\n",
      "****** 4 (1) *****\n",
      "['Third Draft']\n",
      "****** 5 (1) *****\n",
      "['Property of Lucasfilm Ltd.']\n",
      "****** 6 (1) *****\n",
      "[]\n",
      "****** 7 (1) *****\n",
      "['Completion Date December 1, 1981']\n",
      "****** 8 (1) *****\n",
      "['1    SPACE']\n",
      "****** 9 (1) *****\n",
      "['The boundless heavens serve as a back-drop for the MAIN TITLE, followed', 'by a ROLL-UP, which crawls into infinity.']\n",
      "****** 10 (1) *****\n",
      "['Episode VI', 'RETURN OF THE JEDI']\n",
      "****** 11 (1) *****\n",
      "['Luke Skywalker has returned to his home planet of Tatooine in an', 'attempt to rescue his friend Han Solo from the clutches of theEvile', 'gangster Jabba the Hutt. Little does Luke know that the GALACTIC EMPIRE', 'has secretly begun construction on a new armored space station even', 'more powerful than the first dreaded Death Star. When completed, this', 'ultimate weapon will spell certain doom for the small band of Rebels', 'struggling to restore freedom to the galaxy...']\n",
      "****** 12 (1) *****\n",
      "['PAN DOWN to reveal a monstrous half-completed Death Star, its massive', 'superstructure curling away from the completed section like the arms of', 'a giant octopus. Beyond, in benevolent contrast, floats the small,', 'green moon of ENDOR.']\n",
      "****** 13 (1) *****\n",
      "['An Imperial Star Destroyer moves overhead toward the massive armored', 'space station, followed by two zipping TIE fighters. A small Imperial', 'shuttle rockets from the main bay of the ship and hustles toward the', 'Death Star.']\n",
      "****** 14 (1) *****\n",
      "['2    INT IMPERIAL SHUTTLE - COCKPIT', 'The shuttle captain makes contact with the Death Star.']\n",
      "****** 15 (1) *****\n",
      "['SHUTTLE CAPTAIN', \"Command station, this is ST 321. Code Clearance Blue. We're starting\", 'our approach. Deactivate the security shield.']\n",
      "****** 16 (1) *****\n",
      "['DEATH STAR CONTROLLER(filtered VO)', 'The security deflector shield will be deactivated when we have', 'confirmation of your code transmission. Stand by... You are clear to', 'proceed.']\n",
      "****** 17 (1) *****\n",
      "['SHUTTLE CAPTAIN', \"We're starting our approach.\"]\n",
      "****** 18 (1) *****\n",
      "['3    INT DEATH STAR - CONTROL ROOM']\n",
      "****** 19 (1) *****\n",
      "['Operators move about among the control panels. A SHIELD OPERATOR hits', 'switches beside a large screen, on which is a display of the Death', 'Star, the moon Endor, and a bright web delineating the invisible', 'deflector shield.']\n",
      "****** 20 (1) *****\n",
      "['A control officer rushes over to the shield operator.']\n",
      "****** 21 (1) *****\n",
      "['OFFICER', \"Inform the commander that Lord Vader's shuttle has arrived.\"]\n"
     ]
    }
   ],
   "source": [
    "paragraphs_ep3 = parsing.extract_paragraphs(raw_lines_ep3) \n",
    "\n",
    "for p_num, content in paragraphs_ep3.items():\n",
    "    print(f'****** {p_num} ({len(content)}) *****')\n",
    "    print(content['lines'])\n",
    "    if p_num > 20:\n",
    "        break"
   ]
  },
  {
   "cell_type": "code",
   "execution_count": 17,
   "id": "f2e259ff",
   "metadata": {},
   "outputs": [],
   "source": [
    "if save_json:\n",
    "    filename = './output/06_star_wars.json'\n",
    "    with open(filename, 'w') as json_file:\n",
    "        json.dump(paragraphs_ep3, json_file)"
   ]
  },
  {
   "cell_type": "code",
   "execution_count": 18,
   "id": "6cceccfe",
   "metadata": {},
   "outputs": [],
   "source": [
    "character_lines_ep3 = parsing.parse_paragraphs(paragraphs_ep3)"
   ]
  },
  {
   "cell_type": "code",
   "execution_count": 19,
   "id": "709ffac2",
   "metadata": {},
   "outputs": [
    {
     "data": {
      "text/html": [
       "<div>\n",
       "<style scoped>\n",
       "    .dataframe tbody tr th:only-of-type {\n",
       "        vertical-align: middle;\n",
       "    }\n",
       "\n",
       "    .dataframe tbody tr th {\n",
       "        vertical-align: top;\n",
       "    }\n",
       "\n",
       "    .dataframe thead th {\n",
       "        text-align: right;\n",
       "    }\n",
       "</style>\n",
       "<table border=\"1\" class=\"dataframe\">\n",
       "  <thead>\n",
       "    <tr style=\"text-align: right;\">\n",
       "      <th></th>\n",
       "      <th>Paragraph</th>\n",
       "      <th>Character</th>\n",
       "      <th>Dialogue</th>\n",
       "    </tr>\n",
       "  </thead>\n",
       "  <tbody>\n",
       "    <tr>\n",
       "      <th>0</th>\n",
       "      <td>1</td>\n",
       "      <td>RETURN</td>\n",
       "      <td>OF THE JEDI</td>\n",
       "    </tr>\n",
       "    <tr>\n",
       "      <th>1</th>\n",
       "      <td>3</td>\n",
       "      <td>F</td>\n",
       "      <td>by George Lucas</td>\n",
       "    </tr>\n",
       "    <tr>\n",
       "      <th>2</th>\n",
       "      <td>9</td>\n",
       "      <td>T</td>\n",
       "      <td>by a ROLL-UP, which crawls into infinity.</td>\n",
       "    </tr>\n",
       "    <tr>\n",
       "      <th>3</th>\n",
       "      <td>10</td>\n",
       "      <td>E</td>\n",
       "      <td>RETURN OF THE JEDI</td>\n",
       "    </tr>\n",
       "    <tr>\n",
       "      <th>4</th>\n",
       "      <td>11</td>\n",
       "      <td>L</td>\n",
       "      <td>attempt to rescue his friend Han Solo from the...</td>\n",
       "    </tr>\n",
       "  </tbody>\n",
       "</table>\n",
       "</div>"
      ],
      "text/plain": [
       "   Paragraph Character                                           Dialogue\n",
       "0          1    RETURN                                        OF THE JEDI\n",
       "1          3         F                                    by George Lucas\n",
       "2          9         T          by a ROLL-UP, which crawls into infinity.\n",
       "3         10         E                                 RETURN OF THE JEDI\n",
       "4         11         L  attempt to rescue his friend Han Solo from the..."
      ]
     },
     "execution_count": 19,
     "metadata": {},
     "output_type": "execute_result"
    }
   ],
   "source": [
    "df_dict_ep3 = parsing.build_dialogue_dict(character_lines_ep3)\n",
    "\n",
    "if save_json:\n",
    "    filename = './output/03_star_wars_char.json'\n",
    "    with open(filename, 'w') as json_file:\n",
    "        json.dump(df_dict_ep3, json_file)\n",
    "        \n",
    "df_ep3 = pd.DataFrame.from_dict(df_dict_ep3)\n",
    "df_ep3.head()"
   ]
  },
  {
   "cell_type": "code",
   "execution_count": 20,
   "id": "6bc21e85",
   "metadata": {},
   "outputs": [
    {
     "data": {
      "text/plain": [
       "array(['RETURN', 'F', 'T', 'E', 'L', 'PAN DOWN', 'A', '2',\n",
       "       'SHUTTLE CAPTAIN', 'DEATH STAR', 'O', 'OFFICER', 'OPERATOR',\n",
       "       'JERJERROD', 'VADER', 'THREEPIO', 'STRANGE VOICE', 'W', 'BIB', 'B',\n",
       "       'JABBA', 'LUKE', 'J', 'NINEDENINE', 'OOLA', 'H', 'BOUSHH', 'G',\n",
       "       'S', 'HAN', 'LEIA', 'I', 'N', 'LANDO', 'C', 'A S', 'EMPEROR', 'V',\n",
       "       'YODA', 'Y', 'BEN', 'MON MOTHMA', 'ACKBAR', 'GENERAL MADINE',\n",
       "       'VOICE', 'D', 'CONTROLLER', 'PIETT', 'PILOT VOICE', 'U',\n",
       "       'THEIR POV', 'SCOUT', 'FAR AHEAD', 'ANOTHER PART', 'R', 'GUARD',\n",
       "       'COMMANDER', 'LURE', 'P', 'WEDGE', 'GRAY LEADER', 'GREEN LEADER',\n",
       "       'RED LEADER', 'A M', 'REBEL PILOT', 'STORMTROOPER',\n",
       "       'BUNKER COMMANDER', '101', 'RED TWO', 'RED THREE', 'NAVIGATOR',\n",
       "       'Y-WING PILOT', 'WALKER PILOT', 'PILOT', 'CONTROL ROOM',\n",
       "       'SECOND COMMANDER', 'ANAKIN'], dtype=object)"
      ]
     },
     "execution_count": 20,
     "metadata": {},
     "output_type": "execute_result"
    }
   ],
   "source": [
    "df_ep3['Character'] = df_ep3['Character'].str.strip()\n",
    "df_ep3['Character'].unique()"
   ]
  },
  {
   "cell_type": "code",
   "execution_count": 21,
   "id": "7f16adb3",
   "metadata": {},
   "outputs": [],
   "source": [
    "non_characters = ['RETURN', 'F', 'T', 'E', 'L', 'PAN DOWN', 'A', '2',\n",
    "                 'O',  'W', 'B', 'J', 'H', 'G','S',  'I', 'N', 'C', 'Y',  'D',\n",
    "                  'U', 'FAR AHEAD',  'R', 'GUARD', 'P', 'V',]\n",
    "\n",
    "for character in non_characters:\n",
    "    condition = (df_ep3['Character'] == character)\n",
    "    df_ep3.drop(df_ep3[condition].index, inplace=True)"
   ]
  },
  {
   "cell_type": "code",
   "execution_count": 22,
   "id": "a3a24ad8",
   "metadata": {},
   "outputs": [
    {
     "name": "stdout",
     "output_type": "stream",
     "text": [
      "['101', 'A M', 'A S', 'ACKBAR', 'ANAKIN', 'ANOTHER PART', 'BEN', 'BIB', 'BOUSHH', 'BUNKER COMMANDER', 'COMMANDER', 'CONTROL ROOM', 'CONTROLLER', 'DEATH STAR', 'EMPEROR', 'GENERAL MADINE', 'GRAY LEADER', 'GREEN LEADER', 'HAN', 'JABBA', 'JERJERROD', 'LANDO', 'LEIA', 'LUKE', 'LURE', 'MON MOTHMA', 'NAVIGATOR', 'NINEDENINE', 'OFFICER', 'OOLA', 'OPERATOR', 'PIETT', 'PILOT', 'PILOT VOICE', 'REBEL PILOT', 'RED LEADER', 'RED THREE', 'RED TWO', 'SCOUT', 'SECOND COMMANDER', 'SHUTTLE CAPTAIN', 'STORMTROOPER', 'STRANGE VOICE', 'THEIR POV', 'THREEPIO', 'VADER', 'VOICE', 'WALKER PILOT', 'WEDGE', 'Y-WING PILOT', 'YODA']\n"
     ]
    }
   ],
   "source": [
    "character_list = list(df_ep3['Character'].unique())\n",
    "character_list.sort()\n",
    "print(character_list)"
   ]
  },
  {
   "cell_type": "code",
   "execution_count": 23,
   "id": "1dfefa94",
   "metadata": {},
   "outputs": [
    {
     "data": {
      "image/png": "[encoded data removed]",
      "text/plain": [
       "<Figure size 720x720 with 1 Axes>"
      ]
     },
     "metadata": {
      "needs_background": "light"
     },
     "output_type": "display_data"
    }
   ],
   "source": [
    "character_series_ep3 = df_ep3['Character'].value_counts()\n",
    "plt.figure(figsize=(10, 10))\n",
    "ax = sns.barplot(x=character_series_ep3.values, y=character_series_ep3.index, \n",
    "                 color='blue', alpha=0.5)\n",
    "\n",
    "ax.set_title('Line count per Character')\n",
    "plt.show()"
   ]
  },
  {
   "cell_type": "code",
   "execution_count": 24,
   "id": "17c60eca",
   "metadata": {},
   "outputs": [],
   "source": [
    "filename = './data/episode_06.pkl'\n",
    "df_ep3.to_pickle(filename)"
   ]
  }
 ],
 "metadata": {
  "kernelspec": {
   "display_name": "Python 3",
   "language": "python",
   "name": "python3"
  },
  "language_info": {
   "codemirror_mode": {
    "name": "ipython",
    "version": 3
   },
   "file_extension": ".py",
   "mimetype": "text/x-python",
   "name": "python",
   "nbconvert_exporter": "python",
   "pygments_lexer": "ipython3",
   "version": "3.8.10"
  },
  "toc": {
   "base_numbering": 1,
   "nav_menu": {},
   "number_sections": true,
   "sideBar": true,
   "skip_h1_title": true,
   "title_cell": "Table of Contents",
   "title_sidebar": "Contents",
   "toc_cell": false,
   "toc_position": {
    "height": "calc(100% - 180px)",
    "left": "10px",
    "top": "150px",
    "width": "227.35px"
   },
   "toc_section_display": true,
   "toc_window_display": true
  }
 },
 "nbformat": 4,
 "nbformat_minor": 5
}
