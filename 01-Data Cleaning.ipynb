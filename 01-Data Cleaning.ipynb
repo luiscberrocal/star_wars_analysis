{
 "cells": [
  {
   "cell_type": "markdown",
   "id": "babdb31a",
   "metadata": {},
   "source": [
    "# Star Wars Data Clean"
   ]
  },
  {
   "cell_type": "code",
   "execution_count": 1,
   "id": "7fea7acd",
   "metadata": {},
   "outputs": [],
   "source": [
    "import pandas as pd\n",
    "import matplotlib.pyplot as plt\n",
    "\n",
    "import re\n"
   ]
  },
  {
   "cell_type": "markdown",
   "id": "e99204e7",
   "metadata": {},
   "source": [
    "## Cleaning Raw Data\n",
    "\n"
   ]
  },
  {
   "cell_type": "markdown",
   "id": "30c2012a",
   "metadata": {},
   "source": [
    "### Episode 2"
   ]
  },
  {
   "cell_type": "code",
   "execution_count": 3,
   "id": "0d7e28b4",
   "metadata": {},
   "outputs": [
    {
     "name": "stdout",
     "output_type": "stream",
     "text": [
      "Lines 5493\n"
     ]
    }
   ],
   "source": [
    "filename = './data/02_star_wars_raw.txt'\n",
    "\n",
    "with open(filename, 'r') as raw_file:\n",
    "    raw_lines = raw_file.readlines()\n",
    "\n",
    "print(f'Lines {len(raw_lines)}')"
   ]
  },
  {
   "cell_type": "code",
   "execution_count": 6,
   "id": "8a177600",
   "metadata": {},
   "outputs": [
    {
     "name": "stdout",
     "output_type": "stream",
     "text": [
      "****** 1 (2) *****\n",
      "['EXT. SPACE\\n', 'A vast sea of stars severas as a backdrop for the Main Title, following by a rollup, whcih crawls into infinity.\\n']\n",
      "****** 2 (5) *****\n",
      "['\\t\\t\\t\\tThere is unrest in the Galactic Senate\\n', '\\t\\t\\t\\tSeveral hundred solar systems under\\n', '\\t\\t\\t\\tthe leadership of the rebel leader, Count\\n', '\\t\\t\\t\\tDooku, have decalred their intentions to\\n', '\\t\\t\\t\\tsecede from the Republic.\\n']\n",
      "****** 3 (4) *****\n",
      "['\\t\\t\\t\\tThis separatist movement has made it\\n', '\\t\\t\\t\\tdifficult for the limited number of\\n', '\\t\\t\\t\\tJedi Kights to maintain peace and\\n', '\\t\\t\\t\\torder in the galaxy.\\n']\n",
      "****** 4 (5) *****\n",
      "['\\t\\t\\t\\tSenator Amidala, the former Queen of\\n', '\\t\\t\\t\\tNaboo, is returning to Coruscant\\n', '\\t\\t\\t\\tto vote on the critical issue\\n', '\\t\\t\\t\\tof creating an army to assist the\\n', '\\t\\t\\t\\toverwhelmed Jedi.\\n']\n",
      "****** 5 (1) *****\n",
      "['PAN UP to reveal the amber city planet of Coruscant. A yellow Naboo Fighter flies OVER CAMERA toward the planet, followed by a large Royal Cruiser and two more Fighters.\\n']\n",
      "****** 6 (2) *****\n",
      "['EXT. CITYSCAPE, CORUSCANT - DAWN\\n', 'The ships skim across the surface of the city landscape. The sun glints off the chrome hulls of the sleek Naboo spacecraft as they navigate between the buildings of the capital planet.\\n']\n",
      "****** 7 (2) *****\n",
      "['EXT. CORUSCANT, LANDING PLATFORM - DAWN\\n', 'Two Naboo Fighters land on one leaf of a three-leaf-clover landing platform. The Royal Starship lands on the central lead, and the third Fighter lands on the remaining plaform.\\n']\n",
      "****** 8 (1) *****\n",
      "[\"A small GROUP OF DIGNITARIES waits to welcome the Senator. One of the members of the group os a well dressed JAR JAR BINKS, a member of the Galactic Representative Commission, and DORME, Senator Amidala's handmaiden.\\n\"]\n",
      "****** 9 (1) *****\n",
      "[\"One of the FIGHTER PILOTS jumps from the wing of his ship and removes his helmet. He is CAPTAIN TYPHO, SENATOR AMIDALA'S Security Officer. He moves over to a WOMAN PILOT.\\n\"]\n",
      "****** 10 (3) *****\n",
      "['CAPTAIN TYPHO\\n', 'We made it. I guess I was wrong,\\n', 'there was no danger at all.\\n']\n",
      "****** 11 (1) *****\n",
      "['The ramp ;pwers. TWO NABOO GUARDS appear. SENATOR AMIDALA, ONE HANDMAIDEN (VERSE) and FOUR TROOPERS descend the ramp. AMIDALA is more beautiful now than she was ten years earlier when, as Queen, she was freeing her people from the yoke of the Trade Federation.\\n']\n"
     ]
    }
   ],
   "source": [
    "paragraphs = dict()\n",
    "\n",
    "paragraph_num = 1\n",
    "paragraphs[paragraph_num] = list()\n",
    "\n",
    "for line in raw_lines:\n",
    "    if line == '\\n':\n",
    "        paragraph_num += 1\n",
    "        paragraphs[paragraph_num] = list()\n",
    "    else:\n",
    "        paragraphs[paragraph_num].append(line)\n",
    "        \n",
    "for p_num, content in paragraphs.items():\n",
    "    print(f'****** {p_num} ({len(content)}) *****')\n",
    "    print(content)\n",
    "    if p_num > 10:\n",
    "        break\n",
    "    "
   ]
  },
  {
   "cell_type": "code",
   "execution_count": null,
   "id": "785d1264",
   "metadata": {},
   "outputs": [],
   "source": []
  }
 ],
 "metadata": {
  "kernelspec": {
   "display_name": "Python 3",
   "language": "python",
   "name": "python3"
  },
  "language_info": {
   "codemirror_mode": {
    "name": "ipython",
    "version": 3
   },
   "file_extension": ".py",
   "mimetype": "text/x-python",
   "name": "python",
   "nbconvert_exporter": "python",
   "pygments_lexer": "ipython3",
   "version": "3.8.10"
  }
 },
 "nbformat": 4,
 "nbformat_minor": 5
}
