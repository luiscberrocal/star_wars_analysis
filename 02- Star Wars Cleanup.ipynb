{
 "cells": [
  {
   "cell_type": "markdown",
   "id": "03392ea2",
   "metadata": {},
   "source": [
    "# Cleanup of Star Wars"
   ]
  },
  {
   "cell_type": "code",
   "execution_count": 1,
   "id": "832f1cdd",
   "metadata": {},
   "outputs": [],
   "source": [
    "import pandas as pd\n",
    "import matplotlib.pyplot as plt\n",
    "import seaborn as sns\n",
    "import re\n",
    "import json"
   ]
  },
  {
   "cell_type": "markdown",
   "id": "f8562938",
   "metadata": {},
   "source": [
    "## Loading Data"
   ]
  },
  {
   "cell_type": "markdown",
   "id": "44471183",
   "metadata": {},
   "source": [
    "### Episode 1, Episode 2 and 3\n"
   ]
  },
  {
   "cell_type": "code",
   "execution_count": 2,
   "id": "6e0181c5",
   "metadata": {},
   "outputs": [],
   "source": [
    "pkl_episodes = [{'filename': 'episode_01.pkl', 'name': 'The Phantom Menace'}, \n",
    "            {'filename': 'episode_02.pkl', 'name':'Attack of the Clones'},\n",
    "               ]\n",
    "\n",
    "for episode in pkl_episodes:\n",
    "    filename = f'./data/{episode[\"filename\"]}'\n",
    "    episode['df'] = pd.read_pickle(filename)\n",
    "    episode['df'].drop([\"Paragraph\"],axis=1,inplace=True)\n",
    "    episode['df'].rename(columns={'Character': 'character', 'Dialogue': 'dialogue'}, inplace=True)\n",
    "    episode['df']['episode'] = episode['name']"
   ]
  },
  {
   "cell_type": "code",
   "execution_count": 3,
   "id": "a358bf78",
   "metadata": {},
   "outputs": [
    {
     "data": {
      "text/html": [
       "<div>\n",
       "<style scoped>\n",
       "    .dataframe tbody tr th:only-of-type {\n",
       "        vertical-align: middle;\n",
       "    }\n",
       "\n",
       "    .dataframe tbody tr th {\n",
       "        vertical-align: top;\n",
       "    }\n",
       "\n",
       "    .dataframe thead th {\n",
       "        text-align: right;\n",
       "    }\n",
       "</style>\n",
       "<table border=\"1\" class=\"dataframe\">\n",
       "  <thead>\n",
       "    <tr style=\"text-align: right;\">\n",
       "      <th></th>\n",
       "      <th>character</th>\n",
       "      <th>dialogue</th>\n",
       "      <th>episode</th>\n",
       "    </tr>\n",
       "  </thead>\n",
       "  <tbody>\n",
       "    <tr>\n",
       "      <th>2</th>\n",
       "      <td>PAN DOWN</td>\n",
       "      <td>speed. PAN with the cruiser as it heads toward...</td>\n",
       "      <td>The Phantom Menace</td>\n",
       "    </tr>\n",
       "    <tr>\n",
       "      <th>4</th>\n",
       "      <td>CAPTAIN</td>\n",
       "      <td>QUI-GON : (V.O) Tell them we wish to board at ...</td>\n",
       "      <td>The Phantom Menace</td>\n",
       "    </tr>\n",
       "    <tr>\n",
       "      <th>6</th>\n",
       "      <td>CAPTAIN</td>\n",
       "      <td>Ambassodors for the Supreme Chancellor wish to...</td>\n",
       "      <td>The Phantom Menace</td>\n",
       "    </tr>\n",
       "    <tr>\n",
       "      <th>9</th>\n",
       "      <td>A PROTOCOL</td>\n",
       "      <td>DROIDS, PK-4 and EG-9 watch.</td>\n",
       "      <td>The Phantom Menace</td>\n",
       "    </tr>\n",
       "    <tr>\n",
       "      <th>10</th>\n",
       "      <td>PK-4</td>\n",
       "      <td>protocol gearheads to greet them.</td>\n",
       "      <td>The Phantom Menace</td>\n",
       "    </tr>\n",
       "  </tbody>\n",
       "</table>\n",
       "</div>"
      ],
      "text/plain": [
       "     character                                           dialogue  \\\n",
       "2     PAN DOWN  speed. PAN with the cruiser as it heads toward...   \n",
       "4      CAPTAIN  QUI-GON : (V.O) Tell them we wish to board at ...   \n",
       "6      CAPTAIN  Ambassodors for the Supreme Chancellor wish to...   \n",
       "9   A PROTOCOL                       DROIDS, PK-4 and EG-9 watch.   \n",
       "10        PK-4                  protocol gearheads to greet them.   \n",
       "\n",
       "               episode  \n",
       "2   The Phantom Menace  \n",
       "4   The Phantom Menace  \n",
       "6   The Phantom Menace  \n",
       "9   The Phantom Menace  \n",
       "10  The Phantom Menace  "
      ]
     },
     "execution_count": 3,
     "metadata": {},
     "output_type": "execute_result"
    }
   ],
   "source": [
    "pkl_episodes[0]['df'].head()"
   ]
  },
  {
   "cell_type": "code",
   "execution_count": 4,
   "id": "eca41b42",
   "metadata": {},
   "outputs": [
    {
     "data": {
      "text/html": [
       "<div>\n",
       "<style scoped>\n",
       "    .dataframe tbody tr th:only-of-type {\n",
       "        vertical-align: middle;\n",
       "    }\n",
       "\n",
       "    .dataframe tbody tr th {\n",
       "        vertical-align: top;\n",
       "    }\n",
       "\n",
       "    .dataframe thead th {\n",
       "        text-align: right;\n",
       "    }\n",
       "</style>\n",
       "<table border=\"1\" class=\"dataframe\">\n",
       "  <thead>\n",
       "    <tr style=\"text-align: right;\">\n",
       "      <th></th>\n",
       "      <th>character</th>\n",
       "      <th>dialogue</th>\n",
       "      <th>episode</th>\n",
       "    </tr>\n",
       "  </thead>\n",
       "  <tbody>\n",
       "    <tr>\n",
       "      <th>6</th>\n",
       "      <td>CAPTAIN TYPHO</td>\n",
       "      <td>We made it. I guess I was wrong, there was no ...</td>\n",
       "      <td>Attack of the Clones</td>\n",
       "    </tr>\n",
       "    <tr>\n",
       "      <th>7</th>\n",
       "      <td>PADME</td>\n",
       "      <td>CordE...</td>\n",
       "      <td>Attack of the Clones</td>\n",
       "    </tr>\n",
       "    <tr>\n",
       "      <th>8</th>\n",
       "      <td>CORDE</td>\n",
       "      <td>... I'm sorry, m'lady... I'm... not sure I...</td>\n",
       "      <td>Attack of the Clones</td>\n",
       "    </tr>\n",
       "    <tr>\n",
       "      <th>9</th>\n",
       "      <td>AMIDALA</td>\n",
       "      <td>No!... No!... No!...</td>\n",
       "      <td>Attack of the Clones</td>\n",
       "    </tr>\n",
       "    <tr>\n",
       "      <th>10</th>\n",
       "      <td>AMIDALA</td>\n",
       "      <td>I should not have come back.</td>\n",
       "      <td>Attack of the Clones</td>\n",
       "    </tr>\n",
       "  </tbody>\n",
       "</table>\n",
       "</div>"
      ],
      "text/plain": [
       "        character                                           dialogue  \\\n",
       "6   CAPTAIN TYPHO  We made it. I guess I was wrong, there was no ...   \n",
       "7           PADME                                           CordE...   \n",
       "8           CORDE      ... I'm sorry, m'lady... I'm... not sure I...   \n",
       "9         AMIDALA                               No!... No!... No!...   \n",
       "10        AMIDALA                       I should not have come back.   \n",
       "\n",
       "                 episode  \n",
       "6   Attack of the Clones  \n",
       "7   Attack of the Clones  \n",
       "8   Attack of the Clones  \n",
       "9   Attack of the Clones  \n",
       "10  Attack of the Clones  "
      ]
     },
     "execution_count": 4,
     "metadata": {},
     "output_type": "execute_result"
    }
   ],
   "source": [
    "pkl_episodes[1]['df'].head()"
   ]
  },
  {
   "cell_type": "markdown",
   "id": "fe48d485",
   "metadata": {},
   "source": [
    "### Episode 4, 5 and 6"
   ]
  },
  {
   "cell_type": "code",
   "execution_count": 5,
   "id": "58208e25",
   "metadata": {},
   "outputs": [],
   "source": [
    "csv_episodes = [{'filename': '04_star_wars.txt', 'name': 'A New Hope'}, \n",
    "            {'filename': '05_star_wars.txt', 'name':'The Empire Strikes Back'},\n",
    "            {'filename': '06_star_wars.txt', 'name':'The Return of the Jedi'},]\n",
    "\n",
    "for episode in csv_episodes:\n",
    "    filename = f'./data/{episode[\"filename\"]}'\n",
    "    episode['df'] = pd.read_csv(filename, delim_whitespace=True,\n",
    "                      names=[\"index\",\"character\",\"dialogue\"], \n",
    "                      header = None)\n",
    "    episode['df'].drop(0,inplace=True)\n",
    "    episode['df'].drop([\"index\"],axis=1,inplace=True)\n",
    "    episode['df']['episode'] = episode['name']\n"
   ]
  },
  {
   "cell_type": "code",
   "execution_count": 6,
   "id": "180cae3f",
   "metadata": {},
   "outputs": [
    {
     "name": "stdout",
     "output_type": "stream",
     "text": [
      "Shape: (1010, 3)\n"
     ]
    },
    {
     "data": {
      "text/html": [
       "<div>\n",
       "<style scoped>\n",
       "    .dataframe tbody tr th:only-of-type {\n",
       "        vertical-align: middle;\n",
       "    }\n",
       "\n",
       "    .dataframe tbody tr th {\n",
       "        vertical-align: top;\n",
       "    }\n",
       "\n",
       "    .dataframe thead th {\n",
       "        text-align: right;\n",
       "    }\n",
       "</style>\n",
       "<table border=\"1\" class=\"dataframe\">\n",
       "  <thead>\n",
       "    <tr style=\"text-align: right;\">\n",
       "      <th></th>\n",
       "      <th>character</th>\n",
       "      <th>dialogue</th>\n",
       "      <th>episode</th>\n",
       "    </tr>\n",
       "  </thead>\n",
       "  <tbody>\n",
       "    <tr>\n",
       "      <th>1</th>\n",
       "      <td>THREEPIO</td>\n",
       "      <td>Did you hear that?  They've shut down the main...</td>\n",
       "      <td>A New Hope</td>\n",
       "    </tr>\n",
       "    <tr>\n",
       "      <th>2</th>\n",
       "      <td>THREEPIO</td>\n",
       "      <td>We're doomed!</td>\n",
       "      <td>A New Hope</td>\n",
       "    </tr>\n",
       "    <tr>\n",
       "      <th>3</th>\n",
       "      <td>THREEPIO</td>\n",
       "      <td>There'll be no escape for the Princess this time.</td>\n",
       "      <td>A New Hope</td>\n",
       "    </tr>\n",
       "    <tr>\n",
       "      <th>4</th>\n",
       "      <td>THREEPIO</td>\n",
       "      <td>What's that?</td>\n",
       "      <td>A New Hope</td>\n",
       "    </tr>\n",
       "    <tr>\n",
       "      <th>5</th>\n",
       "      <td>THREEPIO</td>\n",
       "      <td>I should have known better than to trust the l...</td>\n",
       "      <td>A New Hope</td>\n",
       "    </tr>\n",
       "  </tbody>\n",
       "</table>\n",
       "</div>"
      ],
      "text/plain": [
       "  character                                           dialogue     episode\n",
       "1  THREEPIO  Did you hear that?  They've shut down the main...  A New Hope\n",
       "2  THREEPIO                                      We're doomed!  A New Hope\n",
       "3  THREEPIO  There'll be no escape for the Princess this time.  A New Hope\n",
       "4  THREEPIO                                       What's that?  A New Hope\n",
       "5  THREEPIO  I should have known better than to trust the l...  A New Hope"
      ]
     },
     "execution_count": 6,
     "metadata": {},
     "output_type": "execute_result"
    }
   ],
   "source": [
    "#print(f'{csv_episodes[0][\"df\"].iloc([0], [0])}')\n",
    "print(f\"Shape: {csv_episodes[0]['df'].shape}\")\n",
    "csv_episodes[0]['df'].head()"
   ]
  },
  {
   "cell_type": "code",
   "execution_count": 7,
   "id": "f1358a8f",
   "metadata": {},
   "outputs": [
    {
     "name": "stdout",
     "output_type": "stream",
     "text": [
      "Shape: (839, 3)\n"
     ]
    },
    {
     "data": {
      "text/html": [
       "<div>\n",
       "<style scoped>\n",
       "    .dataframe tbody tr th:only-of-type {\n",
       "        vertical-align: middle;\n",
       "    }\n",
       "\n",
       "    .dataframe tbody tr th {\n",
       "        vertical-align: top;\n",
       "    }\n",
       "\n",
       "    .dataframe thead th {\n",
       "        text-align: right;\n",
       "    }\n",
       "</style>\n",
       "<table border=\"1\" class=\"dataframe\">\n",
       "  <thead>\n",
       "    <tr style=\"text-align: right;\">\n",
       "      <th></th>\n",
       "      <th>character</th>\n",
       "      <th>dialogue</th>\n",
       "      <th>episode</th>\n",
       "    </tr>\n",
       "  </thead>\n",
       "  <tbody>\n",
       "    <tr>\n",
       "      <th>1</th>\n",
       "      <td>LUKE</td>\n",
       "      <td>Echo Three to Echo Seven. Han, old buddy, do y...</td>\n",
       "      <td>The Empire Strikes Back</td>\n",
       "    </tr>\n",
       "    <tr>\n",
       "      <th>2</th>\n",
       "      <td>HAN</td>\n",
       "      <td>Loud and clear, kid. What's up?</td>\n",
       "      <td>The Empire Strikes Back</td>\n",
       "    </tr>\n",
       "    <tr>\n",
       "      <th>3</th>\n",
       "      <td>LUKE</td>\n",
       "      <td>Well, I finished my circle. I don't pick up an...</td>\n",
       "      <td>The Empire Strikes Back</td>\n",
       "    </tr>\n",
       "    <tr>\n",
       "      <th>4</th>\n",
       "      <td>HAN</td>\n",
       "      <td>There isn't enough life on this ice cube to fi...</td>\n",
       "      <td>The Empire Strikes Back</td>\n",
       "    </tr>\n",
       "    <tr>\n",
       "      <th>5</th>\n",
       "      <td>LUKE</td>\n",
       "      <td>Right. I'll see you shortly. There's a meteori...</td>\n",
       "      <td>The Empire Strikes Back</td>\n",
       "    </tr>\n",
       "  </tbody>\n",
       "</table>\n",
       "</div>"
      ],
      "text/plain": [
       "  character                                           dialogue  \\\n",
       "1      LUKE  Echo Three to Echo Seven. Han, old buddy, do y...   \n",
       "2       HAN                    Loud and clear, kid. What's up?   \n",
       "3      LUKE  Well, I finished my circle. I don't pick up an...   \n",
       "4       HAN  There isn't enough life on this ice cube to fi...   \n",
       "5      LUKE  Right. I'll see you shortly. There's a meteori...   \n",
       "\n",
       "                   episode  \n",
       "1  The Empire Strikes Back  \n",
       "2  The Empire Strikes Back  \n",
       "3  The Empire Strikes Back  \n",
       "4  The Empire Strikes Back  \n",
       "5  The Empire Strikes Back  "
      ]
     },
     "execution_count": 7,
     "metadata": {},
     "output_type": "execute_result"
    }
   ],
   "source": [
    "print(f\"Shape: {csv_episodes[1]['df'].shape}\")\n",
    "csv_episodes[1]['df'].head()"
   ]
  },
  {
   "cell_type": "code",
   "execution_count": 8,
   "id": "774a19f6",
   "metadata": {},
   "outputs": [
    {
     "name": "stdout",
     "output_type": "stream",
     "text": [
      "Shape: (674, 3)\n"
     ]
    },
    {
     "data": {
      "text/html": [
       "<div>\n",
       "<style scoped>\n",
       "    .dataframe tbody tr th:only-of-type {\n",
       "        vertical-align: middle;\n",
       "    }\n",
       "\n",
       "    .dataframe tbody tr th {\n",
       "        vertical-align: top;\n",
       "    }\n",
       "\n",
       "    .dataframe thead th {\n",
       "        text-align: right;\n",
       "    }\n",
       "</style>\n",
       "<table border=\"1\" class=\"dataframe\">\n",
       "  <thead>\n",
       "    <tr style=\"text-align: right;\">\n",
       "      <th></th>\n",
       "      <th>character</th>\n",
       "      <th>dialogue</th>\n",
       "      <th>episode</th>\n",
       "    </tr>\n",
       "  </thead>\n",
       "  <tbody>\n",
       "    <tr>\n",
       "      <th>1</th>\n",
       "      <td>SHUTTLE CAPTAIN</td>\n",
       "      <td>Command station, this is ST 321. Code Clearanc...</td>\n",
       "      <td>The Return of the Jedi</td>\n",
       "    </tr>\n",
       "    <tr>\n",
       "      <th>2</th>\n",
       "      <td>DEATH STAR CONTROLLER</td>\n",
       "      <td>The security deflector shield will be deactiva...</td>\n",
       "      <td>The Return of the Jedi</td>\n",
       "    </tr>\n",
       "    <tr>\n",
       "      <th>3</th>\n",
       "      <td>SHUTTLE CAPTAIN</td>\n",
       "      <td>We're starting our approach.</td>\n",
       "      <td>The Return of the Jedi</td>\n",
       "    </tr>\n",
       "    <tr>\n",
       "      <th>4</th>\n",
       "      <td>OFFICER</td>\n",
       "      <td>Inform the commander that Lord Vader's shuttle...</td>\n",
       "      <td>The Return of the Jedi</td>\n",
       "    </tr>\n",
       "    <tr>\n",
       "      <th>5</th>\n",
       "      <td>OPERATOR</td>\n",
       "      <td>Yes, sir.</td>\n",
       "      <td>The Return of the Jedi</td>\n",
       "    </tr>\n",
       "  </tbody>\n",
       "</table>\n",
       "</div>"
      ],
      "text/plain": [
       "               character                                           dialogue  \\\n",
       "1        SHUTTLE CAPTAIN  Command station, this is ST 321. Code Clearanc...   \n",
       "2  DEATH STAR CONTROLLER  The security deflector shield will be deactiva...   \n",
       "3        SHUTTLE CAPTAIN                       We're starting our approach.   \n",
       "4                OFFICER  Inform the commander that Lord Vader's shuttle...   \n",
       "5               OPERATOR                                          Yes, sir.   \n",
       "\n",
       "                  episode  \n",
       "1  The Return of the Jedi  \n",
       "2  The Return of the Jedi  \n",
       "3  The Return of the Jedi  \n",
       "4  The Return of the Jedi  \n",
       "5  The Return of the Jedi  "
      ]
     },
     "execution_count": 8,
     "metadata": {},
     "output_type": "execute_result"
    }
   ],
   "source": [
    "print(f\"Shape: {csv_episodes[2]['df'].shape}\")\n",
    "csv_episodes[2]['df'].head()"
   ]
  },
  {
   "cell_type": "markdown",
   "id": "d6722f2c",
   "metadata": {},
   "source": [
    "## Joining dataframes"
   ]
  },
  {
   "cell_type": "code",
   "execution_count": 10,
   "id": "01b85d84",
   "metadata": {},
   "outputs": [
    {
     "name": "stdout",
     "output_type": "stream",
     "text": [
      "(3896, 3)\n"
     ]
    }
   ],
   "source": [
    "episode_list = [csv_episodes[0]['df'], csv_episodes[1]['df'], csv_episodes[2]['df'],\n",
    "               pkl_episodes[0]['df'], pkl_episodes[1]['df']]\n",
    "df = pd.concat(episode_list)\n",
    "\n",
    "print(f'{df.shape}')"
   ]
  },
  {
   "cell_type": "code",
   "execution_count": 17,
   "id": "90cac601",
   "metadata": {},
   "outputs": [
    {
     "data": {
      "image/png": "[encoded data removed]",
      "text/plain": [
       "<Figure size 720x720 with 1 Axes>"
      ]
     },
     "metadata": {
      "needs_background": "light"
     },
     "output_type": "display_data"
    }
   ],
   "source": [
    "character_series = df['character'].value_counts()[:40,]\n",
    "plt.figure(figsize=(10, 10))\n",
    "ax = sns.barplot(x=character_series.values, y=character_series.index, color='green')\n",
    "\n",
    "ax.set_title('Line count per Character')\n",
    "plt.show()"
   ]
  },
  {
   "cell_type": "code",
   "execution_count": null,
   "id": "1afc8322",
   "metadata": {},
   "outputs": [],
   "source": []
  }
 ],
 "metadata": {
  "kernelspec": {
   "display_name": "Python 3",
   "language": "python",
   "name": "python3"
  },
  "language_info": {
   "codemirror_mode": {
    "name": "ipython",
    "version": 3
   },
   "file_extension": ".py",
   "mimetype": "text/x-python",
   "name": "python",
   "nbconvert_exporter": "python",
   "pygments_lexer": "ipython3",
   "version": "3.8.10"
  },
  "toc": {
   "base_numbering": 1,
   "nav_menu": {},
   "number_sections": true,
   "sideBar": true,
   "skip_h1_title": true,
   "title_cell": "Table of Contents",
   "title_sidebar": "Contents",
   "toc_cell": false,
   "toc_position": {},
   "toc_section_display": true,
   "toc_window_display": true
  }
 },
 "nbformat": 4,
 "nbformat_minor": 5
}
