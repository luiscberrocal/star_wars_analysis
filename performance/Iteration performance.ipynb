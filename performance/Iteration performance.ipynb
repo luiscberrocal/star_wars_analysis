{
 "cells": [
  {
   "cell_type": "markdown",
   "id": "76bbe18e",
   "metadata": {},
   "source": [
    "# Iteration perfromance\n"
   ]
  },
  {
   "cell_type": "code",
   "execution_count": 1,
   "id": "7c91b833",
   "metadata": {},
   "outputs": [],
   "source": [
    "from pathlib import Path\n",
    "\n",
    "import csv\n",
    "import time\n",
    "\n",
    "import matplotlib.pyplot as plt\n",
    "\n",
    "import numpy as np\n",
    "import pandas as pd\n",
    "from tqdm import tqdm\n",
    "import seaborn as sns\n",
    "\n",
    "\n",
    "%matplotlib inline"
   ]
  },
  {
   "cell_type": "markdown",
   "id": "323cdde1",
   "metadata": {},
   "source": [
    "## Configuration\n"
   ]
  },
  {
   "cell_type": "code",
   "execution_count": 11,
   "id": "4327b8f8",
   "metadata": {},
   "outputs": [
    {
     "name": "stdout",
     "output_type": "stream",
     "text": [
      "File found /home/luiscberrocal/PycharmProjects/star_wars_analysis/data/repository_data.csv True\n"
     ]
    }
   ],
   "source": [
    "data_folder = Path.cwd().parent / 'data'\n",
    "\n",
    "earth_quake_file = data_folder / 'repository_data.csv'\n",
    "\n",
    "print(f'File found {earth_quake_file} {earth_quake_file.exists()}')"
   ]
  },
  {
   "cell_type": "markdown",
   "id": "c82176b9",
   "metadata": {},
   "source": [
    "## Load data"
   ]
  },
  {
   "cell_type": "code",
   "execution_count": 12,
   "id": "3ca24fd1",
   "metadata": {},
   "outputs": [
    {
     "name": "stdout",
     "output_type": "stream",
     "text": [
      "Record count 2,917,951\n"
     ]
    }
   ],
   "source": [
    "df = pd.read_csv(earth_quake_file)\n",
    "\n",
    "print(f'Record count {df.shape[0]:,}')"
   ]
  },
  {
   "cell_type": "code",
   "execution_count": 13,
   "id": "1fe6a714",
   "metadata": {},
   "outputs": [
    {
     "name": "stdout",
     "output_type": "stream",
     "text": [
      "<class 'pandas.core.frame.DataFrame'>\n",
      "RangeIndex: 2917951 entries, 0 to 2917950\n",
      "Data columns (total 10 columns):\n",
      " #   Column            Dtype  \n",
      "---  ------            -----  \n",
      " 0   name              object \n",
      " 1   stars_count       int64  \n",
      " 2   forks_count       int64  \n",
      " 3   watchers          int64  \n",
      " 4   pull_requests     int64  \n",
      " 5   primary_language  object \n",
      " 6   languages_used    object \n",
      " 7   commit_count      float64\n",
      " 8   created_at        object \n",
      " 9   licence           object \n",
      "dtypes: float64(1), int64(4), object(5)\n",
      "memory usage: 222.6+ MB\n"
     ]
    }
   ],
   "source": [
    "df.info()"
   ]
  },
  {
   "cell_type": "code",
   "execution_count": 14,
   "id": "3754003e",
   "metadata": {},
   "outputs": [
    {
     "data": {
      "text/html": [
       "<div>\n",
       "<style scoped>\n",
       "    .dataframe tbody tr th:only-of-type {\n",
       "        vertical-align: middle;\n",
       "    }\n",
       "\n",
       "    .dataframe tbody tr th {\n",
       "        vertical-align: top;\n",
       "    }\n",
       "\n",
       "    .dataframe thead th {\n",
       "        text-align: right;\n",
       "    }\n",
       "</style>\n",
       "<table border=\"1\" class=\"dataframe\">\n",
       "  <thead>\n",
       "    <tr style=\"text-align: right;\">\n",
       "      <th></th>\n",
       "      <th>name</th>\n",
       "      <th>stars_count</th>\n",
       "      <th>forks_count</th>\n",
       "      <th>watchers</th>\n",
       "      <th>pull_requests</th>\n",
       "      <th>primary_language</th>\n",
       "      <th>languages_used</th>\n",
       "      <th>commit_count</th>\n",
       "      <th>created_at</th>\n",
       "      <th>licence</th>\n",
       "    </tr>\n",
       "  </thead>\n",
       "  <tbody>\n",
       "    <tr>\n",
       "      <th>0</th>\n",
       "      <td>freeCodeCamp</td>\n",
       "      <td>359805</td>\n",
       "      <td>30814</td>\n",
       "      <td>8448</td>\n",
       "      <td>31867</td>\n",
       "      <td>TypeScript</td>\n",
       "      <td>['TypeScript', 'JavaScript', 'CSS', 'Shell', '...</td>\n",
       "      <td>32231.0</td>\n",
       "      <td>2014-12-24T17:49:19Z</td>\n",
       "      <td>BSD 3-Clause \"New\" or \"Revised\" License</td>\n",
       "    </tr>\n",
       "    <tr>\n",
       "      <th>1</th>\n",
       "      <td>996.ICU</td>\n",
       "      <td>264811</td>\n",
       "      <td>21470</td>\n",
       "      <td>4298</td>\n",
       "      <td>1949</td>\n",
       "      <td>NaN</td>\n",
       "      <td>NaN</td>\n",
       "      <td>3189.0</td>\n",
       "      <td>2019-03-26T07:31:14Z</td>\n",
       "      <td>Other</td>\n",
       "    </tr>\n",
       "    <tr>\n",
       "      <th>2</th>\n",
       "      <td>free-programming-books</td>\n",
       "      <td>262380</td>\n",
       "      <td>53302</td>\n",
       "      <td>9544</td>\n",
       "      <td>8235</td>\n",
       "      <td>NaN</td>\n",
       "      <td>NaN</td>\n",
       "      <td>8286.0</td>\n",
       "      <td>2013-10-11T06:50:37Z</td>\n",
       "      <td>Other</td>\n",
       "    </tr>\n",
       "    <tr>\n",
       "      <th>3</th>\n",
       "      <td>coding-interview-university</td>\n",
       "      <td>244927</td>\n",
       "      <td>65038</td>\n",
       "      <td>8539</td>\n",
       "      <td>867</td>\n",
       "      <td>NaN</td>\n",
       "      <td>NaN</td>\n",
       "      <td>2314.0</td>\n",
       "      <td>2016-06-06T02:34:12Z</td>\n",
       "      <td>Creative Commons Attribution Share Alike 4.0 I...</td>\n",
       "    </tr>\n",
       "    <tr>\n",
       "      <th>4</th>\n",
       "      <td>awesome</td>\n",
       "      <td>235223</td>\n",
       "      <td>24791</td>\n",
       "      <td>7446</td>\n",
       "      <td>1859</td>\n",
       "      <td>NaN</td>\n",
       "      <td>NaN</td>\n",
       "      <td>1074.0</td>\n",
       "      <td>2014-07-11T13:42:37Z</td>\n",
       "      <td>Creative Commons Zero v1.0 Universal</td>\n",
       "    </tr>\n",
       "  </tbody>\n",
       "</table>\n",
       "</div>"
      ],
      "text/plain": [
       "                          name  stars_count  forks_count  watchers  \\\n",
       "0                 freeCodeCamp       359805        30814      8448   \n",
       "1                      996.ICU       264811        21470      4298   \n",
       "2       free-programming-books       262380        53302      9544   \n",
       "3  coding-interview-university       244927        65038      8539   \n",
       "4                      awesome       235223        24791      7446   \n",
       "\n",
       "   pull_requests primary_language  \\\n",
       "0          31867       TypeScript   \n",
       "1           1949              NaN   \n",
       "2           8235              NaN   \n",
       "3            867              NaN   \n",
       "4           1859              NaN   \n",
       "\n",
       "                                      languages_used  commit_count  \\\n",
       "0  ['TypeScript', 'JavaScript', 'CSS', 'Shell', '...       32231.0   \n",
       "1                                                NaN        3189.0   \n",
       "2                                                NaN        8286.0   \n",
       "3                                                NaN        2314.0   \n",
       "4                                                NaN        1074.0   \n",
       "\n",
       "             created_at                                            licence  \n",
       "0  2014-12-24T17:49:19Z            BSD 3-Clause \"New\" or \"Revised\" License  \n",
       "1  2019-03-26T07:31:14Z                                              Other  \n",
       "2  2013-10-11T06:50:37Z                                              Other  \n",
       "3  2016-06-06T02:34:12Z  Creative Commons Attribution Share Alike 4.0 I...  \n",
       "4  2014-07-11T13:42:37Z               Creative Commons Zero v1.0 Universal  "
      ]
     },
     "execution_count": 14,
     "metadata": {},
     "output_type": "execute_result"
    }
   ],
   "source": [
    "df.head()"
   ]
  },
  {
   "cell_type": "code",
   "execution_count": 15,
   "id": "a2458821",
   "metadata": {},
   "outputs": [
    {
     "data": {
      "text/plain": [
       "JavaScript              451954\n",
       "Python                  451473\n",
       "Java                    202394\n",
       "C++                     150066\n",
       "PHP                     116058\n",
       "                         ...  \n",
       "LoomScript                   1\n",
       "Ragel in Ruby Host           1\n",
       "Edje Data Collection         1\n",
       "Sieve                        1\n",
       "Ox                           1\n",
       "Name: primary_language, Length: 497, dtype: int64"
      ]
     },
     "execution_count": 15,
     "metadata": {},
     "output_type": "execute_result"
    }
   ],
   "source": [
    "df['primary_language'].value_counts()"
   ]
  },
  {
   "cell_type": "code",
   "execution_count": null,
   "id": "b37e5310",
   "metadata": {},
   "outputs": [],
   "source": []
  }
 ],
 "metadata": {
  "kernelspec": {
   "display_name": "Python 3 (ipykernel)",
   "language": "python",
   "name": "python3"
  },
  "language_info": {
   "codemirror_mode": {
    "name": "ipython",
    "version": 3
   },
   "file_extension": ".py",
   "mimetype": "text/x-python",
   "name": "python",
   "nbconvert_exporter": "python",
   "pygments_lexer": "ipython3",
   "version": "3.10.6"
  },
  "toc": {
   "base_numbering": 1,
   "nav_menu": {},
   "number_sections": true,
   "sideBar": true,
   "skip_h1_title": true,
   "title_cell": "Table of Contents",
   "title_sidebar": "Contents",
   "toc_cell": false,
   "toc_position": {},
   "toc_section_display": true,
   "toc_window_display": false
  }
 },
 "nbformat": 4,
 "nbformat_minor": 5
}
