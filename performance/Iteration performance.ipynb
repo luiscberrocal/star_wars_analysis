{
 "cells": [
  {
   "cell_type": "markdown",
   "id": "76bbe18e",
   "metadata": {},
   "source": [
    "# Iteration perfromance\n"
   ]
  },
  {
   "cell_type": "code",
   "execution_count": null,
   "id": "7c91b833",
   "metadata": {},
   "outputs": [],
   "source": [
    "from pathlib import Path\n",
    "\n",
    "import csv\n",
    "import time\n",
    "\n",
    "import matplotlib.pyplot as plt\n",
    "\n",
    "import numpy as np\n",
    "import pandas as pd\n",
    "from tqdm import tqdm\n",
    "import seaborn as sns\n",
    "\n",
    "\n",
    "%matplotlib inline"
   ]
  },
  {
   "cell_type": "markdown",
   "id": "359e2f81",
   "metadata": {},
   "source": [
    "## Configuration\n"
   ]
  },
  {
   "cell_type": "code",
   "execution_count": null,
   "id": "a68222b6",
   "metadata": {},
   "outputs": [],
   "source": [
    "data_folder = Path.cwd().parent / 'data'\n",
    "\n",
    "earth_quake_file = data_folder / 'repository_data.csv'\n",
    "\n",
    "print(f'File found {earth_quake_file} {earth_quake_file.exists()}')"
   ]
  },
  {
   "cell_type": "markdown",
   "id": "01fd3716",
   "metadata": {},
   "source": [
    "## Load data"
   ]
  },
  {
   "cell_type": "code",
   "execution_count": null,
   "id": "820f879a",
   "metadata": {},
   "outputs": [],
   "source": [
    "df = pd.read_csv(earth_quake_file)\n",
    "\n",
    "print(f'Record count {df.shape[0]:,}')"
   ]
  },
  {
   "cell_type": "code",
   "execution_count": null,
   "id": "3d1c7499",
   "metadata": {},
   "outputs": [],
   "source": [
    "df.info()"
   ]
  },
  {
   "cell_type": "code",
   "execution_count": null,
   "id": "6198e6d2",
   "metadata": {},
   "outputs": [],
   "source": [
    "df.head()"
   ]
  },
  {
   "cell_type": "code",
   "execution_count": null,
   "id": "16849a0a",
   "metadata": {},
   "outputs": [],
   "source": [
    "df['primary_language'].value_counts()"
   ]
  },
  {
   "cell_type": "markdown",
   "id": "a17f43f6",
   "metadata": {},
   "source": [
    "## Iteration performance\n",
    "\n",
    "\n",
    "### Iterrows"
   ]
  },
  {
   "cell_type": "code",
   "execution_count": null,
   "id": "df7064a3",
   "metadata": {},
   "outputs": [],
   "source": [
    "def run_iterrows(df1):\n",
    "    for i, c in df1.iterrows():\n",
    "        if i < 3:\n",
    "            print(f'{i} {c}')\n",
    "\n",
    "%timeit -r 4 -n 1_000 run_iterrows(df)"
   ]
  },
  {
   "cell_type": "code",
   "execution_count": null,
   "id": "7f1c99e9",
   "metadata": {},
   "outputs": [],
   "source": []
  }
 ],
 "metadata": {
  "kernelspec": {
   "display_name": "Python 3 (ipykernel)",
   "language": "python",
   "name": "python3"
  },
  "language_info": {
   "codemirror_mode": {
    "name": "ipython",
    "version": 3
   },
   "file_extension": ".py",
   "mimetype": "text/x-python",
   "name": "python",
   "nbconvert_exporter": "python",
   "pygments_lexer": "ipython3",
   "version": "3.10.6"
  },
  "toc": {
   "base_numbering": 1,
   "nav_menu": {},
   "number_sections": true,
   "sideBar": true,
   "skip_h1_title": true,
   "title_cell": "Table of Contents",
   "title_sidebar": "Contents",
   "toc_cell": false,
   "toc_position": {},
   "toc_section_display": true,
   "toc_window_display": false
  }
 },
 "nbformat": 4,
 "nbformat_minor": 5
}
