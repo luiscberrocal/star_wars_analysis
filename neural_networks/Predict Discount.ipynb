{
 "cells": [
  {
   "cell_type": "markdown",
   "id": "dfb70cf9",
   "metadata": {},
   "source": [
    "# Predict Discount Based on Age"
   ]
  },
  {
   "cell_type": "code",
   "execution_count": 1,
   "id": "9f8858f0",
   "metadata": {},
   "outputs": [],
   "source": [
    "from random import randrange, choice\n",
    "import os\n",
    "import pandas as pd\n",
    "import tensorflow as tf\n",
    "import matplotlib.pyplot as plt\n",
    "from tensorflow.keras.layers import Dense\n",
    "from sklearn.preprocessing import MinMaxScaler\n",
    "\n",
    "from sklearn.model_selection import train_test_split"
   ]
  },
  {
   "cell_type": "markdown",
   "id": "27af409c",
   "metadata": {},
   "source": [
    "\n",
    "## Create Data"
   ]
  },
  {
   "cell_type": "code",
   "execution_count": 2,
   "id": "5d2551d2",
   "metadata": {},
   "outputs": [],
   "source": [
    "sample_size =25000\n",
    "data_file = f'../data/discount_data_{sample_size}.xlsx'\n",
    "\n",
    "business_list = ['bar', 'restaurant', 'hotel', 'pharmacy', 'spa', 'airline']\n",
    "\n",
    "\n",
    "def calculate_discount(age, sex, business_type, is_resident):\n",
    "    business_discounts = dict()\n",
    "    business_discounts['restaurant'] = 0.2\n",
    "    business_discounts['pharmacy'] = 0.2\n",
    "    business_discounts['hotel'] = 0.25\n",
    "    \n",
    "    if sex == 'M' and age >= 64 and is_resident:\n",
    "        return business_discounts.get(business_type, 0.0)\n",
    "    elif sex == 'F' and age >= 57 and is_resident:\n",
    "        return business_discounts.get(business_type, 0.0)\n",
    "    else:\n",
    "        return 0.0\n",
    "    \n",
    "def build_dataframe(samples):\n",
    "\n",
    "    data = dict()\n",
    "    data['sex'] = list()\n",
    "    data['age'] = list()\n",
    "    data['business_type'] = list()\n",
    "    data['discount'] = list()\n",
    "    data['is_resident'] = list()\n",
    "    for i in range(samples):\n",
    "        age = randrange(18, 95, 1)\n",
    "        sex = choice(['M', 'F'])\n",
    "        business_type = choice(business_list)\n",
    "        is_resident =  choice([True, False])\n",
    "        discount = calculate_discount(age, sex, business_type, is_resident)\n",
    "        #print(f'{sex} age {age} for {business_type}')\n",
    "        data['sex'].append(sex)\n",
    "        data['age'].append(age)\n",
    "        data['business_type'].append(business_type)\n",
    "        data['discount'].append(discount)\n",
    "        data['is_resident'].append(is_resident)\n",
    "\n",
    "        df = pd.DataFrame.from_dict(data)\n",
    "    return df\n",
    "    \n"
   ]
  },
  {
   "cell_type": "code",
   "execution_count": 3,
   "id": "6d634947",
   "metadata": {},
   "outputs": [
    {
     "name": "stdout",
     "output_type": "stream",
     "text": [
      "Loaded from ../data/discount_data_25000.xlsx\n"
     ]
    }
   ],
   "source": [
    "if os.path.exists(data_file):\n",
    "    df = pd.read_excel(data_file)\n",
    "    print(f'Loaded from {data_file}')\n",
    "else:\n",
    "    df = build_dataframe(sample_size)\n",
    "    df.to_excel(data_file, index=False)\n",
    "    print(f'Saved to {data_file}')"
   ]
  },
  {
   "cell_type": "code",
   "execution_count": 4,
   "id": "17c32886",
   "metadata": {},
   "outputs": [
    {
     "name": "stdout",
     "output_type": "stream",
     "text": [
      "Shape: (25000, 5)\n"
     ]
    },
    {
     "data": {
      "text/html": [
       "<div>\n",
       "<style scoped>\n",
       "    .dataframe tbody tr th:only-of-type {\n",
       "        vertical-align: middle;\n",
       "    }\n",
       "\n",
       "    .dataframe tbody tr th {\n",
       "        vertical-align: top;\n",
       "    }\n",
       "\n",
       "    .dataframe thead th {\n",
       "        text-align: right;\n",
       "    }\n",
       "</style>\n",
       "<table border=\"1\" class=\"dataframe\">\n",
       "  <thead>\n",
       "    <tr style=\"text-align: right;\">\n",
       "      <th></th>\n",
       "      <th>sex</th>\n",
       "      <th>age</th>\n",
       "      <th>business_type</th>\n",
       "      <th>discount</th>\n",
       "      <th>is_resident</th>\n",
       "    </tr>\n",
       "  </thead>\n",
       "  <tbody>\n",
       "    <tr>\n",
       "      <th>0</th>\n",
       "      <td>F</td>\n",
       "      <td>43</td>\n",
       "      <td>airline</td>\n",
       "      <td>0.0</td>\n",
       "      <td>True</td>\n",
       "    </tr>\n",
       "    <tr>\n",
       "      <th>1</th>\n",
       "      <td>M</td>\n",
       "      <td>89</td>\n",
       "      <td>spa</td>\n",
       "      <td>0.0</td>\n",
       "      <td>True</td>\n",
       "    </tr>\n",
       "    <tr>\n",
       "      <th>2</th>\n",
       "      <td>M</td>\n",
       "      <td>31</td>\n",
       "      <td>pharmacy</td>\n",
       "      <td>0.0</td>\n",
       "      <td>False</td>\n",
       "    </tr>\n",
       "    <tr>\n",
       "      <th>3</th>\n",
       "      <td>M</td>\n",
       "      <td>50</td>\n",
       "      <td>airline</td>\n",
       "      <td>0.0</td>\n",
       "      <td>True</td>\n",
       "    </tr>\n",
       "    <tr>\n",
       "      <th>4</th>\n",
       "      <td>F</td>\n",
       "      <td>61</td>\n",
       "      <td>airline</td>\n",
       "      <td>0.0</td>\n",
       "      <td>True</td>\n",
       "    </tr>\n",
       "  </tbody>\n",
       "</table>\n",
       "</div>"
      ],
      "text/plain": [
       "  sex  age business_type  discount  is_resident\n",
       "0   F   43       airline       0.0         True\n",
       "1   M   89           spa       0.0         True\n",
       "2   M   31      pharmacy       0.0        False\n",
       "3   M   50       airline       0.0         True\n",
       "4   F   61       airline       0.0         True"
      ]
     },
     "execution_count": 4,
     "metadata": {},
     "output_type": "execute_result"
    }
   ],
   "source": [
    "print(f'Shape: {df.shape}')\n",
    "df.head()"
   ]
  },
  {
   "cell_type": "markdown",
   "id": "c6908da8",
   "metadata": {},
   "source": [
    "## Cleanup\n",
    "\n",
    "\n",
    "### Separate dependent and independent variables"
   ]
  },
  {
   "cell_type": "code",
   "execution_count": 5,
   "id": "37727e38",
   "metadata": {},
   "outputs": [
    {
     "name": "stdout",
     "output_type": "stream",
     "text": [
      "discount shape: (25000,)\n"
     ]
    },
    {
     "data": {
      "text/html": [
       "<div>\n",
       "<style scoped>\n",
       "    .dataframe tbody tr th:only-of-type {\n",
       "        vertical-align: middle;\n",
       "    }\n",
       "\n",
       "    .dataframe tbody tr th {\n",
       "        vertical-align: top;\n",
       "    }\n",
       "\n",
       "    .dataframe thead th {\n",
       "        text-align: right;\n",
       "    }\n",
       "</style>\n",
       "<table border=\"1\" class=\"dataframe\">\n",
       "  <thead>\n",
       "    <tr style=\"text-align: right;\">\n",
       "      <th></th>\n",
       "      <th>sex</th>\n",
       "      <th>age</th>\n",
       "      <th>business_type</th>\n",
       "      <th>is_resident</th>\n",
       "    </tr>\n",
       "  </thead>\n",
       "  <tbody>\n",
       "    <tr>\n",
       "      <th>0</th>\n",
       "      <td>F</td>\n",
       "      <td>43</td>\n",
       "      <td>airline</td>\n",
       "      <td>True</td>\n",
       "    </tr>\n",
       "    <tr>\n",
       "      <th>1</th>\n",
       "      <td>M</td>\n",
       "      <td>89</td>\n",
       "      <td>spa</td>\n",
       "      <td>True</td>\n",
       "    </tr>\n",
       "    <tr>\n",
       "      <th>2</th>\n",
       "      <td>M</td>\n",
       "      <td>31</td>\n",
       "      <td>pharmacy</td>\n",
       "      <td>False</td>\n",
       "    </tr>\n",
       "    <tr>\n",
       "      <th>3</th>\n",
       "      <td>M</td>\n",
       "      <td>50</td>\n",
       "      <td>airline</td>\n",
       "      <td>True</td>\n",
       "    </tr>\n",
       "    <tr>\n",
       "      <th>4</th>\n",
       "      <td>F</td>\n",
       "      <td>61</td>\n",
       "      <td>airline</td>\n",
       "      <td>True</td>\n",
       "    </tr>\n",
       "  </tbody>\n",
       "</table>\n",
       "</div>"
      ],
      "text/plain": [
       "  sex  age business_type  is_resident\n",
       "0   F   43       airline         True\n",
       "1   M   89           spa         True\n",
       "2   M   31      pharmacy        False\n",
       "3   M   50       airline         True\n",
       "4   F   61       airline         True"
      ]
     },
     "execution_count": 5,
     "metadata": {},
     "output_type": "execute_result"
    }
   ],
   "source": [
    "discounts = df['discount'].copy()\n",
    "df.drop(columns=['discount',], inplace=True)\n",
    "\n",
    "print(f'discount shape: {discounts.shape}')\n",
    "\n",
    "df.head()"
   ]
  },
  {
   "cell_type": "markdown",
   "id": "ae18e398",
   "metadata": {},
   "source": [
    "### Hot One Encode"
   ]
  },
  {
   "cell_type": "code",
   "execution_count": 6,
   "id": "64d88f22",
   "metadata": {},
   "outputs": [],
   "source": [
    "df = pd.get_dummies(df, columns=['sex', 'business_type'])\n"
   ]
  },
  {
   "cell_type": "code",
   "execution_count": 7,
   "id": "3867fbd1",
   "metadata": {},
   "outputs": [],
   "source": [
    "\n",
    "\n",
    "df['is_resident'].replace({False: 0, True: 1}, inplace=True)"
   ]
  },
  {
   "cell_type": "markdown",
   "id": "3cc2e1d8",
   "metadata": {},
   "source": [
    "### Scaling age"
   ]
  },
  {
   "cell_type": "code",
   "execution_count": 8,
   "id": "bd434fa6",
   "metadata": {},
   "outputs": [],
   "source": [
    "scaler = MinMaxScaler()\n",
    "df['age'] = scaler.fit_transform(df['age'].values.reshape(-1, 1))\n"
   ]
  },
  {
   "cell_type": "code",
   "execution_count": 9,
   "id": "78963b70",
   "metadata": {},
   "outputs": [
    {
     "name": "stdout",
     "output_type": "stream",
     "text": [
      "Shape: (25000, 10)\n"
     ]
    },
    {
     "data": {
      "text/html": [
       "<div>\n",
       "<style scoped>\n",
       "    .dataframe tbody tr th:only-of-type {\n",
       "        vertical-align: middle;\n",
       "    }\n",
       "\n",
       "    .dataframe tbody tr th {\n",
       "        vertical-align: top;\n",
       "    }\n",
       "\n",
       "    .dataframe thead th {\n",
       "        text-align: right;\n",
       "    }\n",
       "</style>\n",
       "<table border=\"1\" class=\"dataframe\">\n",
       "  <thead>\n",
       "    <tr style=\"text-align: right;\">\n",
       "      <th></th>\n",
       "      <th>age</th>\n",
       "      <th>is_resident</th>\n",
       "      <th>sex_F</th>\n",
       "      <th>sex_M</th>\n",
       "      <th>business_type_airline</th>\n",
       "      <th>business_type_bar</th>\n",
       "      <th>business_type_hotel</th>\n",
       "      <th>business_type_pharmacy</th>\n",
       "      <th>business_type_restaurant</th>\n",
       "      <th>business_type_spa</th>\n",
       "    </tr>\n",
       "  </thead>\n",
       "  <tbody>\n",
       "    <tr>\n",
       "      <th>0</th>\n",
       "      <td>0.328947</td>\n",
       "      <td>1</td>\n",
       "      <td>1</td>\n",
       "      <td>0</td>\n",
       "      <td>1</td>\n",
       "      <td>0</td>\n",
       "      <td>0</td>\n",
       "      <td>0</td>\n",
       "      <td>0</td>\n",
       "      <td>0</td>\n",
       "    </tr>\n",
       "    <tr>\n",
       "      <th>1</th>\n",
       "      <td>0.934211</td>\n",
       "      <td>1</td>\n",
       "      <td>0</td>\n",
       "      <td>1</td>\n",
       "      <td>0</td>\n",
       "      <td>0</td>\n",
       "      <td>0</td>\n",
       "      <td>0</td>\n",
       "      <td>0</td>\n",
       "      <td>1</td>\n",
       "    </tr>\n",
       "    <tr>\n",
       "      <th>2</th>\n",
       "      <td>0.171053</td>\n",
       "      <td>0</td>\n",
       "      <td>0</td>\n",
       "      <td>1</td>\n",
       "      <td>0</td>\n",
       "      <td>0</td>\n",
       "      <td>0</td>\n",
       "      <td>1</td>\n",
       "      <td>0</td>\n",
       "      <td>0</td>\n",
       "    </tr>\n",
       "    <tr>\n",
       "      <th>3</th>\n",
       "      <td>0.421053</td>\n",
       "      <td>1</td>\n",
       "      <td>0</td>\n",
       "      <td>1</td>\n",
       "      <td>1</td>\n",
       "      <td>0</td>\n",
       "      <td>0</td>\n",
       "      <td>0</td>\n",
       "      <td>0</td>\n",
       "      <td>0</td>\n",
       "    </tr>\n",
       "    <tr>\n",
       "      <th>4</th>\n",
       "      <td>0.565789</td>\n",
       "      <td>1</td>\n",
       "      <td>1</td>\n",
       "      <td>0</td>\n",
       "      <td>1</td>\n",
       "      <td>0</td>\n",
       "      <td>0</td>\n",
       "      <td>0</td>\n",
       "      <td>0</td>\n",
       "      <td>0</td>\n",
       "    </tr>\n",
       "  </tbody>\n",
       "</table>\n",
       "</div>"
      ],
      "text/plain": [
       "        age  is_resident  sex_F  sex_M  business_type_airline  \\\n",
       "0  0.328947            1      1      0                      1   \n",
       "1  0.934211            1      0      1                      0   \n",
       "2  0.171053            0      0      1                      0   \n",
       "3  0.421053            1      0      1                      1   \n",
       "4  0.565789            1      1      0                      1   \n",
       "\n",
       "   business_type_bar  business_type_hotel  business_type_pharmacy  \\\n",
       "0                  0                    0                       0   \n",
       "1                  0                    0                       0   \n",
       "2                  0                    0                       1   \n",
       "3                  0                    0                       0   \n",
       "4                  0                    0                       0   \n",
       "\n",
       "   business_type_restaurant  business_type_spa  \n",
       "0                         0                  0  \n",
       "1                         0                  1  \n",
       "2                         0                  0  \n",
       "3                         0                  0  \n",
       "4                         0                  0  "
      ]
     },
     "execution_count": 9,
     "metadata": {},
     "output_type": "execute_result"
    }
   ],
   "source": [
    "print(f'Shape: {df.shape}')\n",
    "df.head()"
   ]
  },
  {
   "cell_type": "markdown",
   "id": "881c19d3",
   "metadata": {},
   "source": [
    "### Split Training and Test Data"
   ]
  },
  {
   "cell_type": "code",
   "execution_count": 47,
   "id": "411fc343",
   "metadata": {},
   "outputs": [
    {
     "name": "stdout",
     "output_type": "stream",
     "text": [
      "Train (20000, 10) (20000,)\n",
      "Test (5000, 10) (5000,)\n"
     ]
    }
   ],
   "source": [
    "\n",
    "X_train, X_test, y_train, y_test = train_test_split(df.values, discounts.values,\n",
    "                                                    test_size=0.2, random_state=25)\n",
    "\n",
    "print('Train', X_train.shape, y_train.shape)\n",
    "print('Test',X_test.shape, y_test.shape)"
   ]
  },
  {
   "cell_type": "markdown",
   "id": "96cd8b30",
   "metadata": {},
   "source": [
    "## Basic Neuronal Network\n",
    "\n",
    "\n",
    "https://towardsdatascience.com/deep-neural-networks-for-regression-problems-81321897ca33"
   ]
  },
  {
   "cell_type": "code",
   "execution_count": 48,
   "id": "5578856f",
   "metadata": {},
   "outputs": [],
   "source": [
    "learning_rate = 0.001\n",
    "\n",
    "#checkpoint_name = 'Weights-{epoch:03d}--{val_loss:.5f}.hdf5' \n",
    "#checkpoint = ModelCheckpoint(checkpoint_name, monitor='val_loss', verbose = 1, save_best_only = True, mode ='auto')\n",
    "#callbacks_list = [checkpoint]"
   ]
  },
  {
   "cell_type": "code",
   "execution_count": 49,
   "id": "4fe4657c",
   "metadata": {},
   "outputs": [
    {
     "name": "stdout",
     "output_type": "stream",
     "text": [
      "10\n"
     ]
    }
   ],
   "source": [
    "model = tf.keras.models.Sequential()\n",
    "print(X_train.shape[1])\n",
    "model.add(Dense(X_train.shape[1], kernel_initializer='normal',input_dim = X_train.shape[1],\n",
    "                activation='relu'))\n",
    "\n",
    "model.add(Dense(256, kernel_initializer='normal',activation='relu'))\n",
    "model.add(Dense(256, kernel_initializer='normal',activation='relu'))\n",
    "model.add(Dense(256, kernel_initializer='normal',activation='relu'))\n",
    "\n",
    "# The Output Layer :\n",
    "model.add(Dense(1, kernel_initializer='normal',activation='linear'))\n"
   ]
  },
  {
   "cell_type": "code",
   "execution_count": 50,
   "id": "fa536c78",
   "metadata": {},
   "outputs": [],
   "source": [
    "model.compile(\n",
    "    optimizer=tf.keras.optimizers.Adam(learning_rate),\n",
    "    loss='mean_absolute_error',\n",
    "    metrics=['mean_absolute_error']\n",
    ")"
   ]
  },
  {
   "cell_type": "code",
   "execution_count": 51,
   "id": "17f432e8",
   "metadata": {},
   "outputs": [],
   "source": [
    "history = model.fit(X_train, y_train, epochs=100, \n",
    "                    batch_size=32, validation_split = 0.2,\n",
    "                   verbose=False)\n",
    "                    #callbacks=callbacks_list))"
   ]
  },
  {
   "cell_type": "code",
   "execution_count": 52,
   "id": "f2e79f99",
   "metadata": {},
   "outputs": [
    {
     "name": "stdout",
     "output_type": "stream",
     "text": [
      "dict_keys(['loss', 'mean_absolute_error', 'val_loss', 'val_mean_absolute_error'])\n"
     ]
    }
   ],
   "source": [
    "print(history.history.keys())"
   ]
  },
  {
   "cell_type": "code",
   "execution_count": 53,
   "id": "ed986a7b",
   "metadata": {
    "scrolled": true
   },
   "outputs": [
    {
     "data": {
      "image/png": "[encoded data removed]",
      "text/plain": [
       "<Figure size 432x288 with 1 Axes>"
      ]
     },
     "metadata": {
      "needs_background": "light"
     },
     "output_type": "display_data"
    }
   ],
   "source": [
    "plt.xlabel('Epoch')\n",
    "plt.ylabel('Loss')\n",
    "plt.plot(history.history['loss'])\n",
    "plt.plot(history.history['val_loss'])\n",
    "plt.show()"
   ]
  },
  {
   "cell_type": "code",
   "execution_count": 54,
   "id": "1e467706",
   "metadata": {},
   "outputs": [
    {
     "data": {
      "image/png": "[encoded data removed]",
      "text/plain": [
       "<Figure size 432x288 with 1 Axes>"
      ]
     },
     "metadata": {
      "needs_background": "light"
     },
     "output_type": "display_data"
    }
   ],
   "source": [
    "plt.xlabel('Epoch')\n",
    "plt.ylabel('mean_absolute_error')\n",
    "plt.plot(history.history['mean_absolute_error'])\n",
    "plt.plot(history.history['val_mean_absolute_error'])\n",
    "plt.show()"
   ]
  },
  {
   "cell_type": "code",
   "execution_count": 57,
   "id": "85293b23",
   "metadata": {},
   "outputs": [
    {
     "name": "stdout",
     "output_type": "stream",
     "text": [
      "3 0.2\n",
      "5 0.2\n",
      "6 0.2\n",
      "7 0.25\n",
      "22 0.25\n",
      "25 0.2\n",
      "42 0.25\n",
      "45 0.25\n",
      "51 0.25\n",
      ">> 0.25\n"
     ]
    }
   ],
   "source": [
    "#df_values = df.values\n",
    "#disc_value = discounts.values\n",
    "#print(y_test)\n",
    "c = 1\n",
    "i = 0\n",
    "for discount in y_test:\n",
    "    if discount > 0.0:\n",
    "        print(i, discount)\n",
    "        c += 1\n",
    "    if c == 10:\n",
    "        break\n",
    "    i += 1\n",
    "        \n",
    "print('>>',y_test[51])"
   ]
  },
  {
   "cell_type": "code",
   "execution_count": 61,
   "id": "428add3b",
   "metadata": {},
   "outputs": [
    {
     "name": "stdout",
     "output_type": "stream",
     "text": [
      "[0.86842105 1.         0.         1.         0.         0.\n",
      " 1.         0.         0.         0.        ]\n",
      "0.25\n"
     ]
    }
   ],
   "source": [
    "t = 51\n",
    "print(X_test[t])\n",
    "print(y_test[t])"
   ]
  },
  {
   "cell_type": "code",
   "execution_count": 64,
   "id": "22da983e",
   "metadata": {},
   "outputs": [
    {
     "name": "stdout",
     "output_type": "stream",
     "text": [
      "Estimated discount [0.25104082]\n"
     ]
    }
   ],
   "source": [
    "pred = model.predict(X_test) #.reshape(10,1))\n",
    "#print(type(pred))\n",
    "print(f'Estimated discount {pred[t]}')"
   ]
  },
  {
   "cell_type": "code",
   "execution_count": 65,
   "id": "61782499",
   "metadata": {},
   "outputs": [
    {
     "name": "stdout",
     "output_type": "stream",
     "text": [
      "Estimated discount [0.19996476]\n"
     ]
    }
   ],
   "source": [
    "\n",
    "\n",
    "print(f'Estimated discount {pred[3]}')"
   ]
  },
  {
   "cell_type": "code",
   "execution_count": 66,
   "id": "3afef089",
   "metadata": {},
   "outputs": [
    {
     "name": "stdout",
     "output_type": "stream",
     "text": [
      "Estimated discount [0.00035593]\n"
     ]
    }
   ],
   "source": [
    "\n",
    "print(f'Estimated discount {pred[0]}')"
   ]
  },
  {
   "cell_type": "code",
   "execution_count": null,
   "id": "d77dd910",
   "metadata": {},
   "outputs": [],
   "source": []
  }
 ],
 "metadata": {
  "kernelspec": {
   "display_name": "Python 3",
   "language": "python",
   "name": "python3"
  },
  "language_info": {
   "codemirror_mode": {
    "name": "ipython",
    "version": 3
   },
   "file_extension": ".py",
   "mimetype": "text/x-python",
   "name": "python",
   "nbconvert_exporter": "python",
   "pygments_lexer": "ipython3",
   "version": "3.8.10"
  },
  "toc": {
   "base_numbering": 1,
   "nav_menu": {},
   "number_sections": true,
   "sideBar": true,
   "skip_h1_title": true,
   "title_cell": "Table of Contents",
   "title_sidebar": "Contents",
   "toc_cell": false,
   "toc_position": {},
   "toc_section_display": true,
   "toc_window_display": true
  }
 },
 "nbformat": 4,
 "nbformat_minor": 5
}
