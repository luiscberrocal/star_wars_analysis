{
 "cells": [
  {
   "cell_type": "markdown",
   "id": "dfb70cf9",
   "metadata": {},
   "source": [
    "# Predict Discount Based on Age"
   ]
  },
  {
   "cell_type": "code",
   "execution_count": 1,
   "id": "9f8858f0",
   "metadata": {},
   "outputs": [],
   "source": [
    "from random import randrange, choice\n",
    "import os\n",
    "import pandas as pd\n",
    "import tensorflow as tf\n",
    "import matplotlib.pyplot as plt\n",
    "\n",
    "from sklearn.preprocessing import MinMaxScaler"
   ]
  },
  {
   "cell_type": "markdown",
   "id": "27af409c",
   "metadata": {},
   "source": [
    "\n",
    "## Create Data"
   ]
  },
  {
   "cell_type": "code",
   "execution_count": 2,
   "id": "5d2551d2",
   "metadata": {},
   "outputs": [],
   "source": [
    "sample_size =10000\n",
    "data_file = f'../data/discount_data_{sample_size}.xlsx'\n",
    "\n",
    "business_list = ['bar', 'restaurant', 'hotel', 'pharmacy', 'spa', 'airline']\n",
    "\n",
    "\n",
    "def calculate_discount(age, sex, business_type, is_resident):\n",
    "    business_discounts = dict()\n",
    "    business_discounts['restaurant'] = 0.2\n",
    "    business_discounts['pharmacy'] = 0.2\n",
    "    business_discounts['hotel'] = 0.25\n",
    "    \n",
    "    if sex == 'M' and age >= 64 and is_resident:\n",
    "        return business_discounts.get(business_type, 0.0)\n",
    "    elif sex == 'F' and age >= 57 and is_resident:\n",
    "        return business_discounts.get(business_type, 0.0)\n",
    "    else:\n",
    "        return 0.0\n",
    "    \n",
    "def build_dataframe(samples):\n",
    "\n",
    "    data = dict()\n",
    "    data['sex'] = list()\n",
    "    data['age'] = list()\n",
    "    data['business_type'] = list()\n",
    "    data['discount'] = list()\n",
    "    data['is_resident'] = list()\n",
    "    for i in range(samples):\n",
    "        age = randrange(18, 95, 1)\n",
    "        sex = choice(['M', 'F'])\n",
    "        business_type = choice(business_list)\n",
    "        is_resident =  choice([True, False])\n",
    "        discount = calculate_discount(age, sex, business_type, is_resident)\n",
    "        #print(f'{sex} age {age} for {business_type}')\n",
    "        data['sex'].append(sex)\n",
    "        data['age'].append(age)\n",
    "        data['business_type'].append(business_type)\n",
    "        data['discount'].append(discount)\n",
    "        data['is_resident'].append(is_resident)\n",
    "\n",
    "        df = pd.DataFrame.from_dict(data)\n",
    "    return df\n",
    "    \n"
   ]
  },
  {
   "cell_type": "code",
   "execution_count": 3,
   "id": "6d634947",
   "metadata": {},
   "outputs": [
    {
     "name": "stdout",
     "output_type": "stream",
     "text": [
      "Loaded from ../data/discount_data_10000.xlsx\n"
     ]
    }
   ],
   "source": [
    "if os.path.exists(data_file):\n",
    "    df = pd.read_excel(data_file)\n",
    "    print(f'Loaded from {data_file}')\n",
    "else:\n",
    "    df = build_dataframe(sample_size)\n",
    "    df.to_excel(data_file, index=False)\n",
    "    print(f'Saved to {data_file}')"
   ]
  },
  {
   "cell_type": "code",
   "execution_count": 4,
   "id": "17c32886",
   "metadata": {},
   "outputs": [
    {
     "name": "stdout",
     "output_type": "stream",
     "text": [
      "Shape: (10000, 5)\n"
     ]
    },
    {
     "data": {
      "text/html": [
       "<div>\n",
       "<style scoped>\n",
       "    .dataframe tbody tr th:only-of-type {\n",
       "        vertical-align: middle;\n",
       "    }\n",
       "\n",
       "    .dataframe tbody tr th {\n",
       "        vertical-align: top;\n",
       "    }\n",
       "\n",
       "    .dataframe thead th {\n",
       "        text-align: right;\n",
       "    }\n",
       "</style>\n",
       "<table border=\"1\" class=\"dataframe\">\n",
       "  <thead>\n",
       "    <tr style=\"text-align: right;\">\n",
       "      <th></th>\n",
       "      <th>sex</th>\n",
       "      <th>age</th>\n",
       "      <th>business_type</th>\n",
       "      <th>discount</th>\n",
       "      <th>is_resident</th>\n",
       "    </tr>\n",
       "  </thead>\n",
       "  <tbody>\n",
       "    <tr>\n",
       "      <th>0</th>\n",
       "      <td>F</td>\n",
       "      <td>78</td>\n",
       "      <td>bar</td>\n",
       "      <td>0.0</td>\n",
       "      <td>True</td>\n",
       "    </tr>\n",
       "    <tr>\n",
       "      <th>1</th>\n",
       "      <td>F</td>\n",
       "      <td>24</td>\n",
       "      <td>bar</td>\n",
       "      <td>0.0</td>\n",
       "      <td>False</td>\n",
       "    </tr>\n",
       "    <tr>\n",
       "      <th>2</th>\n",
       "      <td>F</td>\n",
       "      <td>45</td>\n",
       "      <td>bar</td>\n",
       "      <td>0.0</td>\n",
       "      <td>True</td>\n",
       "    </tr>\n",
       "    <tr>\n",
       "      <th>3</th>\n",
       "      <td>F</td>\n",
       "      <td>21</td>\n",
       "      <td>pharmacy</td>\n",
       "      <td>0.0</td>\n",
       "      <td>False</td>\n",
       "    </tr>\n",
       "    <tr>\n",
       "      <th>4</th>\n",
       "      <td>F</td>\n",
       "      <td>45</td>\n",
       "      <td>pharmacy</td>\n",
       "      <td>0.0</td>\n",
       "      <td>False</td>\n",
       "    </tr>\n",
       "  </tbody>\n",
       "</table>\n",
       "</div>"
      ],
      "text/plain": [
       "  sex  age business_type  discount  is_resident\n",
       "0   F   78           bar       0.0         True\n",
       "1   F   24           bar       0.0        False\n",
       "2   F   45           bar       0.0         True\n",
       "3   F   21      pharmacy       0.0        False\n",
       "4   F   45      pharmacy       0.0        False"
      ]
     },
     "execution_count": 4,
     "metadata": {},
     "output_type": "execute_result"
    }
   ],
   "source": [
    "print(f'Shape: {df.shape}')\n",
    "df.head()"
   ]
  },
  {
   "cell_type": "markdown",
   "id": "c6908da8",
   "metadata": {},
   "source": [
    "## Cleanup\n",
    "\n",
    "\n",
    "### Separate dependent and independent variables"
   ]
  },
  {
   "cell_type": "code",
   "execution_count": 5,
   "id": "37727e38",
   "metadata": {},
   "outputs": [
    {
     "name": "stdout",
     "output_type": "stream",
     "text": [
      "discount shape: (10000,)\n"
     ]
    },
    {
     "data": {
      "text/html": [
       "<div>\n",
       "<style scoped>\n",
       "    .dataframe tbody tr th:only-of-type {\n",
       "        vertical-align: middle;\n",
       "    }\n",
       "\n",
       "    .dataframe tbody tr th {\n",
       "        vertical-align: top;\n",
       "    }\n",
       "\n",
       "    .dataframe thead th {\n",
       "        text-align: right;\n",
       "    }\n",
       "</style>\n",
       "<table border=\"1\" class=\"dataframe\">\n",
       "  <thead>\n",
       "    <tr style=\"text-align: right;\">\n",
       "      <th></th>\n",
       "      <th>sex</th>\n",
       "      <th>age</th>\n",
       "      <th>business_type</th>\n",
       "      <th>is_resident</th>\n",
       "    </tr>\n",
       "  </thead>\n",
       "  <tbody>\n",
       "    <tr>\n",
       "      <th>0</th>\n",
       "      <td>F</td>\n",
       "      <td>78</td>\n",
       "      <td>bar</td>\n",
       "      <td>True</td>\n",
       "    </tr>\n",
       "    <tr>\n",
       "      <th>1</th>\n",
       "      <td>F</td>\n",
       "      <td>24</td>\n",
       "      <td>bar</td>\n",
       "      <td>False</td>\n",
       "    </tr>\n",
       "    <tr>\n",
       "      <th>2</th>\n",
       "      <td>F</td>\n",
       "      <td>45</td>\n",
       "      <td>bar</td>\n",
       "      <td>True</td>\n",
       "    </tr>\n",
       "    <tr>\n",
       "      <th>3</th>\n",
       "      <td>F</td>\n",
       "      <td>21</td>\n",
       "      <td>pharmacy</td>\n",
       "      <td>False</td>\n",
       "    </tr>\n",
       "    <tr>\n",
       "      <th>4</th>\n",
       "      <td>F</td>\n",
       "      <td>45</td>\n",
       "      <td>pharmacy</td>\n",
       "      <td>False</td>\n",
       "    </tr>\n",
       "  </tbody>\n",
       "</table>\n",
       "</div>"
      ],
      "text/plain": [
       "  sex  age business_type  is_resident\n",
       "0   F   78           bar         True\n",
       "1   F   24           bar        False\n",
       "2   F   45           bar         True\n",
       "3   F   21      pharmacy        False\n",
       "4   F   45      pharmacy        False"
      ]
     },
     "execution_count": 5,
     "metadata": {},
     "output_type": "execute_result"
    }
   ],
   "source": [
    "discounts = df['discount'].copy()\n",
    "df.drop(columns=['discount',], inplace=True)\n",
    "\n",
    "print(f'discount shape: {discounts.shape}')\n",
    "\n",
    "df.head()"
   ]
  },
  {
   "cell_type": "markdown",
   "id": "ae18e398",
   "metadata": {},
   "source": [
    "### Hot One Encode"
   ]
  },
  {
   "cell_type": "code",
   "execution_count": 6,
   "id": "64d88f22",
   "metadata": {},
   "outputs": [],
   "source": [
    "df = pd.get_dummies(df, columns=['sex', 'business_type'])\n"
   ]
  },
  {
   "cell_type": "code",
   "execution_count": 7,
   "id": "3867fbd1",
   "metadata": {},
   "outputs": [],
   "source": [
    "\n",
    "\n",
    "df['is_resident'].replace({False: 0, True: 1}, inplace=True)"
   ]
  },
  {
   "cell_type": "markdown",
   "id": "3cc2e1d8",
   "metadata": {},
   "source": [
    "### Scaling age"
   ]
  },
  {
   "cell_type": "code",
   "execution_count": 8,
   "id": "bd434fa6",
   "metadata": {},
   "outputs": [],
   "source": [
    "scaler = MinMaxScaler()\n",
    "df['age'] = scaler.fit_transform(df['age'].values.reshape(-1, 1))\n"
   ]
  },
  {
   "cell_type": "code",
   "execution_count": 9,
   "id": "78963b70",
   "metadata": {},
   "outputs": [
    {
     "name": "stdout",
     "output_type": "stream",
     "text": [
      "Shape: (10000, 10)\n"
     ]
    },
    {
     "data": {
      "text/html": [
       "<div>\n",
       "<style scoped>\n",
       "    .dataframe tbody tr th:only-of-type {\n",
       "        vertical-align: middle;\n",
       "    }\n",
       "\n",
       "    .dataframe tbody tr th {\n",
       "        vertical-align: top;\n",
       "    }\n",
       "\n",
       "    .dataframe thead th {\n",
       "        text-align: right;\n",
       "    }\n",
       "</style>\n",
       "<table border=\"1\" class=\"dataframe\">\n",
       "  <thead>\n",
       "    <tr style=\"text-align: right;\">\n",
       "      <th></th>\n",
       "      <th>age</th>\n",
       "      <th>is_resident</th>\n",
       "      <th>sex_F</th>\n",
       "      <th>sex_M</th>\n",
       "      <th>business_type_airline</th>\n",
       "      <th>business_type_bar</th>\n",
       "      <th>business_type_hotel</th>\n",
       "      <th>business_type_pharmacy</th>\n",
       "      <th>business_type_restaurant</th>\n",
       "      <th>business_type_spa</th>\n",
       "    </tr>\n",
       "  </thead>\n",
       "  <tbody>\n",
       "    <tr>\n",
       "      <th>0</th>\n",
       "      <td>0.789474</td>\n",
       "      <td>1</td>\n",
       "      <td>1</td>\n",
       "      <td>0</td>\n",
       "      <td>0</td>\n",
       "      <td>1</td>\n",
       "      <td>0</td>\n",
       "      <td>0</td>\n",
       "      <td>0</td>\n",
       "      <td>0</td>\n",
       "    </tr>\n",
       "    <tr>\n",
       "      <th>1</th>\n",
       "      <td>0.078947</td>\n",
       "      <td>0</td>\n",
       "      <td>1</td>\n",
       "      <td>0</td>\n",
       "      <td>0</td>\n",
       "      <td>1</td>\n",
       "      <td>0</td>\n",
       "      <td>0</td>\n",
       "      <td>0</td>\n",
       "      <td>0</td>\n",
       "    </tr>\n",
       "    <tr>\n",
       "      <th>2</th>\n",
       "      <td>0.355263</td>\n",
       "      <td>1</td>\n",
       "      <td>1</td>\n",
       "      <td>0</td>\n",
       "      <td>0</td>\n",
       "      <td>1</td>\n",
       "      <td>0</td>\n",
       "      <td>0</td>\n",
       "      <td>0</td>\n",
       "      <td>0</td>\n",
       "    </tr>\n",
       "    <tr>\n",
       "      <th>3</th>\n",
       "      <td>0.039474</td>\n",
       "      <td>0</td>\n",
       "      <td>1</td>\n",
       "      <td>0</td>\n",
       "      <td>0</td>\n",
       "      <td>0</td>\n",
       "      <td>0</td>\n",
       "      <td>1</td>\n",
       "      <td>0</td>\n",
       "      <td>0</td>\n",
       "    </tr>\n",
       "    <tr>\n",
       "      <th>4</th>\n",
       "      <td>0.355263</td>\n",
       "      <td>0</td>\n",
       "      <td>1</td>\n",
       "      <td>0</td>\n",
       "      <td>0</td>\n",
       "      <td>0</td>\n",
       "      <td>0</td>\n",
       "      <td>1</td>\n",
       "      <td>0</td>\n",
       "      <td>0</td>\n",
       "    </tr>\n",
       "  </tbody>\n",
       "</table>\n",
       "</div>"
      ],
      "text/plain": [
       "        age  is_resident  sex_F  sex_M  business_type_airline  \\\n",
       "0  0.789474            1      1      0                      0   \n",
       "1  0.078947            0      1      0                      0   \n",
       "2  0.355263            1      1      0                      0   \n",
       "3  0.039474            0      1      0                      0   \n",
       "4  0.355263            0      1      0                      0   \n",
       "\n",
       "   business_type_bar  business_type_hotel  business_type_pharmacy  \\\n",
       "0                  1                    0                       0   \n",
       "1                  1                    0                       0   \n",
       "2                  1                    0                       0   \n",
       "3                  0                    0                       1   \n",
       "4                  0                    0                       1   \n",
       "\n",
       "   business_type_restaurant  business_type_spa  \n",
       "0                         0                  0  \n",
       "1                         0                  0  \n",
       "2                         0                  0  \n",
       "3                         0                  0  \n",
       "4                         0                  0  "
      ]
     },
     "execution_count": 9,
     "metadata": {},
     "output_type": "execute_result"
    }
   ],
   "source": [
    "print(f'Shape: {df.shape}')\n",
    "df.head()"
   ]
  },
  {
   "cell_type": "markdown",
   "id": "96cd8b30",
   "metadata": {},
   "source": [
    "## Basic Neuronal Network\n"
   ]
  },
  {
   "cell_type": "code",
   "execution_count": 39,
   "id": "5578856f",
   "metadata": {},
   "outputs": [],
   "source": [
    "learning_rate = 0.001\n",
    "input_layer = tf.keras.layers.Dense(units=df.shape[1], input_shape=[df.shape[1]])\n",
    "hidden_layer = tf.keras.layers.Dense(units=256, activation='sigmoid')\n",
    "output_layer = tf.keras.layers.Dense(units=1)"
   ]
  },
  {
   "cell_type": "code",
   "execution_count": 40,
   "id": "4fe4657c",
   "metadata": {},
   "outputs": [],
   "source": [
    "model = tf.keras.models.Sequential()\n",
    "\n",
    "model.add(input_layer)\n",
    "model.add(hidden_layer)\n",
    "model.add(output_layer)\n"
   ]
  },
  {
   "cell_type": "code",
   "execution_count": 41,
   "id": "fa536c78",
   "metadata": {},
   "outputs": [],
   "source": [
    "model.compile(\n",
    "    optimizer=tf.keras.optimizers.Adam(learning_rate),\n",
    "    loss='mean_squared_error',\n",
    "    metrics=['accuracy']\n",
    ")"
   ]
  },
  {
   "cell_type": "code",
   "execution_count": null,
   "id": "17f432e8",
   "metadata": {},
   "outputs": [
    {
     "name": "stdout",
     "output_type": "stream",
     "text": [
      "Epoch 1/100\n",
      "313/313 [==============================] - 1s 877us/step - loss: 0.0041 - accuracy: 0.8926\n",
      "Epoch 2/100\n",
      "313/313 [==============================] - 0s 903us/step - loss: 0.0032 - accuracy: 0.8926\n",
      "Epoch 3/100\n",
      "313/313 [==============================] - 0s 1ms/step - loss: 0.0033 - accuracy: 0.8926\n",
      "Epoch 4/100\n",
      "313/313 [==============================] - 0s 893us/step - loss: 0.0034 - accuracy: 0.8926\n",
      "Epoch 5/100\n",
      "313/313 [==============================] - 0s 852us/step - loss: 0.0033 - accuracy: 0.8926\n",
      "Epoch 6/100\n",
      "157/313 [==============>...............] - ETA: 0s - loss: 0.0031 - accuracy: 0.8959"
     ]
    }
   ],
   "source": [
    "history = model.fit(df.values, discounts.values, epochs=100)"
   ]
  },
  {
   "cell_type": "code",
   "execution_count": 32,
   "id": "f2e79f99",
   "metadata": {},
   "outputs": [
    {
     "name": "stdout",
     "output_type": "stream",
     "text": [
      "{'loss': [0.0030461682472378016, 0.0031355470418930054, 0.0031283267308026552, 0.003027488011866808, 0.0030785740818828344, 0.0031552466098219156, 0.003067881101742387, 0.0031371009536087513, 0.003077874658629298, 0.0030992000829428434, 0.0031215506605803967, 0.003067628014832735, 0.0031036112923175097, 0.003220289247110486, 0.0032421061769127846, 0.003132991958409548, 0.0030507545452564955, 0.0030375299975275993, 0.0031414965633302927, 0.003107258351519704, 0.0032478945795446634, 0.003149711526930332, 0.0030750527512282133, 0.0030482071451842785, 0.003145697060972452, 0.003118199063464999, 0.003309231484308839, 0.0030461372807621956, 0.003189569106325507, 0.003056977177038789, 0.003042510012164712, 0.0030180453322827816, 0.003220283193513751, 0.003059132257476449, 0.0031835732515901327, 0.0030574635602533817, 0.0031730709597468376, 0.0030517640989273787, 0.003160766325891018, 0.0032645268365740776, 0.003180315950885415, 0.0030630442779511213, 0.003049367805942893, 0.0030192025005817413, 0.003036137204617262, 0.003201054409146309, 0.003230428323149681, 0.00332438200712204, 0.003019757568836212, 0.003017977811396122, 0.003089195815846324, 0.003061019815504551, 0.0031166851986199617, 0.0031696828082203865, 0.0031635987106710672, 0.0030747477430850267, 0.0030938165728002787, 0.003148790681734681, 0.003157011466100812, 0.003100310219451785, 0.003134465776383877, 0.003085365751758218, 0.00319949840195477, 0.0030978540889918804, 0.00308659253641963, 0.003080977126955986, 0.003066570498049259, 0.0030953090172261, 0.003052881918847561, 0.00332628283649683, 0.003070209873840213, 0.0030277022160589695, 0.003160973312333226, 0.0030538118444383144, 0.0031472111586481333, 0.0031309209298342466, 0.0030755659099668264, 0.0030864784494042397, 0.0032188419718295336, 0.0031939528416842222, 0.003047098172828555, 0.003032321808859706, 0.003142244415357709, 0.003219075733795762, 0.003045205492526293, 0.0030561822932213545, 0.0031397456768900156, 0.00321336486376822, 0.003209037473425269, 0.003132670884951949, 0.0030425521545112133, 0.003019818337634206, 0.003052841406315565, 0.0032476710621267557, 0.003170071868225932, 0.00308805494569242, 0.0030727272387593985, 0.0030594617128372192, 0.0031174817122519016, 0.003105094423517585], 'accuracy': [0.8925999999046326, 0.8925999999046326, 0.8925999999046326, 0.8925999999046326, 0.8925999999046326, 0.8925999999046326, 0.8925999999046326, 0.8925999999046326, 0.8925999999046326, 0.8925999999046326, 0.8925999999046326, 0.8925999999046326, 0.8925999999046326, 0.8925999999046326, 0.8925999999046326, 0.8925999999046326, 0.8925999999046326, 0.8925999999046326, 0.8925999999046326, 0.8925999999046326, 0.8925999999046326, 0.8925999999046326, 0.8925999999046326, 0.8925999999046326, 0.8925999999046326, 0.8925999999046326, 0.8925999999046326, 0.8925999999046326, 0.8925999999046326, 0.8925999999046326, 0.8925999999046326, 0.8925999999046326, 0.8925999999046326, 0.8925999999046326, 0.8925999999046326, 0.8925999999046326, 0.8925999999046326, 0.8925999999046326, 0.8925999999046326, 0.8925999999046326, 0.8925999999046326, 0.8925999999046326, 0.8925999999046326, 0.8925999999046326, 0.8925999999046326, 0.8925999999046326, 0.8925999999046326, 0.8925999999046326, 0.8925999999046326, 0.8925999999046326, 0.8925999999046326, 0.8925999999046326, 0.8925999999046326, 0.8925999999046326, 0.8925999999046326, 0.8925999999046326, 0.8925999999046326, 0.8925999999046326, 0.8925999999046326, 0.8925999999046326, 0.8925999999046326, 0.8925999999046326, 0.8925999999046326, 0.8925999999046326, 0.8925999999046326, 0.8925999999046326, 0.8925999999046326, 0.8925999999046326, 0.8925999999046326, 0.8925999999046326, 0.8925999999046326, 0.8925999999046326, 0.8925999999046326, 0.8925999999046326, 0.8925999999046326, 0.8925999999046326, 0.8925999999046326, 0.8925999999046326, 0.8925999999046326, 0.8925999999046326, 0.8925999999046326, 0.8925999999046326, 0.8925999999046326, 0.8925999999046326, 0.8925999999046326, 0.8925999999046326, 0.8925999999046326, 0.8925999999046326, 0.8925999999046326, 0.8925999999046326, 0.8925999999046326, 0.8925999999046326, 0.8925999999046326, 0.8925999999046326, 0.8925999999046326, 0.8925999999046326, 0.8925999999046326, 0.8925999999046326, 0.8925999999046326, 0.8925999999046326]}\n"
     ]
    }
   ],
   "source": [
    "print(history.history)"
   ]
  },
  {
   "cell_type": "code",
   "execution_count": 33,
   "id": "ed986a7b",
   "metadata": {},
   "outputs": [
    {
     "data": {
      "text/plain": [
       "<function matplotlib.pyplot.show(close=None, block=None)>"
      ]
     },
     "execution_count": 33,
     "metadata": {},
     "output_type": "execute_result"
    },
    {
     "data": {
      "image/png": "[encoded data removed]",
      "text/plain": [
       "<Figure size 432x288 with 1 Axes>"
      ]
     },
     "metadata": {
      "needs_background": "light"
     },
     "output_type": "display_data"
    }
   ],
   "source": [
    "plt.xlabel('Epoch')\n",
    "plt.ylabel('Loss')\n",
    "plt.plot(history.history['loss'])\n",
    "plt.show"
   ]
  },
  {
   "cell_type": "code",
   "execution_count": 34,
   "id": "85293b23",
   "metadata": {},
   "outputs": [
    {
     "name": "stdout",
     "output_type": "stream",
     "text": [
      "36\n"
     ]
    }
   ],
   "source": [
    "df_values = df.values\n",
    "disc_value = discounts.values\n",
    "\n",
    "for i in range(500):\n",
    "    if disc_value[i] > 0.0:\n",
    "        print(i)\n",
    "        break"
   ]
  },
  {
   "cell_type": "code",
   "execution_count": 35,
   "id": "428add3b",
   "metadata": {},
   "outputs": [
    {
     "name": "stdout",
     "output_type": "stream",
     "text": [
      "[[0.92105263 1.         1.         0.         0.         0.\n",
      "  0.         1.         0.         0.        ]]\n",
      "0.2\n"
     ]
    }
   ],
   "source": [
    "print(df_values[36].reshape(1,10))\n",
    "print(disc_value[36])"
   ]
  },
  {
   "cell_type": "code",
   "execution_count": 36,
   "id": "22da983e",
   "metadata": {},
   "outputs": [
    {
     "name": "stdout",
     "output_type": "stream",
     "text": [
      "Estimated discount [[0.06717551]]\n"
     ]
    }
   ],
   "source": [
    "pred = model.predict(df_values[36].reshape(1,10))\n",
    "\n",
    "print(f'Estimated discount {pred}')"
   ]
  },
  {
   "cell_type": "code",
   "execution_count": 37,
   "id": "61782499",
   "metadata": {},
   "outputs": [
    {
     "name": "stdout",
     "output_type": "stream",
     "text": [
      "Estimated discount [[0.03157118]]\n"
     ]
    }
   ],
   "source": [
    "pred = model.predict(df_values[0].reshape(1,10))\n",
    "\n",
    "print(f'Estimated discount {pred}')"
   ]
  },
  {
   "cell_type": "code",
   "execution_count": null,
   "id": "3afef089",
   "metadata": {},
   "outputs": [],
   "source": []
  }
 ],
 "metadata": {
  "kernelspec": {
   "display_name": "Python 3",
   "language": "python",
   "name": "python3"
  },
  "language_info": {
   "codemirror_mode": {
    "name": "ipython",
    "version": 3
   },
   "file_extension": ".py",
   "mimetype": "text/x-python",
   "name": "python",
   "nbconvert_exporter": "python",
   "pygments_lexer": "ipython3",
   "version": "3.8.10"
  },
  "toc": {
   "base_numbering": 1,
   "nav_menu": {},
   "number_sections": true,
   "sideBar": true,
   "skip_h1_title": true,
   "title_cell": "Table of Contents",
   "title_sidebar": "Contents",
   "toc_cell": false,
   "toc_position": {},
   "toc_section_display": true,
   "toc_window_display": true
  }
 },
 "nbformat": 4,
 "nbformat_minor": 5
}
