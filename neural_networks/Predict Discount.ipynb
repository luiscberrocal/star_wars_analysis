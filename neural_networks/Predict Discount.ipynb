{
 "cells": [
  {
   "cell_type": "markdown",
   "id": "dfb70cf9",
   "metadata": {},
   "source": [
    "# Predict Discount Based on Age"
   ]
  },
  {
   "cell_type": "code",
   "execution_count": 1,
   "id": "9f8858f0",
   "metadata": {},
   "outputs": [],
   "source": [
    "from random import randrange, choice\n",
    "import os\n",
    "import pandas as pd\n",
    "import tensorflow as tf\n",
    "import matplotlib.pyplot as plt\n",
    "\n",
    "from sklearn.preprocessing import MinMaxScaler\n",
    "from sklearn.model_selection import train_test_split\n",
    "\n",
    "from numpy.random import seed\n",
    "seed(1)"
   ]
  },
  {
   "cell_type": "markdown",
   "id": "27af409c",
   "metadata": {},
   "source": [
    "\n",
    "## Create Data"
   ]
  },
  {
   "cell_type": "code",
   "execution_count": 2,
   "id": "5d2551d2",
   "metadata": {},
   "outputs": [],
   "source": [
    "sample_size =25000\n",
    "data_file = f'../data/discount_data_{sample_size}.xlsx'\n",
    "\n",
    "business_list = ['bar', 'restaurant', 'hotel', 'pharmacy', 'spa', 'airline']\n",
    "\n",
    "\n",
    "def calculate_discount(age, sex, business_type, is_resident):\n",
    "    business_discounts = dict()\n",
    "    business_discounts['restaurant'] = 0.2\n",
    "    business_discounts['pharmacy'] = 0.2\n",
    "    business_discounts['hotel'] = 0.25\n",
    "    \n",
    "    if sex == 'M' and age >= 64 and is_resident:\n",
    "        return business_discounts.get(business_type, 0.0)\n",
    "    elif sex == 'F' and age >= 57 and is_resident:\n",
    "        return business_discounts.get(business_type, 0.0)\n",
    "    else:\n",
    "        return 0.0\n",
    "    \n",
    "def build_dataframe(samples):\n",
    "\n",
    "    data = dict()\n",
    "    data['sex'] = list()\n",
    "    data['age'] = list()\n",
    "    data['business_type'] = list()\n",
    "    data['discount'] = list()\n",
    "    data['is_resident'] = list()\n",
    "    for i in range(samples):\n",
    "        age = randrange(18, 95, 1)\n",
    "        sex = choice(['M', 'F'])\n",
    "        business_type = choice(business_list)\n",
    "        is_resident =  choice([True, False])\n",
    "        discount = calculate_discount(age, sex, business_type, is_resident)\n",
    "        #print(f'{sex} age {age} for {business_type}')\n",
    "        data['sex'].append(sex)\n",
    "        data['age'].append(age)\n",
    "        data['business_type'].append(business_type)\n",
    "        data['discount'].append(discount)\n",
    "        data['is_resident'].append(is_resident)\n",
    "\n",
    "        df = pd.DataFrame.from_dict(data)\n",
    "    return df\n",
    "    \n"
   ]
  },
  {
   "cell_type": "code",
   "execution_count": 3,
   "id": "6d634947",
   "metadata": {},
   "outputs": [
    {
     "name": "stdout",
     "output_type": "stream",
     "text": [
      "Loaded from ../data/discount_data_25000.xlsx\n"
     ]
    }
   ],
   "source": [
    "if os.path.exists(data_file):\n",
    "    df = pd.read_excel(data_file)\n",
    "    print(f'Loaded from {data_file}')\n",
    "else:\n",
    "    df = build_dataframe(sample_size)\n",
    "    df.to_excel(data_file, index=False)\n",
    "    print(f'Saved to {data_file}')"
   ]
  },
  {
   "cell_type": "code",
   "execution_count": 4,
   "id": "17c32886",
   "metadata": {},
   "outputs": [
    {
     "name": "stdout",
     "output_type": "stream",
     "text": [
      "Shape: (25000, 5)\n"
     ]
    },
    {
     "data": {
      "text/html": [
       "<div>\n",
       "<style scoped>\n",
       "    .dataframe tbody tr th:only-of-type {\n",
       "        vertical-align: middle;\n",
       "    }\n",
       "\n",
       "    .dataframe tbody tr th {\n",
       "        vertical-align: top;\n",
       "    }\n",
       "\n",
       "    .dataframe thead th {\n",
       "        text-align: right;\n",
       "    }\n",
       "</style>\n",
       "<table border=\"1\" class=\"dataframe\">\n",
       "  <thead>\n",
       "    <tr style=\"text-align: right;\">\n",
       "      <th></th>\n",
       "      <th>sex</th>\n",
       "      <th>age</th>\n",
       "      <th>business_type</th>\n",
       "      <th>discount</th>\n",
       "      <th>is_resident</th>\n",
       "    </tr>\n",
       "  </thead>\n",
       "  <tbody>\n",
       "    <tr>\n",
       "      <th>0</th>\n",
       "      <td>F</td>\n",
       "      <td>43</td>\n",
       "      <td>airline</td>\n",
       "      <td>0.0</td>\n",
       "      <td>True</td>\n",
       "    </tr>\n",
       "    <tr>\n",
       "      <th>1</th>\n",
       "      <td>M</td>\n",
       "      <td>89</td>\n",
       "      <td>spa</td>\n",
       "      <td>0.0</td>\n",
       "      <td>True</td>\n",
       "    </tr>\n",
       "    <tr>\n",
       "      <th>2</th>\n",
       "      <td>M</td>\n",
       "      <td>31</td>\n",
       "      <td>pharmacy</td>\n",
       "      <td>0.0</td>\n",
       "      <td>False</td>\n",
       "    </tr>\n",
       "    <tr>\n",
       "      <th>3</th>\n",
       "      <td>M</td>\n",
       "      <td>50</td>\n",
       "      <td>airline</td>\n",
       "      <td>0.0</td>\n",
       "      <td>True</td>\n",
       "    </tr>\n",
       "    <tr>\n",
       "      <th>4</th>\n",
       "      <td>F</td>\n",
       "      <td>61</td>\n",
       "      <td>airline</td>\n",
       "      <td>0.0</td>\n",
       "      <td>True</td>\n",
       "    </tr>\n",
       "  </tbody>\n",
       "</table>\n",
       "</div>"
      ],
      "text/plain": [
       "  sex  age business_type  discount  is_resident\n",
       "0   F   43       airline       0.0         True\n",
       "1   M   89           spa       0.0         True\n",
       "2   M   31      pharmacy       0.0        False\n",
       "3   M   50       airline       0.0         True\n",
       "4   F   61       airline       0.0         True"
      ]
     },
     "execution_count": 4,
     "metadata": {},
     "output_type": "execute_result"
    }
   ],
   "source": [
    "print(f'Shape: {df.shape}')\n",
    "df.head()"
   ]
  },
  {
   "cell_type": "markdown",
   "id": "2022d1d5",
   "metadata": {},
   "source": [
    "## Cleanup\n",
    "\n",
    "\n",
    "### Separate dependent and independent variables"
   ]
  },
  {
   "cell_type": "code",
   "execution_count": 5,
   "id": "9ef0acdc",
   "metadata": {},
   "outputs": [
    {
     "name": "stdout",
     "output_type": "stream",
     "text": [
      "discount shape: (25000,)\n"
     ]
    },
    {
     "data": {
      "text/html": [
       "<div>\n",
       "<style scoped>\n",
       "    .dataframe tbody tr th:only-of-type {\n",
       "        vertical-align: middle;\n",
       "    }\n",
       "\n",
       "    .dataframe tbody tr th {\n",
       "        vertical-align: top;\n",
       "    }\n",
       "\n",
       "    .dataframe thead th {\n",
       "        text-align: right;\n",
       "    }\n",
       "</style>\n",
       "<table border=\"1\" class=\"dataframe\">\n",
       "  <thead>\n",
       "    <tr style=\"text-align: right;\">\n",
       "      <th></th>\n",
       "      <th>sex</th>\n",
       "      <th>age</th>\n",
       "      <th>business_type</th>\n",
       "      <th>is_resident</th>\n",
       "    </tr>\n",
       "  </thead>\n",
       "  <tbody>\n",
       "    <tr>\n",
       "      <th>0</th>\n",
       "      <td>F</td>\n",
       "      <td>43</td>\n",
       "      <td>airline</td>\n",
       "      <td>True</td>\n",
       "    </tr>\n",
       "    <tr>\n",
       "      <th>1</th>\n",
       "      <td>M</td>\n",
       "      <td>89</td>\n",
       "      <td>spa</td>\n",
       "      <td>True</td>\n",
       "    </tr>\n",
       "    <tr>\n",
       "      <th>2</th>\n",
       "      <td>M</td>\n",
       "      <td>31</td>\n",
       "      <td>pharmacy</td>\n",
       "      <td>False</td>\n",
       "    </tr>\n",
       "    <tr>\n",
       "      <th>3</th>\n",
       "      <td>M</td>\n",
       "      <td>50</td>\n",
       "      <td>airline</td>\n",
       "      <td>True</td>\n",
       "    </tr>\n",
       "    <tr>\n",
       "      <th>4</th>\n",
       "      <td>F</td>\n",
       "      <td>61</td>\n",
       "      <td>airline</td>\n",
       "      <td>True</td>\n",
       "    </tr>\n",
       "  </tbody>\n",
       "</table>\n",
       "</div>"
      ],
      "text/plain": [
       "  sex  age business_type  is_resident\n",
       "0   F   43       airline         True\n",
       "1   M   89           spa         True\n",
       "2   M   31      pharmacy        False\n",
       "3   M   50       airline         True\n",
       "4   F   61       airline         True"
      ]
     },
     "execution_count": 5,
     "metadata": {},
     "output_type": "execute_result"
    }
   ],
   "source": [
    "discounts = df['discount'].copy()\n",
    "df.drop(columns=['discount',], inplace=True)\n",
    "\n",
    "print(f'discount shape: {discounts.shape}')\n",
    "\n",
    "df.head()"
   ]
  },
  {
   "cell_type": "markdown",
   "id": "90cb34a0",
   "metadata": {},
   "source": [
    "### Hot One Encode"
   ]
  },
  {
   "cell_type": "code",
   "execution_count": 6,
   "id": "4725848a",
   "metadata": {},
   "outputs": [],
   "source": [
    "df = pd.get_dummies(df, columns=['sex', 'business_type'])\n"
   ]
  },
  {
   "cell_type": "code",
   "execution_count": 7,
   "id": "c877bb1a",
   "metadata": {},
   "outputs": [],
   "source": [
    "\n",
    "\n",
    "df['is_resident'].replace({False: 0, True: 1}, inplace=True)"
   ]
  },
  {
   "cell_type": "markdown",
   "id": "bf1cf2de",
   "metadata": {},
   "source": [
    "### Scaling age"
   ]
  },
  {
   "cell_type": "code",
   "execution_count": 8,
   "id": "38c97eb0",
   "metadata": {},
   "outputs": [],
   "source": [
    "scaler = MinMaxScaler()\n",
    "df['age'] = scaler.fit_transform(df['age'].values.reshape(-1, 1))\n"
   ]
  },
  {
   "cell_type": "code",
   "execution_count": 9,
   "id": "e16857cd",
   "metadata": {},
   "outputs": [
    {
     "name": "stdout",
     "output_type": "stream",
     "text": [
      "Shape: (25000, 10)\n"
     ]
    },
    {
     "data": {
      "text/html": [
       "<div>\n",
       "<style scoped>\n",
       "    .dataframe tbody tr th:only-of-type {\n",
       "        vertical-align: middle;\n",
       "    }\n",
       "\n",
       "    .dataframe tbody tr th {\n",
       "        vertical-align: top;\n",
       "    }\n",
       "\n",
       "    .dataframe thead th {\n",
       "        text-align: right;\n",
       "    }\n",
       "</style>\n",
       "<table border=\"1\" class=\"dataframe\">\n",
       "  <thead>\n",
       "    <tr style=\"text-align: right;\">\n",
       "      <th></th>\n",
       "      <th>age</th>\n",
       "      <th>is_resident</th>\n",
       "      <th>sex_F</th>\n",
       "      <th>sex_M</th>\n",
       "      <th>business_type_airline</th>\n",
       "      <th>business_type_bar</th>\n",
       "      <th>business_type_hotel</th>\n",
       "      <th>business_type_pharmacy</th>\n",
       "      <th>business_type_restaurant</th>\n",
       "      <th>business_type_spa</th>\n",
       "    </tr>\n",
       "  </thead>\n",
       "  <tbody>\n",
       "    <tr>\n",
       "      <th>0</th>\n",
       "      <td>0.328947</td>\n",
       "      <td>1</td>\n",
       "      <td>1</td>\n",
       "      <td>0</td>\n",
       "      <td>1</td>\n",
       "      <td>0</td>\n",
       "      <td>0</td>\n",
       "      <td>0</td>\n",
       "      <td>0</td>\n",
       "      <td>0</td>\n",
       "    </tr>\n",
       "    <tr>\n",
       "      <th>1</th>\n",
       "      <td>0.934211</td>\n",
       "      <td>1</td>\n",
       "      <td>0</td>\n",
       "      <td>1</td>\n",
       "      <td>0</td>\n",
       "      <td>0</td>\n",
       "      <td>0</td>\n",
       "      <td>0</td>\n",
       "      <td>0</td>\n",
       "      <td>1</td>\n",
       "    </tr>\n",
       "    <tr>\n",
       "      <th>2</th>\n",
       "      <td>0.171053</td>\n",
       "      <td>0</td>\n",
       "      <td>0</td>\n",
       "      <td>1</td>\n",
       "      <td>0</td>\n",
       "      <td>0</td>\n",
       "      <td>0</td>\n",
       "      <td>1</td>\n",
       "      <td>0</td>\n",
       "      <td>0</td>\n",
       "    </tr>\n",
       "    <tr>\n",
       "      <th>3</th>\n",
       "      <td>0.421053</td>\n",
       "      <td>1</td>\n",
       "      <td>0</td>\n",
       "      <td>1</td>\n",
       "      <td>1</td>\n",
       "      <td>0</td>\n",
       "      <td>0</td>\n",
       "      <td>0</td>\n",
       "      <td>0</td>\n",
       "      <td>0</td>\n",
       "    </tr>\n",
       "    <tr>\n",
       "      <th>4</th>\n",
       "      <td>0.565789</td>\n",
       "      <td>1</td>\n",
       "      <td>1</td>\n",
       "      <td>0</td>\n",
       "      <td>1</td>\n",
       "      <td>0</td>\n",
       "      <td>0</td>\n",
       "      <td>0</td>\n",
       "      <td>0</td>\n",
       "      <td>0</td>\n",
       "    </tr>\n",
       "  </tbody>\n",
       "</table>\n",
       "</div>"
      ],
      "text/plain": [
       "        age  is_resident  sex_F  sex_M  business_type_airline  \\\n",
       "0  0.328947            1      1      0                      1   \n",
       "1  0.934211            1      0      1                      0   \n",
       "2  0.171053            0      0      1                      0   \n",
       "3  0.421053            1      0      1                      1   \n",
       "4  0.565789            1      1      0                      1   \n",
       "\n",
       "   business_type_bar  business_type_hotel  business_type_pharmacy  \\\n",
       "0                  0                    0                       0   \n",
       "1                  0                    0                       0   \n",
       "2                  0                    0                       1   \n",
       "3                  0                    0                       0   \n",
       "4                  0                    0                       0   \n",
       "\n",
       "   business_type_restaurant  business_type_spa  \n",
       "0                         0                  0  \n",
       "1                         0                  1  \n",
       "2                         0                  0  \n",
       "3                         0                  0  \n",
       "4                         0                  0  "
      ]
     },
     "execution_count": 9,
     "metadata": {},
     "output_type": "execute_result"
    }
   ],
   "source": [
    "print(f'Shape: {df.shape}')\n",
    "df.head()"
   ]
  },
  {
   "cell_type": "markdown",
   "id": "847bd523",
   "metadata": {},
   "source": [
    "## Spliting data"
   ]
  },
  {
   "cell_type": "code",
   "execution_count": 10,
   "id": "0039917a",
   "metadata": {},
   "outputs": [],
   "source": [
    "X_train, X_rem, y_train, y_rem = train_test_split(df.values, discounts.values, \n",
    "                                                  train_size=0.8)\n",
    "X_valid, X_test, y_valid, y_test = train_test_split(X_rem,y_rem, test_size=0.5)\n"
   ]
  },
  {
   "cell_type": "markdown",
   "id": "96cd8b30",
   "metadata": {},
   "source": [
    "## Basic Neuronal Network\n"
   ]
  },
  {
   "cell_type": "code",
   "execution_count": 11,
   "id": "5578856f",
   "metadata": {},
   "outputs": [],
   "source": [
    "learning_rate = 0.001\n",
    "input_layer = tf.keras.layers.Dense(units=1, input_shape=[df.shape[1]])\n",
    "hidden_layer_0 = tf.keras.layers.Dense(units=512, activation='sigmoid')\n",
    "hidden_layer_1 = tf.keras.layers.Dense(units=256) #, activation='sigmoid')\n",
    "output_layer = tf.keras.layers.Dense(units=1)"
   ]
  },
  {
   "cell_type": "code",
   "execution_count": 12,
   "id": "24641cf2",
   "metadata": {},
   "outputs": [],
   "source": [
    "model = tf.keras.models.Sequential()\n",
    "\n",
    "model.add(input_layer)\n",
    "model.add(hidden_layer_1)\n",
    "model.add(output_layer)\n"
   ]
  },
  {
   "cell_type": "code",
   "execution_count": 13,
   "id": "637f6304",
   "metadata": {},
   "outputs": [],
   "source": [
    "model.compile(\n",
    "    optimizer=tf.keras.optimizers.Adam(learning_rate),\n",
    "    loss='mean_squared_error',\n",
    "    metrics=['accuracy']\n",
    ")"
   ]
  },
  {
   "cell_type": "code",
   "execution_count": 14,
   "id": "553210fe",
   "metadata": {},
   "outputs": [
    {
     "name": "stdout",
     "output_type": "stream",
     "text": [
      "Epoch 1/25\n",
      "625/625 [==============================] - 1s 920us/step - loss: 0.0045 - accuracy: 0.8926 - val_loss: 0.0042 - val_accuracy: 0.8832\n",
      "Epoch 2/25\n",
      "625/625 [==============================] - 0s 774us/step - loss: 0.0036 - accuracy: 0.8926 - val_loss: 0.0034 - val_accuracy: 0.8832\n",
      "Epoch 3/25\n",
      "625/625 [==============================] - 0s 743us/step - loss: 0.0031 - accuracy: 0.8926 - val_loss: 0.0031 - val_accuracy: 0.8832\n",
      "Epoch 4/25\n",
      "625/625 [==============================] - 0s 733us/step - loss: 0.0030 - accuracy: 0.8926 - val_loss: 0.0031 - val_accuracy: 0.8832\n",
      "Epoch 5/25\n",
      "625/625 [==============================] - 0s 734us/step - loss: 0.0030 - accuracy: 0.8926 - val_loss: 0.0032 - val_accuracy: 0.8832\n",
      "Epoch 6/25\n",
      "625/625 [==============================] - 2s 3ms/step - loss: 0.0030 - accuracy: 0.8926 - val_loss: 0.0031 - val_accuracy: 0.8832\n",
      "Epoch 7/25\n",
      "625/625 [==============================] - 1s 1ms/step - loss: 0.0030 - accuracy: 0.8926 - val_loss: 0.0031 - val_accuracy: 0.8832\n",
      "Epoch 8/25\n",
      "625/625 [==============================] - 0s 761us/step - loss: 0.0030 - accuracy: 0.8926 - val_loss: 0.0031 - val_accuracy: 0.8832\n",
      "Epoch 9/25\n",
      "625/625 [==============================] - 0s 733us/step - loss: 0.0030 - accuracy: 0.8926 - val_loss: 0.0031 - val_accuracy: 0.8832\n",
      "Epoch 10/25\n",
      "625/625 [==============================] - 0s 732us/step - loss: 0.0030 - accuracy: 0.8926 - val_loss: 0.0031 - val_accuracy: 0.8832\n",
      "Epoch 11/25\n",
      "625/625 [==============================] - 0s 726us/step - loss: 0.0030 - accuracy: 0.8926 - val_loss: 0.0031 - val_accuracy: 0.8832\n",
      "Epoch 12/25\n",
      "625/625 [==============================] - 0s 737us/step - loss: 0.0030 - accuracy: 0.8926 - val_loss: 0.0031 - val_accuracy: 0.8832\n",
      "Epoch 13/25\n",
      "625/625 [==============================] - 0s 735us/step - loss: 0.0030 - accuracy: 0.8926 - val_loss: 0.0031 - val_accuracy: 0.8832\n",
      "Epoch 14/25\n",
      "625/625 [==============================] - 0s 740us/step - loss: 0.0030 - accuracy: 0.8926 - val_loss: 0.0031 - val_accuracy: 0.8832\n",
      "Epoch 15/25\n",
      "625/625 [==============================] - 0s 719us/step - loss: 0.0030 - accuracy: 0.8926 - val_loss: 0.0031 - val_accuracy: 0.8832\n",
      "Epoch 16/25\n",
      "625/625 [==============================] - 0s 699us/step - loss: 0.0030 - accuracy: 0.8926 - val_loss: 0.0032 - val_accuracy: 0.8832\n",
      "Epoch 17/25\n",
      "625/625 [==============================] - 0s 736us/step - loss: 0.0030 - accuracy: 0.8926 - val_loss: 0.0031 - val_accuracy: 0.8832\n",
      "Epoch 18/25\n",
      "625/625 [==============================] - 0s 710us/step - loss: 0.0030 - accuracy: 0.8926 - val_loss: 0.0032 - val_accuracy: 0.8832\n",
      "Epoch 19/25\n",
      "625/625 [==============================] - 0s 742us/step - loss: 0.0030 - accuracy: 0.8926 - val_loss: 0.0031 - val_accuracy: 0.8832\n",
      "Epoch 20/25\n",
      "625/625 [==============================] - 0s 750us/step - loss: 0.0030 - accuracy: 0.8926 - val_loss: 0.0031 - val_accuracy: 0.8832\n",
      "Epoch 21/25\n",
      "625/625 [==============================] - 1s 981us/step - loss: 0.0030 - accuracy: 0.8926 - val_loss: 0.0031 - val_accuracy: 0.8832\n",
      "Epoch 22/25\n",
      "625/625 [==============================] - 1s 1ms/step - loss: 0.0030 - accuracy: 0.8926 - val_loss: 0.0031 - val_accuracy: 0.8832\n",
      "Epoch 23/25\n",
      "625/625 [==============================] - 0s 789us/step - loss: 0.0030 - accuracy: 0.8926 - val_loss: 0.0031 - val_accuracy: 0.8832\n",
      "Epoch 24/25\n",
      "625/625 [==============================] - 0s 788us/step - loss: 0.0030 - accuracy: 0.8926 - val_loss: 0.0032 - val_accuracy: 0.8832\n",
      "Epoch 25/25\n",
      "625/625 [==============================] - 0s 740us/step - loss: 0.0030 - accuracy: 0.8926 - val_loss: 0.0031 - val_accuracy: 0.8832\n"
     ]
    }
   ],
   "source": [
    "batch_size=64\n",
    "num_epochs=25\n",
    "history = model.fit(X_train, y_train,\n",
    "                    validation_data=(X_valid, y_valid),\n",
    "                    #batch_size=batch_size,\n",
    "                    epochs=num_epochs)"
   ]
  },
  {
   "cell_type": "code",
   "execution_count": 15,
   "id": "145ad69a",
   "metadata": {},
   "outputs": [
    {
     "name": "stdout",
     "output_type": "stream",
     "text": [
      "{'loss': [0.00453690392896533, 0.0036049960181117058, 0.003102012677118182, 0.0030387178994715214, 0.0030426979064941406, 0.003031440544873476, 0.003013318171724677, 0.0029981753323227167, 0.003012176603078842, 0.002992774359881878, 0.0029887743294239044, 0.0029872022569179535, 0.0029916279017925262, 0.0029840031638741493, 0.0029845626559108496, 0.0029862262308597565, 0.0029829186387360096, 0.0029754540883004665, 0.0029770880937576294, 0.002980872755870223, 0.002972385147586465, 0.0029790925327688456, 0.0029749847017228603, 0.0029764887876808643, 0.002977770520374179], 'accuracy': [0.8925999999046326, 0.8925999999046326, 0.8925999999046326, 0.8925999999046326, 0.8925999999046326, 0.8925999999046326, 0.8925999999046326, 0.8925999999046326, 0.8925999999046326, 0.8925999999046326, 0.8925999999046326, 0.8925999999046326, 0.8925999999046326, 0.8925999999046326, 0.8925999999046326, 0.8925999999046326, 0.8925999999046326, 0.8925999999046326, 0.8925999999046326, 0.8925999999046326, 0.8925999999046326, 0.8925999999046326, 0.8925999999046326, 0.8925999999046326, 0.8925999999046326], 'val_loss': [0.004153979942202568, 0.0034261432010680437, 0.003102636896073818, 0.0031387547496706247, 0.003231588052585721, 0.003133108140900731, 0.0030739896465092897, 0.0030850223265588284, 0.0031303740106523037, 0.0030832169577479362, 0.0030682196374982595, 0.0030625034123659134, 0.0031075861770659685, 0.0030594593845307827, 0.0030931548681110144, 0.0032041019294410944, 0.0030720490030944347, 0.003173495177179575, 0.0030553166288882494, 0.003078842768445611, 0.0030815552454441786, 0.0030925623141229153, 0.0030636799056082964, 0.00318573578260839, 0.003076098393648863], 'val_accuracy': [0.8831999897956848, 0.8831999897956848, 0.8831999897956848, 0.8831999897956848, 0.8831999897956848, 0.8831999897956848, 0.8831999897956848, 0.8831999897956848, 0.8831999897956848, 0.8831999897956848, 0.8831999897956848, 0.8831999897956848, 0.8831999897956848, 0.8831999897956848, 0.8831999897956848, 0.8831999897956848, 0.8831999897956848, 0.8831999897956848, 0.8831999897956848, 0.8831999897956848, 0.8831999897956848, 0.8831999897956848, 0.8831999897956848, 0.8831999897956848, 0.8831999897956848]}\n"
     ]
    }
   ],
   "source": [
    "print(history.history)"
   ]
  },
  {
   "cell_type": "code",
   "execution_count": 16,
   "id": "8099ca37",
   "metadata": {},
   "outputs": [
    {
     "data": {
      "image/png": "[encoded data removed]",
      "text/plain": [
       "<Figure size 432x288 with 1 Axes>"
      ]
     },
     "metadata": {
      "needs_background": "light"
     },
     "output_type": "display_data"
    }
   ],
   "source": [
    "plt.xlabel('Epoch')\n",
    "plt.ylabel('Loss')\n",
    "plt.plot(history.history['loss'])\n",
    "plt.show()"
   ]
  },
  {
   "cell_type": "code",
   "execution_count": 17,
   "id": "f6701d48",
   "metadata": {},
   "outputs": [
    {
     "name": "stdout",
     "output_type": "stream",
     "text": [
      "3\n",
      "11\n",
      "13\n",
      "21\n",
      "22\n",
      "25\n",
      "40\n",
      "41\n",
      "48\n",
      "53\n"
     ]
    }
   ],
   "source": [
    "df_values = df.values\n",
    "disc_value = discounts.values\n",
    "\n",
    "count = 1\n",
    "for i in range(500):\n",
    "    if y_test[i] > 0.0:\n",
    "        print(i)\n",
    "        count += 1\n",
    "    if count > 10:\n",
    "        break\n",
    "        "
   ]
  },
  {
   "cell_type": "code",
   "execution_count": 18,
   "id": "75664d36",
   "metadata": {},
   "outputs": [
    {
     "name": "stdout",
     "output_type": "stream",
     "text": [
      "[[0.56578947 1.         1.         0.         0.         0.\n",
      "  0.         0.         1.         0.        ]]\n",
      "0.2\n"
     ]
    }
   ],
   "source": [
    "t_num = 3\n",
    "print(X_test[t_num].reshape(1,10))\n",
    "print(y_test[t_num])"
   ]
  },
  {
   "cell_type": "code",
   "execution_count": 19,
   "id": "445c5730",
   "metadata": {},
   "outputs": [
    {
     "name": "stdout",
     "output_type": "stream",
     "text": [
      "Estimated discount [[0.02361058]]\n"
     ]
    }
   ],
   "source": [
    "pred = model.predict(df_values[t_num].reshape(1,10))\n",
    "\n",
    "print(f'Estimated discount {pred}')"
   ]
  },
  {
   "cell_type": "code",
   "execution_count": 20,
   "id": "49c6ef11",
   "metadata": {},
   "outputs": [
    {
     "name": "stdout",
     "output_type": "stream",
     "text": [
      "Estimated discount [[0.0217701]]\n"
     ]
    }
   ],
   "source": [
    "pred = model.predict(df_values[0].reshape(1,10))\n",
    "\n",
    "print(f'Estimated discount {pred}')"
   ]
  },
  {
   "cell_type": "code",
   "execution_count": null,
   "id": "1e0f5ffe",
   "metadata": {},
   "outputs": [],
   "source": []
  }
 ],
 "metadata": {
  "kernelspec": {
   "display_name": "Python 3",
   "language": "python",
   "name": "python3"
  },
  "language_info": {
   "codemirror_mode": {
    "name": "ipython",
    "version": 3
   },
   "file_extension": ".py",
   "mimetype": "text/x-python",
   "name": "python",
   "nbconvert_exporter": "python",
   "pygments_lexer": "ipython3",
   "version": "3.8.10"
  },
  "toc": {
   "base_numbering": 1,
   "nav_menu": {},
   "number_sections": true,
   "sideBar": true,
   "skip_h1_title": true,
   "title_cell": "Table of Contents",
   "title_sidebar": "Contents",
   "toc_cell": false,
   "toc_position": {},
   "toc_section_display": true,
   "toc_window_display": true
  }
 },
 "nbformat": 4,
 "nbformat_minor": 5
}
