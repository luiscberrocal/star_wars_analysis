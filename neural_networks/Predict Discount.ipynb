{
 "cells": [
  {
   "cell_type": "markdown",
   "id": "dfb70cf9",
   "metadata": {},
   "source": [
    "# Predict Discount Based on Age"
   ]
  },
  {
   "cell_type": "code",
   "execution_count": 19,
   "id": "9f8858f0",
   "metadata": {},
   "outputs": [],
   "source": [
    "from random import randrange, choice\n",
    "import os\n",
    "import pandas as pd\n",
    "import tensorflow as tf\n",
    "import matplotlib.pyplot as plt\n",
    "\n",
    "from sklearn.preprocessing import MinMaxScaler"
   ]
  },
  {
   "cell_type": "markdown",
   "id": "27af409c",
   "metadata": {},
   "source": [
    "\n",
    "## Create Data"
   ]
  },
  {
   "cell_type": "code",
   "execution_count": 2,
   "id": "5d2551d2",
   "metadata": {},
   "outputs": [],
   "source": [
    "sample_size =10000\n",
    "data_file = f'../data/discount_data_{sample_size}.xlsx'\n",
    "\n",
    "business_list = ['bar', 'restaurant', 'hotel', 'pharmacy', 'spa', 'airline']\n",
    "\n",
    "\n",
    "def calculate_discount(age, sex, business_type, is_resident):\n",
    "    business_discounts = dict()\n",
    "    business_discounts['restaurant'] = 0.2\n",
    "    business_discounts['pharmacy'] = 0.2\n",
    "    business_discounts['hotel'] = 0.25\n",
    "    \n",
    "    if sex == 'M' and age >= 64 and is_resident:\n",
    "        return business_discounts.get(business_type, 0.0)\n",
    "    elif sex == 'F' and age >= 57 and is_resident:\n",
    "        return business_discounts.get(business_type, 0.0)\n",
    "    else:\n",
    "        return 0.0\n",
    "    \n",
    "def build_dataframe(samples):\n",
    "\n",
    "    data = dict()\n",
    "    data['sex'] = list()\n",
    "    data['age'] = list()\n",
    "    data['business_type'] = list()\n",
    "    data['discount'] = list()\n",
    "    data['is_resident'] = list()\n",
    "    for i in range(samples):\n",
    "        age = randrange(18, 95, 1)\n",
    "        sex = choice(['M', 'F'])\n",
    "        business_type = choice(business_list)\n",
    "        is_resident =  choice([True, False])\n",
    "        discount = calculate_discount(age, sex, business_type, is_resident)\n",
    "        #print(f'{sex} age {age} for {business_type}')\n",
    "        data['sex'].append(sex)\n",
    "        data['age'].append(age)\n",
    "        data['business_type'].append(business_type)\n",
    "        data['discount'].append(discount)\n",
    "        data['is_resident'].append(is_resident)\n",
    "\n",
    "        df = pd.DataFrame.from_dict(data)\n",
    "    return df\n",
    "    \n"
   ]
  },
  {
   "cell_type": "code",
   "execution_count": 3,
   "id": "6d634947",
   "metadata": {},
   "outputs": [
    {
     "name": "stdout",
     "output_type": "stream",
     "text": [
      "Loaded from ../data/discount_data_10000.xlsx\n"
     ]
    }
   ],
   "source": [
    "if os.path.exists(data_file):\n",
    "    df = pd.read_excel(data_file)\n",
    "    print(f'Loaded from {data_file}')\n",
    "else:\n",
    "    df = build_dataframe(sample_size)\n",
    "    df.to_excel(data_file, index=False)\n",
    "    print(f'Saved to {data_file}')"
   ]
  },
  {
   "cell_type": "code",
   "execution_count": 4,
   "id": "17c32886",
   "metadata": {},
   "outputs": [
    {
     "name": "stdout",
     "output_type": "stream",
     "text": [
      "Shape: (10000, 5)\n"
     ]
    },
    {
     "data": {
      "text/html": [
       "<div>\n",
       "<style scoped>\n",
       "    .dataframe tbody tr th:only-of-type {\n",
       "        vertical-align: middle;\n",
       "    }\n",
       "\n",
       "    .dataframe tbody tr th {\n",
       "        vertical-align: top;\n",
       "    }\n",
       "\n",
       "    .dataframe thead th {\n",
       "        text-align: right;\n",
       "    }\n",
       "</style>\n",
       "<table border=\"1\" class=\"dataframe\">\n",
       "  <thead>\n",
       "    <tr style=\"text-align: right;\">\n",
       "      <th></th>\n",
       "      <th>sex</th>\n",
       "      <th>age</th>\n",
       "      <th>business_type</th>\n",
       "      <th>discount</th>\n",
       "      <th>is_resident</th>\n",
       "    </tr>\n",
       "  </thead>\n",
       "  <tbody>\n",
       "    <tr>\n",
       "      <th>0</th>\n",
       "      <td>F</td>\n",
       "      <td>78</td>\n",
       "      <td>bar</td>\n",
       "      <td>0.0</td>\n",
       "      <td>True</td>\n",
       "    </tr>\n",
       "    <tr>\n",
       "      <th>1</th>\n",
       "      <td>F</td>\n",
       "      <td>24</td>\n",
       "      <td>bar</td>\n",
       "      <td>0.0</td>\n",
       "      <td>False</td>\n",
       "    </tr>\n",
       "    <tr>\n",
       "      <th>2</th>\n",
       "      <td>F</td>\n",
       "      <td>45</td>\n",
       "      <td>bar</td>\n",
       "      <td>0.0</td>\n",
       "      <td>True</td>\n",
       "    </tr>\n",
       "    <tr>\n",
       "      <th>3</th>\n",
       "      <td>F</td>\n",
       "      <td>21</td>\n",
       "      <td>pharmacy</td>\n",
       "      <td>0.0</td>\n",
       "      <td>False</td>\n",
       "    </tr>\n",
       "    <tr>\n",
       "      <th>4</th>\n",
       "      <td>F</td>\n",
       "      <td>45</td>\n",
       "      <td>pharmacy</td>\n",
       "      <td>0.0</td>\n",
       "      <td>False</td>\n",
       "    </tr>\n",
       "  </tbody>\n",
       "</table>\n",
       "</div>"
      ],
      "text/plain": [
       "  sex  age business_type  discount  is_resident\n",
       "0   F   78           bar       0.0         True\n",
       "1   F   24           bar       0.0        False\n",
       "2   F   45           bar       0.0         True\n",
       "3   F   21      pharmacy       0.0        False\n",
       "4   F   45      pharmacy       0.0        False"
      ]
     },
     "execution_count": 4,
     "metadata": {},
     "output_type": "execute_result"
    }
   ],
   "source": [
    "print(f'Shape: {df.shape}')\n",
    "df.head()"
   ]
  },
  {
   "cell_type": "markdown",
   "id": "daea75cb",
   "metadata": {},
   "source": [
    "## Cleanup\n",
    "\n",
    "\n",
    "### Separate dependent and independent variables"
   ]
  },
  {
   "cell_type": "code",
   "execution_count": 5,
   "id": "61f84a91",
   "metadata": {},
   "outputs": [
    {
     "name": "stdout",
     "output_type": "stream",
     "text": [
      "discount shape: (10000,)\n"
     ]
    },
    {
     "data": {
      "text/html": [
       "<div>\n",
       "<style scoped>\n",
       "    .dataframe tbody tr th:only-of-type {\n",
       "        vertical-align: middle;\n",
       "    }\n",
       "\n",
       "    .dataframe tbody tr th {\n",
       "        vertical-align: top;\n",
       "    }\n",
       "\n",
       "    .dataframe thead th {\n",
       "        text-align: right;\n",
       "    }\n",
       "</style>\n",
       "<table border=\"1\" class=\"dataframe\">\n",
       "  <thead>\n",
       "    <tr style=\"text-align: right;\">\n",
       "      <th></th>\n",
       "      <th>sex</th>\n",
       "      <th>age</th>\n",
       "      <th>business_type</th>\n",
       "      <th>is_resident</th>\n",
       "    </tr>\n",
       "  </thead>\n",
       "  <tbody>\n",
       "    <tr>\n",
       "      <th>0</th>\n",
       "      <td>F</td>\n",
       "      <td>78</td>\n",
       "      <td>bar</td>\n",
       "      <td>True</td>\n",
       "    </tr>\n",
       "    <tr>\n",
       "      <th>1</th>\n",
       "      <td>F</td>\n",
       "      <td>24</td>\n",
       "      <td>bar</td>\n",
       "      <td>False</td>\n",
       "    </tr>\n",
       "    <tr>\n",
       "      <th>2</th>\n",
       "      <td>F</td>\n",
       "      <td>45</td>\n",
       "      <td>bar</td>\n",
       "      <td>True</td>\n",
       "    </tr>\n",
       "    <tr>\n",
       "      <th>3</th>\n",
       "      <td>F</td>\n",
       "      <td>21</td>\n",
       "      <td>pharmacy</td>\n",
       "      <td>False</td>\n",
       "    </tr>\n",
       "    <tr>\n",
       "      <th>4</th>\n",
       "      <td>F</td>\n",
       "      <td>45</td>\n",
       "      <td>pharmacy</td>\n",
       "      <td>False</td>\n",
       "    </tr>\n",
       "  </tbody>\n",
       "</table>\n",
       "</div>"
      ],
      "text/plain": [
       "  sex  age business_type  is_resident\n",
       "0   F   78           bar         True\n",
       "1   F   24           bar        False\n",
       "2   F   45           bar         True\n",
       "3   F   21      pharmacy        False\n",
       "4   F   45      pharmacy        False"
      ]
     },
     "execution_count": 5,
     "metadata": {},
     "output_type": "execute_result"
    }
   ],
   "source": [
    "discounts = df['discount'].copy()\n",
    "df.drop(columns=['discount',], inplace=True)\n",
    "\n",
    "print(f'discount shape: {discounts.shape}')\n",
    "\n",
    "df.head()"
   ]
  },
  {
   "cell_type": "markdown",
   "id": "e0138181",
   "metadata": {},
   "source": [
    "### Hot One Encode"
   ]
  },
  {
   "cell_type": "code",
   "execution_count": 6,
   "id": "cca71f42",
   "metadata": {},
   "outputs": [],
   "source": [
    "df = pd.get_dummies(df, columns=['sex', 'business_type'])\n"
   ]
  },
  {
   "cell_type": "code",
   "execution_count": 7,
   "id": "fddcbb41",
   "metadata": {},
   "outputs": [],
   "source": [
    "\n",
    "\n",
    "df['is_resident'].replace({False: 0, True: 1}, inplace=True)"
   ]
  },
  {
   "cell_type": "markdown",
   "id": "f05ce50b",
   "metadata": {},
   "source": [
    "### Scaling age"
   ]
  },
  {
   "cell_type": "code",
   "execution_count": 23,
   "id": "d443a75e",
   "metadata": {},
   "outputs": [
    {
     "name": "stdout",
     "output_type": "stream",
     "text": [
      "[[0.78947368]\n",
      " [0.07894737]\n",
      " [0.35526316]\n",
      " ...\n",
      " [0.60526316]\n",
      " [0.89473684]\n",
      " [0.11842105]]\n"
     ]
    }
   ],
   "source": [
    "scaler = MinMaxScaler()\n",
    "df['age'] = scaler.fit_transform(df['age'].values.reshape(-1, 1))\n"
   ]
  },
  {
   "cell_type": "code",
   "execution_count": 8,
   "id": "029f4eed",
   "metadata": {},
   "outputs": [
    {
     "name": "stdout",
     "output_type": "stream",
     "text": [
      "Shape: (10000, 10)\n"
     ]
    },
    {
     "data": {
      "text/html": [
       "<div>\n",
       "<style scoped>\n",
       "    .dataframe tbody tr th:only-of-type {\n",
       "        vertical-align: middle;\n",
       "    }\n",
       "\n",
       "    .dataframe tbody tr th {\n",
       "        vertical-align: top;\n",
       "    }\n",
       "\n",
       "    .dataframe thead th {\n",
       "        text-align: right;\n",
       "    }\n",
       "</style>\n",
       "<table border=\"1\" class=\"dataframe\">\n",
       "  <thead>\n",
       "    <tr style=\"text-align: right;\">\n",
       "      <th></th>\n",
       "      <th>age</th>\n",
       "      <th>is_resident</th>\n",
       "      <th>sex_F</th>\n",
       "      <th>sex_M</th>\n",
       "      <th>business_type_airline</th>\n",
       "      <th>business_type_bar</th>\n",
       "      <th>business_type_hotel</th>\n",
       "      <th>business_type_pharmacy</th>\n",
       "      <th>business_type_restaurant</th>\n",
       "      <th>business_type_spa</th>\n",
       "    </tr>\n",
       "  </thead>\n",
       "  <tbody>\n",
       "    <tr>\n",
       "      <th>0</th>\n",
       "      <td>78</td>\n",
       "      <td>1</td>\n",
       "      <td>1</td>\n",
       "      <td>0</td>\n",
       "      <td>0</td>\n",
       "      <td>1</td>\n",
       "      <td>0</td>\n",
       "      <td>0</td>\n",
       "      <td>0</td>\n",
       "      <td>0</td>\n",
       "    </tr>\n",
       "    <tr>\n",
       "      <th>1</th>\n",
       "      <td>24</td>\n",
       "      <td>0</td>\n",
       "      <td>1</td>\n",
       "      <td>0</td>\n",
       "      <td>0</td>\n",
       "      <td>1</td>\n",
       "      <td>0</td>\n",
       "      <td>0</td>\n",
       "      <td>0</td>\n",
       "      <td>0</td>\n",
       "    </tr>\n",
       "    <tr>\n",
       "      <th>2</th>\n",
       "      <td>45</td>\n",
       "      <td>1</td>\n",
       "      <td>1</td>\n",
       "      <td>0</td>\n",
       "      <td>0</td>\n",
       "      <td>1</td>\n",
       "      <td>0</td>\n",
       "      <td>0</td>\n",
       "      <td>0</td>\n",
       "      <td>0</td>\n",
       "    </tr>\n",
       "    <tr>\n",
       "      <th>3</th>\n",
       "      <td>21</td>\n",
       "      <td>0</td>\n",
       "      <td>1</td>\n",
       "      <td>0</td>\n",
       "      <td>0</td>\n",
       "      <td>0</td>\n",
       "      <td>0</td>\n",
       "      <td>1</td>\n",
       "      <td>0</td>\n",
       "      <td>0</td>\n",
       "    </tr>\n",
       "    <tr>\n",
       "      <th>4</th>\n",
       "      <td>45</td>\n",
       "      <td>0</td>\n",
       "      <td>1</td>\n",
       "      <td>0</td>\n",
       "      <td>0</td>\n",
       "      <td>0</td>\n",
       "      <td>0</td>\n",
       "      <td>1</td>\n",
       "      <td>0</td>\n",
       "      <td>0</td>\n",
       "    </tr>\n",
       "  </tbody>\n",
       "</table>\n",
       "</div>"
      ],
      "text/plain": [
       "   age  is_resident  sex_F  sex_M  business_type_airline  business_type_bar  \\\n",
       "0   78            1      1      0                      0                  1   \n",
       "1   24            0      1      0                      0                  1   \n",
       "2   45            1      1      0                      0                  1   \n",
       "3   21            0      1      0                      0                  0   \n",
       "4   45            0      1      0                      0                  0   \n",
       "\n",
       "   business_type_hotel  business_type_pharmacy  business_type_restaurant  \\\n",
       "0                    0                       0                         0   \n",
       "1                    0                       0                         0   \n",
       "2                    0                       0                         0   \n",
       "3                    0                       1                         0   \n",
       "4                    0                       1                         0   \n",
       "\n",
       "   business_type_spa  \n",
       "0                  0  \n",
       "1                  0  \n",
       "2                  0  \n",
       "3                  0  \n",
       "4                  0  "
      ]
     },
     "execution_count": 8,
     "metadata": {},
     "output_type": "execute_result"
    }
   ],
   "source": [
    "print(f'Shape: {df.shape}')\n",
    "df.head()"
   ]
  },
  {
   "cell_type": "markdown",
   "id": "96cd8b30",
   "metadata": {},
   "source": [
    "## Basic Neuronal Network\n"
   ]
  },
  {
   "cell_type": "code",
   "execution_count": 9,
   "id": "5578856f",
   "metadata": {},
   "outputs": [],
   "source": [
    "learning_rate = 0.01\n",
    "input_layer = tf.keras.layers.Dense(units=1, input_shape=[df.shape[1]])\n",
    "hidden_layer = tf.keras.layers.Dense(units=256)\n",
    "output_layer = tf.keras.layers.Dense(units=1)"
   ]
  },
  {
   "cell_type": "code",
   "execution_count": 10,
   "id": "3968959e",
   "metadata": {},
   "outputs": [],
   "source": [
    "model = tf.keras.models.Sequential()\n",
    "\n",
    "model.add(input_layer)\n",
    "model.add(hidden_layer)\n",
    "model.add(output_layer)\n"
   ]
  },
  {
   "cell_type": "code",
   "execution_count": 11,
   "id": "aa4f8c90",
   "metadata": {},
   "outputs": [],
   "source": [
    "model.compile(\n",
    "    optimizer=tf.keras.optimizers.Adam(learning_rate),\n",
    "    loss='mean_squared_error',\n",
    "    #metrics=['accuracy']\n",
    ")"
   ]
  },
  {
   "cell_type": "code",
   "execution_count": 12,
   "id": "b43f989b",
   "metadata": {},
   "outputs": [
    {
     "name": "stdout",
     "output_type": "stream",
     "text": [
      "Epoch 1/20\n",
      "313/313 [==============================] - 1s 733us/step - loss: 0.0069\n",
      "Epoch 2/20\n",
      "313/313 [==============================] - 0s 773us/step - loss: 0.0033\n",
      "Epoch 3/20\n",
      "313/313 [==============================] - 0s 797us/step - loss: 0.0032\n",
      "Epoch 4/20\n",
      "313/313 [==============================] - 0s 791us/step - loss: 0.0033\n",
      "Epoch 5/20\n",
      "313/313 [==============================] - 0s 792us/step - loss: 0.0033\n",
      "Epoch 6/20\n",
      "313/313 [==============================] - 0s 770us/step - loss: 0.0032\n",
      "Epoch 7/20\n",
      "313/313 [==============================] - 0s 758us/step - loss: 0.0031\n",
      "Epoch 8/20\n",
      "313/313 [==============================] - 0s 752us/step - loss: 0.0031\n",
      "Epoch 9/20\n",
      "313/313 [==============================] - 0s 755us/step - loss: 0.0031\n",
      "Epoch 10/20\n",
      "313/313 [==============================] - 0s 771us/step - loss: 0.0032\n",
      "Epoch 11/20\n",
      "313/313 [==============================] - 0s 775us/step - loss: 0.0031\n",
      "Epoch 12/20\n",
      "313/313 [==============================] - 0s 741us/step - loss: 0.0032\n",
      "Epoch 13/20\n",
      "313/313 [==============================] - 0s 770us/step - loss: 0.0031\n",
      "Epoch 14/20\n",
      "313/313 [==============================] - 0s 774us/step - loss: 0.0031\n",
      "Epoch 15/20\n",
      "313/313 [==============================] - 0s 757us/step - loss: 0.0031\n",
      "Epoch 16/20\n",
      "313/313 [==============================] - 0s 761us/step - loss: 0.0032\n",
      "Epoch 17/20\n",
      "313/313 [==============================] - 0s 737us/step - loss: 0.0031\n",
      "Epoch 18/20\n",
      "313/313 [==============================] - 0s 758us/step - loss: 0.0031\n",
      "Epoch 19/20\n",
      "313/313 [==============================] - 0s 932us/step - loss: 0.0031\n",
      "Epoch 20/20\n",
      "313/313 [==============================] - 0s 785us/step - loss: 0.0031\n"
     ]
    }
   ],
   "source": [
    "history = model.fit(df.values, discounts.values, epochs=20)"
   ]
  },
  {
   "cell_type": "code",
   "execution_count": 13,
   "id": "109bf6cc",
   "metadata": {},
   "outputs": [
    {
     "name": "stdout",
     "output_type": "stream",
     "text": [
      "{'loss': [0.006869413889944553, 0.0032854846213012934, 0.003162738401442766, 0.0032922797836363316, 0.003289569402113557, 0.00317085231654346, 0.0031385309994220734, 0.003135331440716982, 0.0030684107914566994, 0.003221488557755947, 0.003098523709923029, 0.003195092547684908, 0.003096297150477767, 0.003109806915745139, 0.003133193589746952, 0.003188445931300521, 0.0031461981125175953, 0.0031182041857391596, 0.003070761915296316, 0.003146819304674864]}\n"
     ]
    }
   ],
   "source": [
    "print(history.history)"
   ]
  },
  {
   "cell_type": "code",
   "execution_count": 14,
   "id": "72678f4e",
   "metadata": {},
   "outputs": [
    {
     "data": {
      "text/plain": [
       "<function matplotlib.pyplot.show(close=None, block=None)>"
      ]
     },
     "execution_count": 14,
     "metadata": {},
     "output_type": "execute_result"
    },
    {
     "data": {
      "image/png": "[encoded data removed]",
      "text/plain": [
       "<Figure size 432x288 with 1 Axes>"
      ]
     },
     "metadata": {
      "needs_background": "light"
     },
     "output_type": "display_data"
    }
   ],
   "source": [
    "plt.xlabel('Epoch')\n",
    "plt.ylabel('Loss')\n",
    "plt.plot(history.history['loss'])\n",
    "plt.show"
   ]
  },
  {
   "cell_type": "code",
   "execution_count": 15,
   "id": "496e64e3",
   "metadata": {},
   "outputs": [
    {
     "name": "stdout",
     "output_type": "stream",
     "text": [
      "36\n"
     ]
    }
   ],
   "source": [
    "df_values = df.values\n",
    "disc_value = discounts.values\n",
    "\n",
    "for i in range(500):\n",
    "    if disc_value[i] > 0.0:\n",
    "        print(i)\n",
    "        break"
   ]
  },
  {
   "cell_type": "code",
   "execution_count": 16,
   "id": "e68e323e",
   "metadata": {},
   "outputs": [
    {
     "name": "stdout",
     "output_type": "stream",
     "text": [
      "[[88  1  1  0  0  0  0  1  0  0]]\n",
      "0.2\n"
     ]
    }
   ],
   "source": [
    "print(df_values[36].reshape(1,10))\n",
    "print(disc_value[36])"
   ]
  },
  {
   "cell_type": "code",
   "execution_count": 17,
   "id": "349fcd36",
   "metadata": {},
   "outputs": [
    {
     "name": "stdout",
     "output_type": "stream",
     "text": [
      "Estimated discount [[0.0992506]]\n"
     ]
    }
   ],
   "source": [
    "pred = model.predict(df_values[36].reshape(1,10))\n",
    "\n",
    "print(f'Estimated discount {pred}')"
   ]
  },
  {
   "cell_type": "code",
   "execution_count": 18,
   "id": "b2579607",
   "metadata": {},
   "outputs": [
    {
     "name": "stdout",
     "output_type": "stream",
     "text": [
      "Estimated discount [[0.05884374]]\n"
     ]
    }
   ],
   "source": [
    "pred = model.predict(df_values[0].reshape(1,10))\n",
    "\n",
    "print(f'Estimated discount {pred}')"
   ]
  },
  {
   "cell_type": "code",
   "execution_count": null,
   "id": "bc398651",
   "metadata": {},
   "outputs": [],
   "source": []
  }
 ],
 "metadata": {
  "kernelspec": {
   "display_name": "Python 3",
   "language": "python",
   "name": "python3"
  },
  "language_info": {
   "codemirror_mode": {
    "name": "ipython",
    "version": 3
   },
   "file_extension": ".py",
   "mimetype": "text/x-python",
   "name": "python",
   "nbconvert_exporter": "python",
   "pygments_lexer": "ipython3",
   "version": "3.8.10"
  },
  "toc": {
   "base_numbering": 1,
   "nav_menu": {},
   "number_sections": true,
   "sideBar": true,
   "skip_h1_title": true,
   "title_cell": "Table of Contents",
   "title_sidebar": "Contents",
   "toc_cell": false,
   "toc_position": {},
   "toc_section_display": true,
   "toc_window_display": true
  }
 },
 "nbformat": 4,
 "nbformat_minor": 5
}
